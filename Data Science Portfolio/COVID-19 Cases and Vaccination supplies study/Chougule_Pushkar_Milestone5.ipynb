{
 "cells": [
  {
   "cell_type": "code",
   "execution_count": 1,
   "metadata": {},
   "outputs": [],
   "source": [
    "## import pandas library for reading data and processing it\n",
    "## import numpy for numeric data processing\n",
    "## import seaborn library for heatmap / correlation map\n",
    "## import matplotlib library for drawing plots\n",
    "## import sqlite3 for database creation and related operations\n",
    "\n",
    "import pandas as pd\n",
    "import numpy as np\n",
    "import seaborn as sns\n",
    "import matplotlib.pyplot as plt\n",
    "%matplotlib inline\n",
    "\n",
    "import sqlite3\n",
    "\n",
    "## import warnings so we can ignore the warning messages, if required\n",
    "import warnings\n",
    "warnings.filterwarnings(\"ignore\")"
   ]
  },
  {
   "cell_type": "markdown",
   "metadata": {},
   "source": [
    "# Import csv source data from formatted / cleaned csv from previous milestone"
   ]
  },
  {
   "cell_type": "code",
   "execution_count": 2,
   "metadata": {},
   "outputs": [],
   "source": [
    "# read the csv file into a dataframe\n",
    "\n",
    "csv_df = pd.read_csv('Covid_csv_data.csv')"
   ]
  },
  {
   "cell_type": "code",
   "execution_count": 3,
   "metadata": {},
   "outputs": [
    {
     "data": {
      "text/plain": [
       "Index(['CTRY_State', 'Health_Cond_Grp', 'Health_Cond', 'Age_Grp',\n",
       "       'COVID_Deaths'],\n",
       "      dtype='object')"
      ]
     },
     "execution_count": 3,
     "metadata": {},
     "output_type": "execute_result"
    }
   ],
   "source": [
    "## List out the column names present in the csv\n",
    "\n",
    "csv_df.columns"
   ]
  },
  {
   "cell_type": "code",
   "execution_count": 4,
   "metadata": {
    "scrolled": true
   },
   "outputs": [
    {
     "data": {
      "text/html": [
       "<div>\n",
       "<style scoped>\n",
       "    .dataframe tbody tr th:only-of-type {\n",
       "        vertical-align: middle;\n",
       "    }\n",
       "\n",
       "    .dataframe tbody tr th {\n",
       "        vertical-align: top;\n",
       "    }\n",
       "\n",
       "    .dataframe thead th {\n",
       "        text-align: right;\n",
       "    }\n",
       "</style>\n",
       "<table border=\"1\" class=\"dataframe\">\n",
       "  <thead>\n",
       "    <tr style=\"text-align: right;\">\n",
       "      <th></th>\n",
       "      <th>CTRY_State</th>\n",
       "      <th>Health_Cond_Grp</th>\n",
       "      <th>Health_Cond</th>\n",
       "      <th>Age_Grp</th>\n",
       "      <th>COVID_Deaths</th>\n",
       "    </tr>\n",
       "  </thead>\n",
       "  <tbody>\n",
       "    <tr>\n",
       "      <th>0</th>\n",
       "      <td>AL</td>\n",
       "      <td>COVID-19</td>\n",
       "      <td>COVID-19</td>\n",
       "      <td>All Ages</td>\n",
       "      <td>8582.0</td>\n",
       "    </tr>\n",
       "    <tr>\n",
       "      <th>1</th>\n",
       "      <td>AK</td>\n",
       "      <td>COVID-19</td>\n",
       "      <td>COVID-19</td>\n",
       "      <td>All Ages</td>\n",
       "      <td>271.0</td>\n",
       "    </tr>\n",
       "    <tr>\n",
       "      <th>2</th>\n",
       "      <td>AZ</td>\n",
       "      <td>COVID-19</td>\n",
       "      <td>COVID-19</td>\n",
       "      <td>All Ages</td>\n",
       "      <td>12953.0</td>\n",
       "    </tr>\n",
       "    <tr>\n",
       "      <th>3</th>\n",
       "      <td>AR</td>\n",
       "      <td>COVID-19</td>\n",
       "      <td>COVID-19</td>\n",
       "      <td>All Ages</td>\n",
       "      <td>5048.0</td>\n",
       "    </tr>\n",
       "    <tr>\n",
       "      <th>4</th>\n",
       "      <td>CA</td>\n",
       "      <td>COVID-19</td>\n",
       "      <td>COVID-19</td>\n",
       "      <td>All Ages</td>\n",
       "      <td>46722.0</td>\n",
       "    </tr>\n",
       "  </tbody>\n",
       "</table>\n",
       "</div>"
      ],
      "text/plain": [
       "  CTRY_State Health_Cond_Grp Health_Cond   Age_Grp  COVID_Deaths\n",
       "0         AL        COVID-19    COVID-19  All Ages        8582.0\n",
       "1         AK        COVID-19    COVID-19  All Ages         271.0\n",
       "2         AZ        COVID-19    COVID-19  All Ages       12953.0\n",
       "3         AR        COVID-19    COVID-19  All Ages        5048.0\n",
       "4         CA        COVID-19    COVID-19  All Ages       46722.0"
      ]
     },
     "execution_count": 4,
     "metadata": {},
     "output_type": "execute_result"
    }
   ],
   "source": [
    "## display the initial part of the data rows in the dataframe\n",
    "\n",
    "csv_df.head()"
   ]
  },
  {
   "cell_type": "code",
   "execution_count": 5,
   "metadata": {},
   "outputs": [
    {
     "data": {
      "text/plain": [
       "(52, 5)"
      ]
     },
     "execution_count": 5,
     "metadata": {},
     "output_type": "execute_result"
    }
   ],
   "source": [
    "## Check the size of the DataFrame\n",
    "\n",
    "csv_df.shape"
   ]
  },
  {
   "cell_type": "markdown",
   "metadata": {},
   "source": [
    "## ========================================================================="
   ]
  },
  {
   "cell_type": "markdown",
   "metadata": {},
   "source": [
    "# Import html source data from formatted / cleaned excel from previous milestone"
   ]
  },
  {
   "cell_type": "code",
   "execution_count": 6,
   "metadata": {},
   "outputs": [],
   "source": [
    "# read the csv file into a dataframe\n",
    "\n",
    "html_df = pd.read_excel('Covid_html_data.xlsx')"
   ]
  },
  {
   "cell_type": "code",
   "execution_count": 7,
   "metadata": {},
   "outputs": [
    {
     "data": {
      "text/plain": [
       "Index(['State_CD', 'State', 'Cases', 'Deaths', 'Recovery', 'Hospitalized'], dtype='object')"
      ]
     },
     "execution_count": 7,
     "metadata": {},
     "output_type": "execute_result"
    }
   ],
   "source": [
    "## List out the column names present in the csv\n",
    "\n",
    "html_df.columns"
   ]
  },
  {
   "cell_type": "code",
   "execution_count": 8,
   "metadata": {
    "scrolled": true
   },
   "outputs": [
    {
     "data": {
      "text/html": [
       "<div>\n",
       "<style scoped>\n",
       "    .dataframe tbody tr th:only-of-type {\n",
       "        vertical-align: middle;\n",
       "    }\n",
       "\n",
       "    .dataframe tbody tr th {\n",
       "        vertical-align: top;\n",
       "    }\n",
       "\n",
       "    .dataframe thead th {\n",
       "        text-align: right;\n",
       "    }\n",
       "</style>\n",
       "<table border=\"1\" class=\"dataframe\">\n",
       "  <thead>\n",
       "    <tr style=\"text-align: right;\">\n",
       "      <th></th>\n",
       "      <th>State_CD</th>\n",
       "      <th>State</th>\n",
       "      <th>Cases</th>\n",
       "      <th>Deaths</th>\n",
       "      <th>Recovery</th>\n",
       "      <th>Hospitalized</th>\n",
       "    </tr>\n",
       "  </thead>\n",
       "  <tbody>\n",
       "    <tr>\n",
       "      <th>0</th>\n",
       "      <td>AL</td>\n",
       "      <td>Alabama</td>\n",
       "      <td>488973</td>\n",
       "      <td>9660</td>\n",
       "      <td>275245</td>\n",
       "      <td>45250</td>\n",
       "    </tr>\n",
       "    <tr>\n",
       "      <th>1</th>\n",
       "      <td>AK</td>\n",
       "      <td>Alaska</td>\n",
       "      <td>55560</td>\n",
       "      <td>290</td>\n",
       "      <td>7165</td>\n",
       "      <td>1260</td>\n",
       "    </tr>\n",
       "    <tr>\n",
       "      <th>2</th>\n",
       "      <td>AS</td>\n",
       "      <td>American Samoa</td>\n",
       "      <td>3</td>\n",
       "      <td>0</td>\n",
       "      <td>0</td>\n",
       "      <td>0</td>\n",
       "    </tr>\n",
       "    <tr>\n",
       "      <th>3</th>\n",
       "      <td>AZ</td>\n",
       "      <td>Arizona</td>\n",
       "      <td>810658</td>\n",
       "      <td>15650</td>\n",
       "      <td>0</td>\n",
       "      <td>57072</td>\n",
       "    </tr>\n",
       "    <tr>\n",
       "      <th>4</th>\n",
       "      <td>AR</td>\n",
       "      <td>Arkansas</td>\n",
       "      <td>316593</td>\n",
       "      <td>5377</td>\n",
       "      <td>306382</td>\n",
       "      <td>14617</td>\n",
       "    </tr>\n",
       "  </tbody>\n",
       "</table>\n",
       "</div>"
      ],
      "text/plain": [
       "  State_CD           State   Cases  Deaths  Recovery  Hospitalized\n",
       "0       AL         Alabama  488973    9660    275245         45250\n",
       "1       AK          Alaska   55560     290      7165          1260\n",
       "2       AS  American Samoa       3       0         0             0\n",
       "3       AZ         Arizona  810658   15650         0         57072\n",
       "4       AR        Arkansas  316593    5377    306382         14617"
      ]
     },
     "execution_count": 8,
     "metadata": {},
     "output_type": "execute_result"
    }
   ],
   "source": [
    "## display the initial part of the data rows in the dataframe\n",
    "\n",
    "html_df.head()"
   ]
  },
  {
   "cell_type": "code",
   "execution_count": 9,
   "metadata": {},
   "outputs": [
    {
     "data": {
      "text/plain": [
       "(56, 6)"
      ]
     },
     "execution_count": 9,
     "metadata": {},
     "output_type": "execute_result"
    }
   ],
   "source": [
    "## Check the size of the DataFrame\n",
    "\n",
    "html_df.shape"
   ]
  },
  {
   "cell_type": "markdown",
   "metadata": {},
   "source": [
    "## ========================================================================="
   ]
  },
  {
   "cell_type": "markdown",
   "metadata": {},
   "source": [
    "# Import API source data from formatted / cleaned csv from previous milestone"
   ]
  },
  {
   "cell_type": "code",
   "execution_count": 10,
   "metadata": {},
   "outputs": [],
   "source": [
    "# read the csv file into a dataframe\n",
    "\n",
    "api_df = pd.read_csv('Covid_api_data.csv')"
   ]
  },
  {
   "cell_type": "code",
   "execution_count": 11,
   "metadata": {},
   "outputs": [
    {
     "data": {
      "text/plain": [
       "Index(['State', 'Total_Combined_Doses', 'CTRY', 'State_CD'], dtype='object')"
      ]
     },
     "execution_count": 11,
     "metadata": {},
     "output_type": "execute_result"
    }
   ],
   "source": [
    "## List out the column names present in the csv\n",
    "\n",
    "api_df.columns"
   ]
  },
  {
   "cell_type": "code",
   "execution_count": 12,
   "metadata": {
    "scrolled": true
   },
   "outputs": [
    {
     "data": {
      "text/html": [
       "<div>\n",
       "<style scoped>\n",
       "    .dataframe tbody tr th:only-of-type {\n",
       "        vertical-align: middle;\n",
       "    }\n",
       "\n",
       "    .dataframe tbody tr th {\n",
       "        vertical-align: top;\n",
       "    }\n",
       "\n",
       "    .dataframe thead th {\n",
       "        text-align: right;\n",
       "    }\n",
       "</style>\n",
       "<table border=\"1\" class=\"dataframe\">\n",
       "  <thead>\n",
       "    <tr style=\"text-align: right;\">\n",
       "      <th></th>\n",
       "      <th>State</th>\n",
       "      <th>Total_Combined_Doses</th>\n",
       "      <th>CTRY</th>\n",
       "      <th>State_CD</th>\n",
       "    </tr>\n",
       "  </thead>\n",
       "  <tbody>\n",
       "    <tr>\n",
       "      <th>0</th>\n",
       "      <td>Alabama</td>\n",
       "      <td>881110</td>\n",
       "      <td>US</td>\n",
       "      <td>AL</td>\n",
       "    </tr>\n",
       "    <tr>\n",
       "      <th>1</th>\n",
       "      <td>Alaska</td>\n",
       "      <td>277520</td>\n",
       "      <td>US</td>\n",
       "      <td>AK</td>\n",
       "    </tr>\n",
       "    <tr>\n",
       "      <th>2</th>\n",
       "      <td>American Samoa</td>\n",
       "      <td>43210</td>\n",
       "      <td>US</td>\n",
       "      <td>AS</td>\n",
       "    </tr>\n",
       "    <tr>\n",
       "      <th>3</th>\n",
       "      <td>Arizona</td>\n",
       "      <td>1252220</td>\n",
       "      <td>US</td>\n",
       "      <td>AZ</td>\n",
       "    </tr>\n",
       "    <tr>\n",
       "      <th>4</th>\n",
       "      <td>Arkansas</td>\n",
       "      <td>539430</td>\n",
       "      <td>US</td>\n",
       "      <td>AR</td>\n",
       "    </tr>\n",
       "  </tbody>\n",
       "</table>\n",
       "</div>"
      ],
      "text/plain": [
       "            State  Total_Combined_Doses CTRY State_CD\n",
       "0         Alabama                881110   US       AL\n",
       "1          Alaska                277520   US       AK\n",
       "2  American Samoa                 43210   US       AS\n",
       "3         Arizona               1252220   US       AZ\n",
       "4        Arkansas                539430   US       AR"
      ]
     },
     "execution_count": 12,
     "metadata": {},
     "output_type": "execute_result"
    }
   ],
   "source": [
    "## display the initial part of the data rows in the dataframe\n",
    "\n",
    "api_df.head()"
   ]
  },
  {
   "cell_type": "code",
   "execution_count": 13,
   "metadata": {},
   "outputs": [
    {
     "data": {
      "text/plain": [
       "(60, 4)"
      ]
     },
     "execution_count": 13,
     "metadata": {},
     "output_type": "execute_result"
    }
   ],
   "source": [
    "## Check the size of the DataFrame\n",
    "\n",
    "api_df.shape"
   ]
  },
  {
   "cell_type": "markdown",
   "metadata": {},
   "source": [
    "## ========================================================================="
   ]
  },
  {
   "cell_type": "markdown",
   "metadata": {},
   "source": [
    "# Load each of the DataFrames into a sqlite3 database tables"
   ]
  },
  {
   "cell_type": "code",
   "execution_count": 14,
   "metadata": {},
   "outputs": [],
   "source": [
    "## create the sqlite3 connection for storing the csv data source Data in a table\n",
    "\n",
    "conn = sqlite3.connect(\"milestone5.db\")"
   ]
  },
  {
   "cell_type": "markdown",
   "metadata": {},
   "source": [
    "### Drop the table if it exists already and then Create table for csv data source Dataframe"
   ]
  },
  {
   "cell_type": "code",
   "execution_count": 15,
   "metadata": {},
   "outputs": [],
   "source": [
    "## if the table exists, we will drop it first and commit the changes before loading the data\n",
    "\n",
    "conn.execute(\"DROP TABLE IF EXISTS csv_tbl\")\n",
    "\n",
    "conn.commit()                 ## commit() will ensure the table is dropped and changes are saved in the database"
   ]
  },
  {
   "cell_type": "code",
   "execution_count": 16,
   "metadata": {},
   "outputs": [],
   "source": [
    "## create a table csv_tbl, if it does not exist, to load the data from csv data source.\n",
    "\n",
    "conn.execute(\"CREATE TABLE IF NOT EXISTS csv_tbl (CTRY_State text, Health_Cond_Grp text, Health_Cond text, Age_Grp text, COVID_Deaths integer)\")\n",
    "\n",
    "conn.commit()                 ## commit() will ensure the table creation is saved in the database"
   ]
  },
  {
   "cell_type": "code",
   "execution_count": 17,
   "metadata": {},
   "outputs": [],
   "source": [
    "## load the csv data source into the table created above. \n",
    "## if_exists='replace' option will replace the data and 'index=False' will ensure index is not loaded as a table column.\n",
    "\n",
    "csv_df.to_sql('csv_tbl', conn, if_exists='replace', index=False)\n",
    "\n",
    "conn.commit()                 ## commit() will ensure the data is loaded and saved in the table"
   ]
  },
  {
   "cell_type": "markdown",
   "metadata": {},
   "source": [
    "### Drop the table if it exists already and then Create table for html data source Dataframe"
   ]
  },
  {
   "cell_type": "code",
   "execution_count": 18,
   "metadata": {},
   "outputs": [],
   "source": [
    "## if the table exists, we will drop it first and commit the changes before loading the data\n",
    "\n",
    "conn.execute(\"DROP TABLE IF EXISTS html_tbl\")\n",
    "\n",
    "conn.commit()                 ## commit() will ensure the table is dropped and changes are saved in the database"
   ]
  },
  {
   "cell_type": "code",
   "execution_count": 19,
   "metadata": {},
   "outputs": [],
   "source": [
    "## create a table html_tbl, if it does not exist, to load the data from csv data source\n",
    "\n",
    "conn.execute(\"CREATE TABLE IF NOT EXISTS html_tbl (State_CD text, State text, Cases integer, Deaths integer, Recovery integer, Hospitalized integer)\")\n",
    "\n",
    "conn.commit()                ## commit() will ensure the table creation is saved in the database"
   ]
  },
  {
   "cell_type": "code",
   "execution_count": 20,
   "metadata": {},
   "outputs": [],
   "source": [
    "## load the html data source into the table created above.\n",
    "## if_exists='replace' option will replace the data and 'index=False' will ensure index is not loaded as a table column.\n",
    "\n",
    "html_df.to_sql('html_tbl', conn, if_exists='replace', index=False)\n",
    "\n",
    "conn.commit()               ## commit() will ensure the data is loaded and saved in the table"
   ]
  },
  {
   "cell_type": "markdown",
   "metadata": {},
   "source": [
    "### Drop the table if it exists already and then Create table for API data source Dataframe"
   ]
  },
  {
   "cell_type": "code",
   "execution_count": 21,
   "metadata": {},
   "outputs": [],
   "source": [
    "## if the table exists, we will drop it first and commit the changes before loading the data\n",
    "\n",
    "conn.execute(\"DROP TABLE IF EXISTS api_tbl\")\n",
    "\n",
    "conn.commit()                 ## commit() will ensure the table is dropped and changes are saved in the database"
   ]
  },
  {
   "cell_type": "code",
   "execution_count": 22,
   "metadata": {},
   "outputs": [],
   "source": [
    "## create a table api_tbl, if it does not exist, to load the data from csv data source\n",
    "\n",
    "conn.execute(\"CREATE TABLE IF NOT EXISTS api_tbl (State text, Total_Combined_Doses integer, CTRY text, State_CD text)\")\n",
    "\n",
    "conn.commit()                ## commit() will ensure the table creation is saved in the database"
   ]
  },
  {
   "cell_type": "code",
   "execution_count": 23,
   "metadata": {},
   "outputs": [],
   "source": [
    "## load the api data source into the table created above.\n",
    "## if_exists='replace' option will replace the data and 'index=False' will ensure index is not loaded as a table column.\n",
    "\n",
    "api_df.to_sql('api_tbl', conn, if_exists='replace', index=False)\n",
    "\n",
    "conn.commit()               ## commit() will ensure the data is loaded and saved in the table"
   ]
  },
  {
   "cell_type": "markdown",
   "metadata": {},
   "source": [
    "## JOIN the three tables from the database and pull the data in DF"
   ]
  },
  {
   "cell_type": "code",
   "execution_count": 24,
   "metadata": {},
   "outputs": [],
   "source": [
    "## While using sqlite3, FULL OUTER JOINs and RIGHT OUTER JOINs are NOT supported. I was getting an error.\n",
    "\n",
    "## So, to ensure that I am able to retain the data from all the DataFrames, I am using LEFT OUTER JOIN.\n",
    "## With LEFT JOIN, we need to be careful to keep the table with most number of records should be first table.\n",
    "## This will be followed up by table with second most number of records and then the third table.\n",
    "## In our case, api_tbl has most number of records amongst three tables - 60 records, followed by html_tbl with 56 records.\n",
    "## The third table is csv_tbl with 52 records.\n",
    "\n",
    "sql1 = \"\"\"\n",
    "        SELECT  a.State_CD, a.Total_Combined_Doses,\n",
    "                h.Cases, h.Recovery, h.Hospitalized,\n",
    "                c.COVID_Deaths\n",
    "        FROM api_tbl a \n",
    "        LEFT OUTER JOIN html_tbl h \n",
    "        ON a.State_CD = h.State_CD \n",
    "        LEFT OUTER JOIN csv_tbl c \n",
    "        on a.State_CD = c.CTRY_State\n",
    "\n",
    "\"\"\"\n",
    "\n",
    "result1 = conn.execute(sql1)"
   ]
  },
  {
   "cell_type": "code",
   "execution_count": 25,
   "metadata": {},
   "outputs": [],
   "source": [
    "## While using sqlite3, FULL OUTER JOINs and RIGHT OUTER JOINs are NOT supported. I was getting an error.\n",
    "\n",
    "## Tried another way as regular JOIN command. It works as INNER JOIN. The sequence of table order may not matter.\n",
    "## But just retained it to be similar to previous sql query.\n",
    "\n",
    "sql2 = \"\"\"\n",
    "        SELECT  a.State_CD, a.Total_Combined_Doses,\n",
    "                h.Cases, h.Recovery, h.Hospitalized,\n",
    "                c.COVID_Deaths\n",
    "        FROM api_tbl a \n",
    "        JOIN html_tbl h \n",
    "        ON a.State_CD = h.State_CD \n",
    "        JOIN csv_tbl c \n",
    "        on a.State_CD = c.CTRY_State\n",
    "\n",
    "\"\"\"\n",
    "\n",
    "result2 = conn.execute(sql2)"
   ]
  },
  {
   "cell_type": "code",
   "execution_count": 26,
   "metadata": {},
   "outputs": [],
   "source": [
    "## create a list of column names to be used for the DataFrame\n",
    "\n",
    "cols = ['State_CD', 'Doses', 'Cases', 'Recovery', 'Hospitalized', 'Deaths']"
   ]
  },
  {
   "cell_type": "code",
   "execution_count": 27,
   "metadata": {},
   "outputs": [],
   "source": [
    "df1 = pd.DataFrame(result1, columns=cols)    ## convert the result set into DataFrame and assign the column names"
   ]
  },
  {
   "cell_type": "code",
   "execution_count": 28,
   "metadata": {
    "scrolled": true
   },
   "outputs": [
    {
     "data": {
      "text/html": [
       "<div>\n",
       "<style scoped>\n",
       "    .dataframe tbody tr th:only-of-type {\n",
       "        vertical-align: middle;\n",
       "    }\n",
       "\n",
       "    .dataframe tbody tr th {\n",
       "        vertical-align: top;\n",
       "    }\n",
       "\n",
       "    .dataframe thead th {\n",
       "        text-align: right;\n",
       "    }\n",
       "</style>\n",
       "<table border=\"1\" class=\"dataframe\">\n",
       "  <thead>\n",
       "    <tr style=\"text-align: right;\">\n",
       "      <th></th>\n",
       "      <th>State_CD</th>\n",
       "      <th>Doses</th>\n",
       "      <th>Cases</th>\n",
       "      <th>Recovery</th>\n",
       "      <th>Hospitalized</th>\n",
       "      <th>Deaths</th>\n",
       "    </tr>\n",
       "  </thead>\n",
       "  <tbody>\n",
       "    <tr>\n",
       "      <th>0</th>\n",
       "      <td>AL</td>\n",
       "      <td>881110</td>\n",
       "      <td>488973.0</td>\n",
       "      <td>275245.0</td>\n",
       "      <td>45250.0</td>\n",
       "      <td>8582.0</td>\n",
       "    </tr>\n",
       "    <tr>\n",
       "      <th>1</th>\n",
       "      <td>AK</td>\n",
       "      <td>277520</td>\n",
       "      <td>55560.0</td>\n",
       "      <td>7165.0</td>\n",
       "      <td>1260.0</td>\n",
       "      <td>271.0</td>\n",
       "    </tr>\n",
       "    <tr>\n",
       "      <th>2</th>\n",
       "      <td>AS</td>\n",
       "      <td>43210</td>\n",
       "      <td>3.0</td>\n",
       "      <td>0.0</td>\n",
       "      <td>0.0</td>\n",
       "      <td>0.0</td>\n",
       "    </tr>\n",
       "    <tr>\n",
       "      <th>3</th>\n",
       "      <td>AZ</td>\n",
       "      <td>1252220</td>\n",
       "      <td>810658.0</td>\n",
       "      <td>0.0</td>\n",
       "      <td>57072.0</td>\n",
       "      <td>12953.0</td>\n",
       "    </tr>\n",
       "    <tr>\n",
       "      <th>4</th>\n",
       "      <td>AR</td>\n",
       "      <td>539430</td>\n",
       "      <td>316593.0</td>\n",
       "      <td>306382.0</td>\n",
       "      <td>14617.0</td>\n",
       "      <td>5048.0</td>\n",
       "    </tr>\n",
       "  </tbody>\n",
       "</table>\n",
       "</div>"
      ],
      "text/plain": [
       "  State_CD    Doses     Cases  Recovery  Hospitalized   Deaths\n",
       "0       AL   881110  488973.0  275245.0       45250.0   8582.0\n",
       "1       AK   277520   55560.0    7165.0        1260.0    271.0\n",
       "2       AS    43210       3.0       0.0           0.0      0.0\n",
       "3       AZ  1252220  810658.0       0.0       57072.0  12953.0\n",
       "4       AR   539430  316593.0  306382.0       14617.0   5048.0"
      ]
     },
     "execution_count": 28,
     "metadata": {},
     "output_type": "execute_result"
    }
   ],
   "source": [
    "df1.fillna(0, inplace=True)            ## fillna(0) to default populate 0 in all the numeric columns\n",
    "\n",
    "df1.head()                             ## display the DataFrame"
   ]
  },
  {
   "cell_type": "code",
   "execution_count": 29,
   "metadata": {},
   "outputs": [],
   "source": [
    "df2 = pd.DataFrame(result2, columns=cols)    ## convert the result set into DataFrame and assign the column names"
   ]
  },
  {
   "cell_type": "code",
   "execution_count": 30,
   "metadata": {},
   "outputs": [
    {
     "data": {
      "text/html": [
       "<div>\n",
       "<style scoped>\n",
       "    .dataframe tbody tr th:only-of-type {\n",
       "        vertical-align: middle;\n",
       "    }\n",
       "\n",
       "    .dataframe tbody tr th {\n",
       "        vertical-align: top;\n",
       "    }\n",
       "\n",
       "    .dataframe thead th {\n",
       "        text-align: right;\n",
       "    }\n",
       "</style>\n",
       "<table border=\"1\" class=\"dataframe\">\n",
       "  <thead>\n",
       "    <tr style=\"text-align: right;\">\n",
       "      <th></th>\n",
       "      <th>State_CD</th>\n",
       "      <th>Doses</th>\n",
       "      <th>Cases</th>\n",
       "      <th>Recovery</th>\n",
       "      <th>Hospitalized</th>\n",
       "      <th>Deaths</th>\n",
       "    </tr>\n",
       "  </thead>\n",
       "  <tbody>\n",
       "    <tr>\n",
       "      <th>0</th>\n",
       "      <td>AL</td>\n",
       "      <td>881110</td>\n",
       "      <td>488973</td>\n",
       "      <td>275245</td>\n",
       "      <td>45250</td>\n",
       "      <td>8582.0</td>\n",
       "    </tr>\n",
       "    <tr>\n",
       "      <th>1</th>\n",
       "      <td>AK</td>\n",
       "      <td>277520</td>\n",
       "      <td>55560</td>\n",
       "      <td>7165</td>\n",
       "      <td>1260</td>\n",
       "      <td>271.0</td>\n",
       "    </tr>\n",
       "    <tr>\n",
       "      <th>2</th>\n",
       "      <td>AZ</td>\n",
       "      <td>1252220</td>\n",
       "      <td>810658</td>\n",
       "      <td>0</td>\n",
       "      <td>57072</td>\n",
       "      <td>12953.0</td>\n",
       "    </tr>\n",
       "    <tr>\n",
       "      <th>3</th>\n",
       "      <td>AR</td>\n",
       "      <td>539430</td>\n",
       "      <td>316593</td>\n",
       "      <td>306382</td>\n",
       "      <td>14617</td>\n",
       "      <td>5048.0</td>\n",
       "    </tr>\n",
       "    <tr>\n",
       "      <th>4</th>\n",
       "      <td>CA</td>\n",
       "      <td>7023840</td>\n",
       "      <td>3450058</td>\n",
       "      <td>0</td>\n",
       "      <td>0</td>\n",
       "      <td>46722.0</td>\n",
       "    </tr>\n",
       "  </tbody>\n",
       "</table>\n",
       "</div>"
      ],
      "text/plain": [
       "  State_CD    Doses    Cases  Recovery  Hospitalized   Deaths\n",
       "0       AL   881110   488973    275245         45250   8582.0\n",
       "1       AK   277520    55560      7165          1260    271.0\n",
       "2       AZ  1252220   810658         0         57072  12953.0\n",
       "3       AR   539430   316593    306382         14617   5048.0\n",
       "4       CA  7023840  3450058         0             0  46722.0"
      ]
     },
     "execution_count": 30,
     "metadata": {},
     "output_type": "execute_result"
    }
   ],
   "source": [
    "df2.fillna(0, inplace=True)             ## fillna(0) to default populate 0 in all the numeric columns\n",
    "\n",
    "df2.head()                              ## display the DataFrame"
   ]
  },
  {
   "cell_type": "code",
   "execution_count": 31,
   "metadata": {},
   "outputs": [],
   "source": [
    "## close() the connection after all the tables have been created and loaded correctly\n",
    "\n",
    "conn.close()"
   ]
  },
  {
   "cell_type": "code",
   "execution_count": 32,
   "metadata": {},
   "outputs": [
    {
     "data": {
      "text/plain": [
       "(60, 6)"
      ]
     },
     "execution_count": 32,
     "metadata": {},
     "output_type": "execute_result"
    }
   ],
   "source": [
    "## size of the df1, which comes from LEFT OUTER JOIN.\n",
    "\n",
    "df1.shape       "
   ]
  },
  {
   "cell_type": "markdown",
   "metadata": {},
   "source": [
    "### This verifies that all records from the left most DataFrame are retained - 60 records"
   ]
  },
  {
   "cell_type": "code",
   "execution_count": 33,
   "metadata": {},
   "outputs": [
    {
     "data": {
      "text/plain": [
       "(52, 6)"
      ]
     },
     "execution_count": 33,
     "metadata": {},
     "output_type": "execute_result"
    }
   ],
   "source": [
    "## size of the df2, which comes from normal JOIN. It works as INNER JOIN\n",
    "\n",
    "df2.shape"
   ]
  },
  {
   "cell_type": "markdown",
   "metadata": {},
   "source": [
    "### This verifies that ONLY the Matching records from all the DataFrames are retained - 52 records"
   ]
  },
  {
   "cell_type": "markdown",
   "metadata": {},
   "source": [
    "## ========================================================================="
   ]
  },
  {
   "cell_type": "markdown",
   "metadata": {},
   "source": [
    "# Visualizations"
   ]
  },
  {
   "cell_type": "markdown",
   "metadata": {},
   "source": [
    "## We will be using - df2 which is created from the JOIN - (effectively INNER JOIN) query in the sql2, defined above. The reason being, it provides data points for all the required features, discussed below"
   ]
  },
  {
   "cell_type": "markdown",
   "metadata": {},
   "source": [
    "### Looking at the cleaned up and after filling in missing value counts with 0 earlier, we can notice that Recovery and Hospitalized columns contain 15 or more State records with 0 values out of the 52 we have got. So, we will not be using them for analysis / visualization activities. Ideally both these columns are related to number of COVID Cases for respective states.\n",
    "\n",
    "\n",
    "### Considering above points, we will be considering below numeric features / columns for Visualizations / Analysis purpose\n",
    "\n",
    "\n",
    "#### 1) Number of COVID Doses allocated for the respective US states (from api_tbl)\n",
    "#### 2) Number of COVID Cases for the respective US states (from html_tbl)\n",
    "#### 3) Number of COVID Deaths for the respective US states (from csv_tbl)\n",
    "#### 4) State_CD - which is the common feature between all the tables and retrieved once"
   ]
  },
  {
   "cell_type": "code",
   "execution_count": 34,
   "metadata": {},
   "outputs": [
    {
     "data": {
      "text/html": [
       "<div>\n",
       "<style scoped>\n",
       "    .dataframe tbody tr th:only-of-type {\n",
       "        vertical-align: middle;\n",
       "    }\n",
       "\n",
       "    .dataframe tbody tr th {\n",
       "        vertical-align: top;\n",
       "    }\n",
       "\n",
       "    .dataframe thead th {\n",
       "        text-align: right;\n",
       "    }\n",
       "</style>\n",
       "<table border=\"1\" class=\"dataframe\">\n",
       "  <thead>\n",
       "    <tr style=\"text-align: right;\">\n",
       "      <th></th>\n",
       "      <th>Doses</th>\n",
       "      <th>Cases</th>\n",
       "      <th>Recovery</th>\n",
       "      <th>Hospitalized</th>\n",
       "      <th>Deaths</th>\n",
       "    </tr>\n",
       "  </thead>\n",
       "  <tbody>\n",
       "    <tr>\n",
       "      <th>count</th>\n",
       "      <td>5.200000e+01</td>\n",
       "      <td>5.200000e+01</td>\n",
       "      <td>5.200000e+01</td>\n",
       "      <td>52.000000</td>\n",
       "      <td>52.000000</td>\n",
       "    </tr>\n",
       "    <tr>\n",
       "      <th>mean</th>\n",
       "      <td>1.141660e+06</td>\n",
       "      <td>5.407166e+05</td>\n",
       "      <td>2.216908e+05</td>\n",
       "      <td>16484.750000</td>\n",
       "      <td>8786.673077</td>\n",
       "    </tr>\n",
       "    <tr>\n",
       "      <th>std</th>\n",
       "      <td>1.283957e+06</td>\n",
       "      <td>6.406238e+05</td>\n",
       "      <td>3.892468e+05</td>\n",
       "      <td>22085.395823</td>\n",
       "      <td>10729.201481</td>\n",
       "    </tr>\n",
       "    <tr>\n",
       "      <th>min</th>\n",
       "      <td>1.089200e+05</td>\n",
       "      <td>1.469100e+04</td>\n",
       "      <td>0.000000e+00</td>\n",
       "      <td>0.000000</td>\n",
       "      <td>170.000000</td>\n",
       "    </tr>\n",
       "    <tr>\n",
       "      <th>25%</th>\n",
       "      <td>3.316125e+05</td>\n",
       "      <td>1.286698e+05</td>\n",
       "      <td>0.000000e+00</td>\n",
       "      <td>0.000000</td>\n",
       "      <td>1863.750000</td>\n",
       "    </tr>\n",
       "    <tr>\n",
       "      <th>50%</th>\n",
       "      <td>7.841675e+05</td>\n",
       "      <td>3.727085e+05</td>\n",
       "      <td>6.136400e+04</td>\n",
       "      <td>7732.000000</td>\n",
       "      <td>5534.500000</td>\n",
       "    </tr>\n",
       "    <tr>\n",
       "      <th>75%</th>\n",
       "      <td>1.297689e+06</td>\n",
       "      <td>6.440432e+05</td>\n",
       "      <td>3.163258e+05</td>\n",
       "      <td>23394.750000</td>\n",
       "      <td>10146.500000</td>\n",
       "    </tr>\n",
       "    <tr>\n",
       "      <th>max</th>\n",
       "      <td>7.023840e+06</td>\n",
       "      <td>3.450058e+06</td>\n",
       "      <td>2.353741e+06</td>\n",
       "      <td>89995.000000</td>\n",
       "      <td>46722.000000</td>\n",
       "    </tr>\n",
       "  </tbody>\n",
       "</table>\n",
       "</div>"
      ],
      "text/plain": [
       "              Doses         Cases      Recovery  Hospitalized        Deaths\n",
       "count  5.200000e+01  5.200000e+01  5.200000e+01     52.000000     52.000000\n",
       "mean   1.141660e+06  5.407166e+05  2.216908e+05  16484.750000   8786.673077\n",
       "std    1.283957e+06  6.406238e+05  3.892468e+05  22085.395823  10729.201481\n",
       "min    1.089200e+05  1.469100e+04  0.000000e+00      0.000000    170.000000\n",
       "25%    3.316125e+05  1.286698e+05  0.000000e+00      0.000000   1863.750000\n",
       "50%    7.841675e+05  3.727085e+05  6.136400e+04   7732.000000   5534.500000\n",
       "75%    1.297689e+06  6.440432e+05  3.163258e+05  23394.750000  10146.500000\n",
       "max    7.023840e+06  3.450058e+06  2.353741e+06  89995.000000  46722.000000"
      ]
     },
     "execution_count": 34,
     "metadata": {},
     "output_type": "execute_result"
    }
   ],
   "source": [
    "## display the statistics around the numeric data columns within the dataframe\n",
    "\n",
    "df2.describe()"
   ]
  },
  {
   "cell_type": "code",
   "execution_count": 35,
   "metadata": {},
   "outputs": [
    {
     "data": {
      "image/png": "[encoded data removed]",
      "text/plain": [
       "<Figure size 432x288 with 2 Axes>"
      ]
     },
     "metadata": {
      "needs_background": "light"
     },
     "output_type": "display_data"
    }
   ],
   "source": [
    "## correlation heatmap to identify the relationship between different variables within the dataframe\n",
    "\n",
    "sns.heatmap(df2.corr(), annot=True, cmap=\"viridis\")\n",
    "plt.title(\"correlation heatmap for the COVID-19 data variables\")\n",
    "plt.show()"
   ]
  },
  {
   "cell_type": "markdown",
   "metadata": {},
   "source": [
    "### As we can notice from above, there is strong correlation between \n",
    "\n",
    "#### 1) Number of COVID-19 Cases and Doses allocated for the given states\n",
    "#### 2) Number of COVID-19 Cases and related Deaths for the given states\n",
    "#### 3) Number of Doses allocated and COVID-19 related Deaths\n",
    "\n",
    "#### Since about 30% of the data records (15 / 16 out of 52) in the columns Recovery / Hospitalized were missing and replaced with 0 as default. We can see a weak, but noticeable correaltion of these columns with other columns. But in reality, these are the by-products of the number of Cases."
   ]
  },
  {
   "cell_type": "code",
   "execution_count": 36,
   "metadata": {},
   "outputs": [
    {
     "data": {
      "text/html": [
       "<div>\n",
       "<style scoped>\n",
       "    .dataframe tbody tr th:only-of-type {\n",
       "        vertical-align: middle;\n",
       "    }\n",
       "\n",
       "    .dataframe tbody tr th {\n",
       "        vertical-align: top;\n",
       "    }\n",
       "\n",
       "    .dataframe thead th {\n",
       "        text-align: right;\n",
       "    }\n",
       "</style>\n",
       "<table border=\"1\" class=\"dataframe\">\n",
       "  <thead>\n",
       "    <tr style=\"text-align: right;\">\n",
       "      <th></th>\n",
       "      <th>State_CD</th>\n",
       "      <th>Doses</th>\n",
       "      <th>Cases</th>\n",
       "      <th>Recovery</th>\n",
       "      <th>Hospitalized</th>\n",
       "      <th>Deaths</th>\n",
       "    </tr>\n",
       "  </thead>\n",
       "  <tbody>\n",
       "    <tr>\n",
       "      <th>4</th>\n",
       "      <td>CA</td>\n",
       "      <td>7023840</td>\n",
       "      <td>3450058</td>\n",
       "      <td>0</td>\n",
       "      <td>0</td>\n",
       "      <td>46722.0</td>\n",
       "    </tr>\n",
       "    <tr>\n",
       "      <th>44</th>\n",
       "      <td>TX</td>\n",
       "      <td>4811395</td>\n",
       "      <td>2606275</td>\n",
       "      <td>2353741</td>\n",
       "      <td>0</td>\n",
       "      <td>40883.0</td>\n",
       "    </tr>\n",
       "    <tr>\n",
       "      <th>9</th>\n",
       "      <td>FL</td>\n",
       "      <td>3844030</td>\n",
       "      <td>1878533</td>\n",
       "      <td>0</td>\n",
       "      <td>79410</td>\n",
       "      <td>26473.0</td>\n",
       "    </tr>\n",
       "    <tr>\n",
       "      <th>32</th>\n",
       "      <td>NY</td>\n",
       "      <td>3621210</td>\n",
       "      <td>1591585</td>\n",
       "      <td>143071</td>\n",
       "      <td>89995</td>\n",
       "      <td>45091.0</td>\n",
       "    </tr>\n",
       "    <tr>\n",
       "      <th>13</th>\n",
       "      <td>IL</td>\n",
       "      <td>2324585</td>\n",
       "      <td>1177320</td>\n",
       "      <td>0</td>\n",
       "      <td>0</td>\n",
       "      <td>18935.0</td>\n",
       "    </tr>\n",
       "    <tr>\n",
       "      <th>10</th>\n",
       "      <td>GA</td>\n",
       "      <td>1825210</td>\n",
       "      <td>990821</td>\n",
       "      <td>0</td>\n",
       "      <td>55167</td>\n",
       "      <td>12991.0</td>\n",
       "    </tr>\n",
       "    <tr>\n",
       "      <th>35</th>\n",
       "      <td>OH</td>\n",
       "      <td>2113165</td>\n",
       "      <td>958153</td>\n",
       "      <td>894113</td>\n",
       "      <td>49651</td>\n",
       "      <td>17918.0</td>\n",
       "    </tr>\n",
       "    <tr>\n",
       "      <th>38</th>\n",
       "      <td>PA</td>\n",
       "      <td>2373135</td>\n",
       "      <td>917848</td>\n",
       "      <td>816884</td>\n",
       "      <td>0</td>\n",
       "      <td>22802.0</td>\n",
       "    </tr>\n",
       "    <tr>\n",
       "      <th>33</th>\n",
       "      <td>NC</td>\n",
       "      <td>1841700</td>\n",
       "      <td>846284</td>\n",
       "      <td>795521</td>\n",
       "      <td>0</td>\n",
       "      <td>4716.0</td>\n",
       "    </tr>\n",
       "    <tr>\n",
       "      <th>2</th>\n",
       "      <td>AZ</td>\n",
       "      <td>1252220</td>\n",
       "      <td>810658</td>\n",
       "      <td>0</td>\n",
       "      <td>57072</td>\n",
       "      <td>12953.0</td>\n",
       "    </tr>\n",
       "  </tbody>\n",
       "</table>\n",
       "</div>"
      ],
      "text/plain": [
       "   State_CD    Doses    Cases  Recovery  Hospitalized   Deaths\n",
       "4        CA  7023840  3450058         0             0  46722.0\n",
       "44       TX  4811395  2606275   2353741             0  40883.0\n",
       "9        FL  3844030  1878533         0         79410  26473.0\n",
       "32       NY  3621210  1591585    143071         89995  45091.0\n",
       "13       IL  2324585  1177320         0             0  18935.0\n",
       "10       GA  1825210   990821         0         55167  12991.0\n",
       "35       OH  2113165   958153    894113         49651  17918.0\n",
       "38       PA  2373135   917848    816884             0  22802.0\n",
       "33       NC  1841700   846284    795521             0   4716.0\n",
       "2        AZ  1252220   810658         0         57072  12953.0"
      ]
     },
     "execution_count": 36,
     "metadata": {},
     "output_type": "execute_result"
    }
   ],
   "source": [
    "## infer_objects() function automatically detects the column types in the DataFrame.\n",
    "## sort_values() function will help us SORT the values in respective columns mentioned\n",
    "## ascending=False will ensure we SORT the values in Descending order since need to see the Top 10 States statistics\n",
    "\n",
    "## As discussed above, we will be using the selected columns - 'Cases', 'Deaths' and 'Doses' for sorting purposes.\n",
    "## After sorting the required columns, we will be storing the newly sorted data in a dataframe\n",
    "\n",
    "df3 = df2.infer_objects().sort_values(['Cases', 'Deaths', 'Doses'], ascending=False)\n",
    "\n",
    "df3.head(10)         ## Display Top 10 rows from the sorted dataframe"
   ]
  },
  {
   "cell_type": "markdown",
   "metadata": {},
   "source": [
    "## Visualization with data from html_tbl and csv_tbl"
   ]
  },
  {
   "cell_type": "code",
   "execution_count": 37,
   "metadata": {
    "scrolled": true
   },
   "outputs": [
    {
     "data": {
      "image/png": "[encoded data removed]",
      "text/plain": [
       "<Figure size 864x432 with 1 Axes>"
      ]
     },
     "metadata": {
      "needs_background": "light"
     },
     "output_type": "display_data"
    }
   ],
   "source": [
    "## [0:15] - slicing will ensure we select Top 15 records by counts for Visualization purpose\n",
    "## ['State_CD', 'Cases', 'Deaths'] - columns from html_tbl and csv_tbl along with State_CD\n",
    "\n",
    "df3[0:15][['State_CD', 'Cases', 'Deaths']].plot(figsize=(12,6), x='State_CD', kind=\"bar\",\n",
    "                            title = \"Bar chart for COVID-19 Cases / Deaths statistics across US states\")\n",
    "\n",
    "plt.xlabel(\"State Code\")\n",
    "plt.ylabel(\"Number of people - COVID-19 Cases / Deaths counts\")\n",
    "\n",
    "plt.show()"
   ]
  },
  {
   "cell_type": "markdown",
   "metadata": {},
   "source": [
    "### As we can notice looking at above Bar chart, Top 5 of the States affected the most with COVID-19 cases and Deaths are below:\n",
    "\n",
    "#### 1) California (CA)\n",
    "#### 2) Texas (TX)\n",
    "#### 3) Florida (FL)\n",
    "#### 4) New York (NY)\n",
    "#### 5) Illinois (IL)\n",
    "\n",
    "#### Other states featuring on this plot are Georgia (GA), Ohio (OH), Pennsylvenia (PA), North Carolina (NC) and Arizona (AZ)"
   ]
  },
  {
   "cell_type": "markdown",
   "metadata": {},
   "source": [
    "## ========================================================================="
   ]
  },
  {
   "cell_type": "markdown",
   "metadata": {},
   "source": [
    "## Visualization with data from html_tbl and api_tbl"
   ]
  },
  {
   "cell_type": "code",
   "execution_count": 38,
   "metadata": {
    "scrolled": true
   },
   "outputs": [
    {
     "data": {
      "image/png": "[encoded data removed]",
      "text/plain": [
       "<Figure size 864x432 with 1 Axes>"
      ]
     },
     "metadata": {
      "needs_background": "light"
     },
     "output_type": "display_data"
    }
   ],
   "source": [
    "## [0:15] - slicing will ensure we select Top 10 records by counts for Visualization purpose\n",
    "## ['State_CD', 'Cases', 'Doses'] - columns from html_tbl and api_tbl along with State_CD\n",
    "\n",
    "df3[0:15][['State_CD', 'Cases', 'Doses']].plot(figsize=(12,6), x='State_CD', kind=\"bar\", \n",
    "                                 title = \"Bar chart for COVID-19 Cases / Doses allocation statistics across US states\")\n",
    "\n",
    "plt.xlabel(\"State Code\")\n",
    "plt.ylabel(\"Number of people - COVID-19 Cases / Doses allocation counts\")\n",
    "\n",
    "plt.show()"
   ]
  },
  {
   "cell_type": "markdown",
   "metadata": {},
   "source": [
    "### As we can notice looking at above Bar chart, Top 5 of the States affected the most with COVID-19 cases and COVID Doses allocations are below:\n",
    "\n",
    "#### 1) California (CA)\n",
    "#### 2) Texas (TX)\n",
    "#### 3) Florida (FL)\n",
    "#### 4) New York (NY)\n",
    "#### 5) Illinois (IL)\n",
    "\n",
    "#### Other states featuring on this plot are Georgia (GA), Ohio (OH), Pennsylvenia (PA), North Carolina (NC) and Arizona (AZ)"
   ]
  },
  {
   "cell_type": "markdown",
   "metadata": {},
   "source": [
    "## ========================================================================="
   ]
  },
  {
   "cell_type": "markdown",
   "metadata": {},
   "source": [
    "## Visualization for the data from html_tbl and api_tbl"
   ]
  },
  {
   "cell_type": "code",
   "execution_count": 39,
   "metadata": {
    "scrolled": true
   },
   "outputs": [
    {
     "data": {
      "image/png": "[encoded data removed]",
      "text/plain": [
       "<Figure size 432x360 with 1 Axes>"
      ]
     },
     "metadata": {
      "needs_background": "light"
     },
     "output_type": "display_data"
    }
   ],
   "source": [
    "## Scatter Plot to observe the relationship between COVID related deaths and COVID vaccine doses allocation\n",
    "\n",
    "plt.figure(figsize=(6,5))\n",
    "plt.scatter(df3.Cases, df3.Doses, c='red')\n",
    "plt.xlabel(\"Number of COVID-19 Cases\")\n",
    "plt.ylabel(\"Number of COVID-19 Doses allocation counts\")\n",
    "plt.grid(True)\n",
    "plt.title(\"COVID Cases vs. Vaccine Doses allocation  Plot\")\n",
    "plt.show()"
   ]
  },
  {
   "cell_type": "markdown",
   "metadata": {},
   "source": [
    "## As we can notice, there is strong linear correlation between Number of COVID-19 cases and the Number of COVID-19 vaccine doses allocation for the states."
   ]
  },
  {
   "cell_type": "markdown",
   "metadata": {},
   "source": [
    "## ========================================================================="
   ]
  },
  {
   "cell_type": "markdown",
   "metadata": {},
   "source": [
    "## Visualization for the data from csv_tbl and api_tbl"
   ]
  },
  {
   "cell_type": "code",
   "execution_count": 40,
   "metadata": {
    "scrolled": false
   },
   "outputs": [
    {
     "data": {
      "image/png": "[encoded data removed]",
      "text/plain": [
       "<Figure size 432x360 with 1 Axes>"
      ]
     },
     "metadata": {
      "needs_background": "light"
     },
     "output_type": "display_data"
    }
   ],
   "source": [
    "## Scatter Plot to observe the relationship between COVID related deaths and COVID vaccine doses allocation\n",
    "\n",
    "plt.figure(figsize=(6,5))\n",
    "plt.scatter(df3.Deaths, df3.Doses, c='blue')\n",
    "plt.xlabel(\"Number of COVID-19 Deaths\")\n",
    "plt.ylabel(\"Number of COVID-19 Doses allocation counts\")\n",
    "plt.grid(True)\n",
    "plt.title(\"COVID Deaths vs. Vaccine Doses allocation  Plot\")\n",
    "plt.show()"
   ]
  },
  {
   "cell_type": "markdown",
   "metadata": {},
   "source": [
    "## As we can notice, there is definite correlation between Number of COVID-19 related deaths and the Number of COVID-19 vaccine doses allocation for the states."
   ]
  },
  {
   "cell_type": "markdown",
   "metadata": {},
   "source": [
    "## ========================================================================="
   ]
  },
  {
   "cell_type": "markdown",
   "metadata": {},
   "source": [
    "## Visualization for the data from html_tbl and csv_tbl"
   ]
  },
  {
   "cell_type": "code",
   "execution_count": 41,
   "metadata": {
    "scrolled": false
   },
   "outputs": [
    {
     "data": {
      "image/png": "[encoded data removed]",
      "text/plain": [
       "<Figure size 576x360 with 1 Axes>"
      ]
     },
     "metadata": {
      "needs_background": "light"
     },
     "output_type": "display_data"
    }
   ],
   "source": [
    "## Scatter Plot to observe the relationship between COVID related cases and deaths\n",
    "\n",
    "plt.figure(figsize=(8,5))\n",
    "plt.scatter(df3.Cases, df3.Deaths)\n",
    "plt.xlabel(\"Number of COVID-19 Cases\")\n",
    "plt.ylabel(\"Number of COVID-19 Deaths\")\n",
    "plt.grid(True)\n",
    "plt.title(\"COVID Cases vs. Deaths Plot\")\n",
    "plt.show()"
   ]
  },
  {
   "cell_type": "markdown",
   "metadata": {},
   "source": [
    "## As we can notice, there is obvious correlation between Number of COVID-19 Cases and related deaths for the states."
   ]
  },
  {
   "cell_type": "markdown",
   "metadata": {},
   "source": [
    "## ========================================================================="
   ]
  },
  {
   "cell_type": "markdown",
   "metadata": {},
   "source": [
    "## Visualization for the data from html_tbl and api_tbl"
   ]
  },
  {
   "cell_type": "code",
   "execution_count": 42,
   "metadata": {
    "scrolled": true
   },
   "outputs": [
    {
     "data": {
      "image/png": "[encoded data removed]",
      "text/plain": [
       "<Figure size 432x360 with 1 Axes>"
      ]
     },
     "metadata": {
      "needs_background": "light"
     },
     "output_type": "display_data"
    }
   ],
   "source": [
    "## Line Plot to observe the relationship between COVID related deaths and COVID vaccine doses allocation\n",
    "\n",
    "plt.figure(figsize=(6,5))\n",
    "plt.plot(df3.Cases, df3.Doses, 'r--')\n",
    "plt.xlabel(\"Number of COVID-19 Cases\")\n",
    "plt.ylabel(\"Number of COVID-19 Doses allocation counts\")\n",
    "plt.grid(True)\n",
    "plt.title(\"COVID Cases vs. Vaccine Doses allocation  Plot\")\n",
    "plt.show()"
   ]
  },
  {
   "cell_type": "markdown",
   "metadata": {},
   "source": [
    "## As we can notice, there is strong linear correlation between Number of COVID-19 cases and the Number of COVID-19 vaccine doses allocation for the states."
   ]
  },
  {
   "cell_type": "markdown",
   "metadata": {},
   "source": [
    "## ========================================================================="
   ]
  },
  {
   "cell_type": "markdown",
   "metadata": {},
   "source": [
    "## Visualization for the data from csv_tbl and api_tbl"
   ]
  },
  {
   "cell_type": "code",
   "execution_count": 43,
   "metadata": {
    "scrolled": true
   },
   "outputs": [
    {
     "data": {
      "image/png": "[encoded data removed]",
      "text/plain": [
       "<Figure size 432x360 with 1 Axes>"
      ]
     },
     "metadata": {
      "needs_background": "light"
     },
     "output_type": "display_data"
    }
   ],
   "source": [
    "## Line Plot to observe the relationship between COVID related deaths and COVID vaccine doses allocation\n",
    "\n",
    "plt.figure(figsize=(6,5))\n",
    "plt.plot(df3.Deaths, df3.Doses, 'k--')\n",
    "plt.xlabel(\"Number of COVID-19 Deaths\")\n",
    "plt.ylabel(\"Number of COVID-19 Doses allocation counts\")\n",
    "plt.grid(True)\n",
    "plt.title(\"COVID Deaths vs. Vaccine Doses allocation  Plot\")\n",
    "plt.show()"
   ]
  },
  {
   "cell_type": "markdown",
   "metadata": {},
   "source": [
    "### Looking at the above, there appears to be some distortions and outliers / instances for some state, where number of Deaths is more, however Doses allocated might be lesser than equially affected other state, which got higher vaccine doses allocations"
   ]
  },
  {
   "cell_type": "markdown",
   "metadata": {},
   "source": [
    "## ========================================================================="
   ]
  },
  {
   "cell_type": "markdown",
   "metadata": {},
   "source": [
    "## Visualization for the data from html_tbl and csv_tbl"
   ]
  },
  {
   "cell_type": "code",
   "execution_count": 44,
   "metadata": {
    "scrolled": false
   },
   "outputs": [
    {
     "data": {
      "image/png": "[encoded data removed]",
      "text/plain": [
       "<Figure size 576x360 with 1 Axes>"
      ]
     },
     "metadata": {
      "needs_background": "light"
     },
     "output_type": "display_data"
    }
   ],
   "source": [
    "## Line Plot to observe the relationship between COVID related cases and deaths\n",
    "\n",
    "plt.figure(figsize=(8,5))\n",
    "plt.plot(df3.Cases, df3.Deaths, 'g--')\n",
    "plt.xlabel(\"Number of COVID-19 Cases\")\n",
    "plt.ylabel(\"Number of COVID-19 Deaths\")\n",
    "plt.grid(True)\n",
    "plt.title(\"COVID Cases vs. Deaths Plot\")\n",
    "plt.show()"
   ]
  },
  {
   "cell_type": "markdown",
   "metadata": {},
   "source": [
    "## As we can notice, there is obvious correlation between Number of COVID-19 Cases and related deaths for the states."
   ]
  },
  {
   "cell_type": "markdown",
   "metadata": {},
   "source": [
    "## ========================================================================="
   ]
  },
  {
   "cell_type": "markdown",
   "metadata": {},
   "source": [
    "# State level plot - COVID-19 Cases - most affected states"
   ]
  },
  {
   "cell_type": "code",
   "execution_count": 45,
   "metadata": {},
   "outputs": [
    {
     "data": {
      "image/png": "[encoded data removed]",
      "text/plain": [
       "<Figure size 576x360 with 1 Axes>"
      ]
     },
     "metadata": {
      "needs_background": "light"
     },
     "output_type": "display_data"
    }
   ],
   "source": [
    "## plot the Age group vs Covid-19 Counts bar graph using matplotlib\n",
    "## setting the appropriate title and labels for the plot. figure size helps draw larger size plots with clear information.\n",
    "## We will be displaying only the Top 10 states information here - [0:10] slicing done.\n",
    "## df3 was previously created and the first column used in sorting the data in descending order was 'Cases', use it as is.\n",
    "\n",
    "plt.figure(figsize=(8, 5))\n",
    "plt.bar(df3[:10].State_CD, df3[:10].Cases)\n",
    "plt.xlabel('States')\n",
    "plt.ylabel('COVID-19 Cases')\n",
    "plt.title('Top 10 States with most COVID-19 cases')\n",
    "plt.show()"
   ]
  },
  {
   "cell_type": "markdown",
   "metadata": {},
   "source": [
    "## Looking at the above bar charts, it appears that Top 5 affected States / Regions in terms of most COVID-19 cases are:\n",
    "\n",
    "#### 1) California (CA)\n",
    "#### 2) Texas (TX)\n",
    "#### 3) Florida (FL)\n",
    "#### 4) New York (NY)\n",
    "#### 5) Illinois (IL)\n",
    "\n",
    "#### Other states which are affected amongst Top 10 states are Georgia (GA), Ohio (OH), Pennsylvenia (PA), North Carolina (NC) & Arizona (AZ)"
   ]
  },
  {
   "cell_type": "markdown",
   "metadata": {},
   "source": [
    "## ========================================================================="
   ]
  },
  {
   "cell_type": "markdown",
   "metadata": {},
   "source": [
    "# State level plot - COVID-19 Deaths - most affected states"
   ]
  },
  {
   "cell_type": "code",
   "execution_count": 46,
   "metadata": {},
   "outputs": [
    {
     "data": {
      "text/html": [
       "<div>\n",
       "<style scoped>\n",
       "    .dataframe tbody tr th:only-of-type {\n",
       "        vertical-align: middle;\n",
       "    }\n",
       "\n",
       "    .dataframe tbody tr th {\n",
       "        vertical-align: top;\n",
       "    }\n",
       "\n",
       "    .dataframe thead th {\n",
       "        text-align: right;\n",
       "    }\n",
       "</style>\n",
       "<table border=\"1\" class=\"dataframe\">\n",
       "  <thead>\n",
       "    <tr style=\"text-align: right;\">\n",
       "      <th></th>\n",
       "      <th>State_CD</th>\n",
       "      <th>Doses</th>\n",
       "      <th>Cases</th>\n",
       "      <th>Recovery</th>\n",
       "      <th>Hospitalized</th>\n",
       "      <th>Deaths</th>\n",
       "    </tr>\n",
       "  </thead>\n",
       "  <tbody>\n",
       "    <tr>\n",
       "      <th>4</th>\n",
       "      <td>CA</td>\n",
       "      <td>7023840</td>\n",
       "      <td>3450058</td>\n",
       "      <td>0</td>\n",
       "      <td>0</td>\n",
       "      <td>46722.0</td>\n",
       "    </tr>\n",
       "    <tr>\n",
       "      <th>32</th>\n",
       "      <td>NY</td>\n",
       "      <td>3621210</td>\n",
       "      <td>1591585</td>\n",
       "      <td>143071</td>\n",
       "      <td>89995</td>\n",
       "      <td>45091.0</td>\n",
       "    </tr>\n",
       "    <tr>\n",
       "      <th>44</th>\n",
       "      <td>TX</td>\n",
       "      <td>4811395</td>\n",
       "      <td>2606275</td>\n",
       "      <td>2353741</td>\n",
       "      <td>0</td>\n",
       "      <td>40883.0</td>\n",
       "    </tr>\n",
       "    <tr>\n",
       "      <th>9</th>\n",
       "      <td>FL</td>\n",
       "      <td>3844030</td>\n",
       "      <td>1878533</td>\n",
       "      <td>0</td>\n",
       "      <td>79410</td>\n",
       "      <td>26473.0</td>\n",
       "    </tr>\n",
       "    <tr>\n",
       "      <th>38</th>\n",
       "      <td>PA</td>\n",
       "      <td>2373135</td>\n",
       "      <td>917848</td>\n",
       "      <td>816884</td>\n",
       "      <td>0</td>\n",
       "      <td>22802.0</td>\n",
       "    </tr>\n",
       "  </tbody>\n",
       "</table>\n",
       "</div>"
      ],
      "text/plain": [
       "   State_CD    Doses    Cases  Recovery  Hospitalized   Deaths\n",
       "4        CA  7023840  3450058         0             0  46722.0\n",
       "32       NY  3621210  1591585    143071         89995  45091.0\n",
       "44       TX  4811395  2606275   2353741             0  40883.0\n",
       "9        FL  3844030  1878533         0         79410  26473.0\n",
       "38       PA  2373135   917848    816884             0  22802.0"
      ]
     },
     "execution_count": 46,
     "metadata": {},
     "output_type": "execute_result"
    }
   ],
   "source": [
    "## we will sort the dataframe df2 in descending order of COVID-19 related Deaths and store the info in another dataframe.\n",
    "\n",
    "df4 = df2.sort_values(['Deaths'], ascending=False)\n",
    "\n",
    "df4.head()                     ## Display initial few records from the sorted dataframe"
   ]
  },
  {
   "cell_type": "code",
   "execution_count": 47,
   "metadata": {},
   "outputs": [
    {
     "data": {
      "image/png": "[encoded data removed]",
      "text/plain": [
       "<Figure size 576x360 with 1 Axes>"
      ]
     },
     "metadata": {
      "needs_background": "light"
     },
     "output_type": "display_data"
    }
   ],
   "source": [
    "## plot the Age group vs Covid-19 Counts bar graph using matplotlib\n",
    "## setting the appropriate title and labels for the plot. figure size helps draw larger size plots with clear information.\n",
    "## We will be displaying only the Top 10 states information here - [0:10] slicing done\n",
    "\n",
    "plt.figure(figsize=(8, 5))\n",
    "plt.bar(df4[:10].State_CD, df4[:10].Deaths)\n",
    "plt.xlabel('States')\n",
    "plt.ylabel('COVID-19 Deaths')\n",
    "plt.title('Top 10 States with most COVID-19 related deaths')\n",
    "plt.show()"
   ]
  },
  {
   "cell_type": "markdown",
   "metadata": {},
   "source": [
    "## Looking at the above bar charts, it appears that Top 5 affected States / Regions in terms of most COVID-19 related Deaths are:\n",
    "\n",
    "#### 1) California (CA)\n",
    "#### 2) New York (NY)\n",
    "#### 3) Texas (TX)\n",
    "#### 4) Florida (FL)\n",
    "#### 5) Pennsylvenia (PA)\n",
    "\n",
    "#### Other states which are affected amongst Top 10 states are New Jersey (NJ), Illinios (IL), Ohio (OH), Michigan (MI) & Georgia (GA)"
   ]
  },
  {
   "cell_type": "markdown",
   "metadata": {},
   "source": [
    "## ========================================================================="
   ]
  },
  {
   "cell_type": "markdown",
   "metadata": {},
   "source": [
    "# State level plot - COVID-19 Vaccine allocation - Top states"
   ]
  },
  {
   "cell_type": "code",
   "execution_count": 48,
   "metadata": {},
   "outputs": [
    {
     "data": {
      "text/html": [
       "<div>\n",
       "<style scoped>\n",
       "    .dataframe tbody tr th:only-of-type {\n",
       "        vertical-align: middle;\n",
       "    }\n",
       "\n",
       "    .dataframe tbody tr th {\n",
       "        vertical-align: top;\n",
       "    }\n",
       "\n",
       "    .dataframe thead th {\n",
       "        text-align: right;\n",
       "    }\n",
       "</style>\n",
       "<table border=\"1\" class=\"dataframe\">\n",
       "  <thead>\n",
       "    <tr style=\"text-align: right;\">\n",
       "      <th></th>\n",
       "      <th>State_CD</th>\n",
       "      <th>Doses</th>\n",
       "      <th>Cases</th>\n",
       "      <th>Recovery</th>\n",
       "      <th>Hospitalized</th>\n",
       "      <th>Deaths</th>\n",
       "    </tr>\n",
       "  </thead>\n",
       "  <tbody>\n",
       "    <tr>\n",
       "      <th>4</th>\n",
       "      <td>CA</td>\n",
       "      <td>7023840</td>\n",
       "      <td>3450058</td>\n",
       "      <td>0</td>\n",
       "      <td>0</td>\n",
       "      <td>46722.0</td>\n",
       "    </tr>\n",
       "    <tr>\n",
       "      <th>44</th>\n",
       "      <td>TX</td>\n",
       "      <td>4811395</td>\n",
       "      <td>2606275</td>\n",
       "      <td>2353741</td>\n",
       "      <td>0</td>\n",
       "      <td>40883.0</td>\n",
       "    </tr>\n",
       "    <tr>\n",
       "      <th>9</th>\n",
       "      <td>FL</td>\n",
       "      <td>3844030</td>\n",
       "      <td>1878533</td>\n",
       "      <td>0</td>\n",
       "      <td>79410</td>\n",
       "      <td>26473.0</td>\n",
       "    </tr>\n",
       "    <tr>\n",
       "      <th>32</th>\n",
       "      <td>NY</td>\n",
       "      <td>3621210</td>\n",
       "      <td>1591585</td>\n",
       "      <td>143071</td>\n",
       "      <td>89995</td>\n",
       "      <td>45091.0</td>\n",
       "    </tr>\n",
       "    <tr>\n",
       "      <th>38</th>\n",
       "      <td>PA</td>\n",
       "      <td>2373135</td>\n",
       "      <td>917848</td>\n",
       "      <td>816884</td>\n",
       "      <td>0</td>\n",
       "      <td>22802.0</td>\n",
       "    </tr>\n",
       "  </tbody>\n",
       "</table>\n",
       "</div>"
      ],
      "text/plain": [
       "   State_CD    Doses    Cases  Recovery  Hospitalized   Deaths\n",
       "4        CA  7023840  3450058         0             0  46722.0\n",
       "44       TX  4811395  2606275   2353741             0  40883.0\n",
       "9        FL  3844030  1878533         0         79410  26473.0\n",
       "32       NY  3621210  1591585    143071         89995  45091.0\n",
       "38       PA  2373135   917848    816884             0  22802.0"
      ]
     },
     "execution_count": 48,
     "metadata": {},
     "output_type": "execute_result"
    }
   ],
   "source": [
    "## we will sort the dataframe df2 in descending order of COVID-19 vaccine doses and store the info in another dataframe.\n",
    "\n",
    "df5 = df2.sort_values(['Doses'], ascending=False)\n",
    "\n",
    "df5.head()                     ## Display initial few records from the sorted dataframe"
   ]
  },
  {
   "cell_type": "code",
   "execution_count": 49,
   "metadata": {},
   "outputs": [
    {
     "data": {
      "image/png": "[encoded data removed]",
      "text/plain": [
       "<Figure size 576x360 with 1 Axes>"
      ]
     },
     "metadata": {
      "needs_background": "light"
     },
     "output_type": "display_data"
    }
   ],
   "source": [
    "## plot the Age group vs Covid-19 Counts bar graph using matplotlib\n",
    "## setting the appropriate title and labels for the plot. figure size helps draw larger size plots with clear information.\n",
    "## We will be displaying only the Top 10 states information here - [0:10] slicing done\n",
    "\n",
    "plt.figure(figsize=(8, 5))\n",
    "plt.bar(df5[:10].State_CD, df5[:10].Doses)\n",
    "plt.xlabel('States')\n",
    "plt.ylabel('COVID-19 Doses')\n",
    "plt.title('Top 10 States with most COVID-19 vaccine doses allocation')\n",
    "plt.show()"
   ]
  },
  {
   "cell_type": "markdown",
   "metadata": {},
   "source": [
    "## Looking at the above bar charts, it appears that Top 5 affected States / Regions in terms of most COVID-19 vaccine allocations are:\n",
    "\n",
    "#### 1) California (CA)\n",
    "#### 2) New York (NY)\n",
    "#### 3) Texas (TX)\n",
    "#### 4) Florida (FL)\n",
    "#### 5) Pennsylvenia (PA)\n",
    "\n",
    "#### Other states which are affected amongst Top 10 states are Illinios (IL), Ohio (OH), North Carolina (NC), Georgia (GA) & Michigan (MI)"
   ]
  },
  {
   "cell_type": "markdown",
   "metadata": {},
   "source": [
    "## ========================================================================="
   ]
  }
 ],
 "metadata": {
  "kernelspec": {
   "display_name": "Python 3",
   "language": "python",
   "name": "python3"
  },
  "language_info": {
   "codemirror_mode": {
    "name": "ipython",
    "version": 3
   },
   "file_extension": ".py",
   "mimetype": "text/x-python",
   "name": "python",
   "nbconvert_exporter": "python",
   "pygments_lexer": "ipython3",
   "version": "3.8.5"
  }
 },
 "nbformat": 4,
 "nbformat_minor": 4
}
