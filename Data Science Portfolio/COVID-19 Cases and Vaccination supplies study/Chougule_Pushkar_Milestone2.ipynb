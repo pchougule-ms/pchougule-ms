{
 "cells": [
  {
   "cell_type": "code",
   "execution_count": 1,
   "metadata": {},
   "outputs": [],
   "source": [
    "# import pandas library for reading data and processing it\n",
    "# import numpy for numeric data processing\n",
    "# import matplotlib library for drawing plots\n",
    "\n",
    "import pandas as pd\n",
    "import numpy as np\n",
    "import matplotlib.pyplot as plt\n",
    "%matplotlib inline\n",
    "\n",
    "import warnings\n",
    "warnings.filterwarnings(\"ignore\")"
   ]
  },
  {
   "cell_type": "code",
   "execution_count": 2,
   "metadata": {},
   "outputs": [],
   "source": [
    "# read the csv file into a dataframe\n",
    "\n",
    "csv_df = pd.read_csv('United_States_Conditions_contributing_to_deaths_involving_COVID-19_by_age_group_and_state.csv')"
   ]
  },
  {
   "cell_type": "code",
   "execution_count": 3,
   "metadata": {},
   "outputs": [
    {
     "data": {
      "text/plain": [
       "Index(['Data as of', 'Start Week', 'End Week', 'State', 'Condition Group',\n",
       "       'Condition', 'ICD10_codes', 'Age Group', 'COVID-19 Deaths',\n",
       "       'Number of Mentions', 'Flag'],\n",
       "      dtype='object')"
      ]
     },
     "execution_count": 3,
     "metadata": {},
     "output_type": "execute_result"
    }
   ],
   "source": [
    "## List out the column names present in the csv\n",
    "\n",
    "csv_df.columns"
   ]
  },
  {
   "cell_type": "code",
   "execution_count": 4,
   "metadata": {
    "scrolled": true
   },
   "outputs": [
    {
     "data": {
      "text/html": [
       "<div>\n",
       "<style scoped>\n",
       "    .dataframe tbody tr th:only-of-type {\n",
       "        vertical-align: middle;\n",
       "    }\n",
       "\n",
       "    .dataframe tbody tr th {\n",
       "        vertical-align: top;\n",
       "    }\n",
       "\n",
       "    .dataframe thead th {\n",
       "        text-align: right;\n",
       "    }\n",
       "</style>\n",
       "<table border=\"1\" class=\"dataframe\">\n",
       "  <thead>\n",
       "    <tr style=\"text-align: right;\">\n",
       "      <th></th>\n",
       "      <th>Data as of</th>\n",
       "      <th>Start Week</th>\n",
       "      <th>End Week</th>\n",
       "      <th>State</th>\n",
       "      <th>Condition Group</th>\n",
       "      <th>Condition</th>\n",
       "      <th>ICD10_codes</th>\n",
       "      <th>Age Group</th>\n",
       "      <th>COVID-19 Deaths</th>\n",
       "      <th>Number of Mentions</th>\n",
       "      <th>Flag</th>\n",
       "    </tr>\n",
       "  </thead>\n",
       "  <tbody>\n",
       "    <tr>\n",
       "      <th>0</th>\n",
       "      <td>02/14/2021</td>\n",
       "      <td>01/04/2020</td>\n",
       "      <td>02/13/2021</td>\n",
       "      <td>US</td>\n",
       "      <td>Respiratory diseases</td>\n",
       "      <td>Influenza and pneumonia</td>\n",
       "      <td>J09-J18</td>\n",
       "      <td>0-24</td>\n",
       "      <td>273.0</td>\n",
       "      <td>281.0</td>\n",
       "      <td>NaN</td>\n",
       "    </tr>\n",
       "    <tr>\n",
       "      <th>1</th>\n",
       "      <td>02/14/2021</td>\n",
       "      <td>01/04/2020</td>\n",
       "      <td>02/13/2021</td>\n",
       "      <td>US</td>\n",
       "      <td>Respiratory diseases</td>\n",
       "      <td>Influenza and pneumonia</td>\n",
       "      <td>J09-J18</td>\n",
       "      <td>25-34</td>\n",
       "      <td>1293.0</td>\n",
       "      <td>1315.0</td>\n",
       "      <td>NaN</td>\n",
       "    </tr>\n",
       "    <tr>\n",
       "      <th>2</th>\n",
       "      <td>02/14/2021</td>\n",
       "      <td>01/04/2020</td>\n",
       "      <td>02/13/2021</td>\n",
       "      <td>US</td>\n",
       "      <td>Respiratory diseases</td>\n",
       "      <td>Influenza and pneumonia</td>\n",
       "      <td>J09-J18</td>\n",
       "      <td>35-44</td>\n",
       "      <td>3496.0</td>\n",
       "      <td>3566.0</td>\n",
       "      <td>NaN</td>\n",
       "    </tr>\n",
       "    <tr>\n",
       "      <th>3</th>\n",
       "      <td>02/14/2021</td>\n",
       "      <td>01/04/2020</td>\n",
       "      <td>02/13/2021</td>\n",
       "      <td>US</td>\n",
       "      <td>Respiratory diseases</td>\n",
       "      <td>Influenza and pneumonia</td>\n",
       "      <td>J09-J18</td>\n",
       "      <td>45-54</td>\n",
       "      <td>10380.0</td>\n",
       "      <td>10643.0</td>\n",
       "      <td>NaN</td>\n",
       "    </tr>\n",
       "    <tr>\n",
       "      <th>4</th>\n",
       "      <td>02/14/2021</td>\n",
       "      <td>01/04/2020</td>\n",
       "      <td>02/13/2021</td>\n",
       "      <td>US</td>\n",
       "      <td>Respiratory diseases</td>\n",
       "      <td>Influenza and pneumonia</td>\n",
       "      <td>J09-J18</td>\n",
       "      <td>55-64</td>\n",
       "      <td>26578.0</td>\n",
       "      <td>27202.0</td>\n",
       "      <td>NaN</td>\n",
       "    </tr>\n",
       "  </tbody>\n",
       "</table>\n",
       "</div>"
      ],
      "text/plain": [
       "   Data as of  Start Week    End Week State       Condition Group  \\\n",
       "0  02/14/2021  01/04/2020  02/13/2021    US  Respiratory diseases   \n",
       "1  02/14/2021  01/04/2020  02/13/2021    US  Respiratory diseases   \n",
       "2  02/14/2021  01/04/2020  02/13/2021    US  Respiratory diseases   \n",
       "3  02/14/2021  01/04/2020  02/13/2021    US  Respiratory diseases   \n",
       "4  02/14/2021  01/04/2020  02/13/2021    US  Respiratory diseases   \n",
       "\n",
       "                 Condition ICD10_codes Age Group  COVID-19 Deaths  \\\n",
       "0  Influenza and pneumonia     J09-J18      0-24            273.0   \n",
       "1  Influenza and pneumonia     J09-J18     25-34           1293.0   \n",
       "2  Influenza and pneumonia     J09-J18     35-44           3496.0   \n",
       "3  Influenza and pneumonia     J09-J18     45-54          10380.0   \n",
       "4  Influenza and pneumonia     J09-J18     55-64          26578.0   \n",
       "\n",
       "   Number of Mentions Flag  \n",
       "0               281.0  NaN  \n",
       "1              1315.0  NaN  \n",
       "2              3566.0  NaN  \n",
       "3             10643.0  NaN  \n",
       "4             27202.0  NaN  "
      ]
     },
     "execution_count": 4,
     "metadata": {},
     "output_type": "execute_result"
    }
   ],
   "source": [
    "## display the initial part of the data rows in the dataframe\n",
    "\n",
    "csv_df.head()"
   ]
  },
  {
   "cell_type": "markdown",
   "metadata": {},
   "source": [
    "# Format Data into more readable format by selecting a subset of columns.\n",
    "## This will ensure that we keep only the required data for further data preparation / visualizations"
   ]
  },
  {
   "cell_type": "code",
   "execution_count": 5,
   "metadata": {},
   "outputs": [],
   "source": [
    "## list out the columns we need to use in the further part of the project and it will be used to create subset dataframe.\n",
    "## these names will be used to further renamed to the new column names\n",
    "\n",
    "## 1) We are Not looking to use the Dates columns named : 'Data as of', 'Start Week' and 'End Week', since we will be using\n",
    "## cumulative count values for further data preparation processsing and visualizations\n",
    "## 2) ICD10_codes field can be ignored since we will not be using for analysis\n",
    "## 3) Flag field can be ignored since it consists of description whether indicating one or more data cells in the row\n",
    "## consist of counts between 1 - 9 and have been left blank. So, this can be ommitted\n",
    "## 4) Number of Mentions columns appears to be redundant in terms of count values. It can be ommitted since we are focusing\n",
    "## on the counts values\n",
    "## 5) We will be retaining below 5 columns in the analysis going forward.\n",
    "## ==> State columns consists of 'US' - national level info as well as 'State' level information.\n",
    "## ==> Condition Group and Condition columns will be used for further analysis, related to COVID-19 health issues and deaths\n",
    "## ==> Age Group will be used currently, to ensure we are able to consolidate the death counts data at a later stage, at\n",
    "##     'US' national level and State level\n",
    "## ==> COVID-19 related deaths counts columns will be used going forward\n",
    "\n",
    "\n",
    "cols = ['State', 'Condition Group', 'Condition', 'Age Group', 'COVID-19 Deaths']"
   ]
  },
  {
   "cell_type": "code",
   "execution_count": 6,
   "metadata": {},
   "outputs": [],
   "source": [
    "## create a subset dataframe using the selected few columns in the list above\n",
    "## This will ensure we have well formatted data and the minimal amount of required data columns are carried forward\n",
    "\n",
    "temp_df = csv_df[cols]"
   ]
  },
  {
   "cell_type": "code",
   "execution_count": 7,
   "metadata": {
    "scrolled": true
   },
   "outputs": [
    {
     "data": {
      "text/html": [
       "<div>\n",
       "<style scoped>\n",
       "    .dataframe tbody tr th:only-of-type {\n",
       "        vertical-align: middle;\n",
       "    }\n",
       "\n",
       "    .dataframe tbody tr th {\n",
       "        vertical-align: top;\n",
       "    }\n",
       "\n",
       "    .dataframe thead th {\n",
       "        text-align: right;\n",
       "    }\n",
       "</style>\n",
       "<table border=\"1\" class=\"dataframe\">\n",
       "  <thead>\n",
       "    <tr style=\"text-align: right;\">\n",
       "      <th></th>\n",
       "      <th>State</th>\n",
       "      <th>Condition Group</th>\n",
       "      <th>Condition</th>\n",
       "      <th>Age Group</th>\n",
       "      <th>COVID-19 Deaths</th>\n",
       "    </tr>\n",
       "  </thead>\n",
       "  <tbody>\n",
       "    <tr>\n",
       "      <th>0</th>\n",
       "      <td>US</td>\n",
       "      <td>Respiratory diseases</td>\n",
       "      <td>Influenza and pneumonia</td>\n",
       "      <td>0-24</td>\n",
       "      <td>273.0</td>\n",
       "    </tr>\n",
       "    <tr>\n",
       "      <th>1</th>\n",
       "      <td>US</td>\n",
       "      <td>Respiratory diseases</td>\n",
       "      <td>Influenza and pneumonia</td>\n",
       "      <td>25-34</td>\n",
       "      <td>1293.0</td>\n",
       "    </tr>\n",
       "    <tr>\n",
       "      <th>2</th>\n",
       "      <td>US</td>\n",
       "      <td>Respiratory diseases</td>\n",
       "      <td>Influenza and pneumonia</td>\n",
       "      <td>35-44</td>\n",
       "      <td>3496.0</td>\n",
       "    </tr>\n",
       "    <tr>\n",
       "      <th>3</th>\n",
       "      <td>US</td>\n",
       "      <td>Respiratory diseases</td>\n",
       "      <td>Influenza and pneumonia</td>\n",
       "      <td>45-54</td>\n",
       "      <td>10380.0</td>\n",
       "    </tr>\n",
       "    <tr>\n",
       "      <th>4</th>\n",
       "      <td>US</td>\n",
       "      <td>Respiratory diseases</td>\n",
       "      <td>Influenza and pneumonia</td>\n",
       "      <td>55-64</td>\n",
       "      <td>26578.0</td>\n",
       "    </tr>\n",
       "  </tbody>\n",
       "</table>\n",
       "</div>"
      ],
      "text/plain": [
       "  State       Condition Group                Condition Age Group  \\\n",
       "0    US  Respiratory diseases  Influenza and pneumonia      0-24   \n",
       "1    US  Respiratory diseases  Influenza and pneumonia     25-34   \n",
       "2    US  Respiratory diseases  Influenza and pneumonia     35-44   \n",
       "3    US  Respiratory diseases  Influenza and pneumonia     45-54   \n",
       "4    US  Respiratory diseases  Influenza and pneumonia     55-64   \n",
       "\n",
       "   COVID-19 Deaths  \n",
       "0            273.0  \n",
       "1           1293.0  \n",
       "2           3496.0  \n",
       "3          10380.0  \n",
       "4          26578.0  "
      ]
     },
     "execution_count": 7,
     "metadata": {},
     "output_type": "execute_result"
    }
   ],
   "source": [
    "## display few records from the dataframe\n",
    "\n",
    "temp_df.head()"
   ]
  },
  {
   "cell_type": "markdown",
   "metadata": {},
   "source": [
    "# Replace Headers / Column names with shorter meaningful names"
   ]
  },
  {
   "cell_type": "code",
   "execution_count": 8,
   "metadata": {},
   "outputs": [],
   "source": [
    "## reference source : https://pandas.pydata.org/pandas-docs/stable/reference/api/pandas.DataFrame.rename.html\n",
    "\n",
    "## rename the column names to be more convenient and shorter but meaningful names\n",
    "\n",
    "temp_df.rename(columns={'State': \"CTRY_State\", 'Condition Group': 'Health_Cond_Grp', 'Condition': 'Health_Cond', 'Age Group': 'Age_Grp', 'COVID-19 Deaths': 'COVID_Deaths'}, inplace=True)"
   ]
  },
  {
   "cell_type": "markdown",
   "metadata": {},
   "source": [
    "# Identify presence of bad data / NaN values and replace the values with default"
   ]
  },
  {
   "cell_type": "code",
   "execution_count": 9,
   "metadata": {},
   "outputs": [
    {
     "name": "stdout",
     "output_type": "stream",
     "text": [
      "Number of Null values in CTRY_State is : 0\n",
      "Number of Null values in Health_Cond_Grp is : 0\n",
      "Number of Null values in Health_Cond is : 0\n",
      "Number of Null values in Age_Grp is : 0\n",
      "Number of Null values in COVID_Deaths is : 2580\n"
     ]
    }
   ],
   "source": [
    "## we will check if there are any null values present in the columns which we have selected for further analysis\n",
    "\n",
    "print(f'Number of Null values in CTRY_State is : {temp_df.CTRY_State.isnull().sum()}')\n",
    "print(f'Number of Null values in Health_Cond_Grp is : {temp_df.Health_Cond_Grp.isnull().sum()}')\n",
    "print(f'Number of Null values in Health_Cond is : {temp_df.Health_Cond.isnull().sum()}')\n",
    "print(f'Number of Null values in Age_Grp is : {temp_df.Age_Grp.isnull().sum()}')\n",
    "print(f'Number of Null values in COVID_Deaths is : {temp_df.COVID_Deaths.isnull().sum()}')"
   ]
  },
  {
   "cell_type": "markdown",
   "metadata": {},
   "source": [
    "#### Looking at above, we can notice that COVID_Deaths columns appears to have NaN values.\n",
    "\n",
    "#### The reason for NaN / missing values is the counts values are between 1 - 9. This appears to be the case for State level data only.\n",
    "\n",
    "#### So, We may have to default these values to count as 1, since we are not sure of the exact counts."
   ]
  },
  {
   "cell_type": "code",
   "execution_count": 10,
   "metadata": {},
   "outputs": [],
   "source": [
    "## Replace NaN values in COVID Deaths counts columns with Default value of 1.\n",
    "\n",
    "temp_df['COVID_Deaths'] = temp_df['COVID_Deaths'].fillna(1)"
   ]
  },
  {
   "cell_type": "markdown",
   "metadata": {},
   "source": [
    "# Find if any duplicate rows present in the data frame"
   ]
  },
  {
   "cell_type": "code",
   "execution_count": 11,
   "metadata": {},
   "outputs": [],
   "source": [
    "## Checking if there are any duplicate values within the dataframe, at a row level\n",
    "\n",
    "duplicate_rows_df = temp_df[temp_df.duplicated()]"
   ]
  },
  {
   "cell_type": "code",
   "execution_count": 12,
   "metadata": {},
   "outputs": [
    {
     "data": {
      "text/plain": [
       "(0, 5)"
      ]
     },
     "execution_count": 12,
     "metadata": {},
     "output_type": "execute_result"
    }
   ],
   "source": [
    "## Checking how many duplicate rows found\n",
    "\n",
    "duplicate_rows_df.shape"
   ]
  },
  {
   "cell_type": "markdown",
   "metadata": {},
   "source": [
    "### It appears that there are no duplicate rows"
   ]
  },
  {
   "cell_type": "markdown",
   "metadata": {},
   "source": [
    "# Remove blanks / spaces around text column values"
   ]
  },
  {
   "cell_type": "code",
   "execution_count": 13,
   "metadata": {},
   "outputs": [],
   "source": [
    "## Data cleaning step to ensure there are no leading or training spaces around Text value columns \n",
    "## CTRY_State, Health_Cond_Grp and Health_Cond are those columns with Text values.\n",
    "\n",
    "temp_df['CTRY_State'] = temp_df['CTRY_State'].str.strip()\n",
    "temp_df['Health_Cond_Grp'] = temp_df['Health_Cond_Grp'].str.strip()\n",
    "temp_df['Health_Cond'] = temp_df['Health_Cond'].str.strip()"
   ]
  },
  {
   "cell_type": "markdown",
   "metadata": {},
   "source": [
    "# Performing following steps for creating subset dataframes.\n",
    "## This will help in segregating the national level data and state level data"
   ]
  },
  {
   "cell_type": "code",
   "execution_count": 14,
   "metadata": {},
   "outputs": [],
   "source": [
    "## further filter out only the US : National level data from this csv data source, \n",
    "## since we will be using it for further analysis\n",
    "\n",
    "df_national = temp_df[temp_df.CTRY_State == 'US']\n",
    "df_states   = temp_df[temp_df.CTRY_State != 'US']"
   ]
  },
  {
   "cell_type": "code",
   "execution_count": 15,
   "metadata": {},
   "outputs": [
    {
     "name": "stdout",
     "output_type": "stream",
     "text": [
      "Size of the national data is: (230, 5)\n",
      "Size of the state data is: (12190, 5)\n"
     ]
    }
   ],
   "source": [
    "## check the size / shape of the dataframe created\n",
    "\n",
    "print(f'Size of the national data is: {df_national.shape}')\n",
    "print(f'Size of the state data is: {df_states.shape}')"
   ]
  },
  {
   "cell_type": "code",
   "execution_count": 16,
   "metadata": {},
   "outputs": [
    {
     "data": {
      "text/html": [
       "<div>\n",
       "<style scoped>\n",
       "    .dataframe tbody tr th:only-of-type {\n",
       "        vertical-align: middle;\n",
       "    }\n",
       "\n",
       "    .dataframe tbody tr th {\n",
       "        vertical-align: top;\n",
       "    }\n",
       "\n",
       "    .dataframe thead th {\n",
       "        text-align: right;\n",
       "    }\n",
       "</style>\n",
       "<table border=\"1\" class=\"dataframe\">\n",
       "  <thead>\n",
       "    <tr style=\"text-align: right;\">\n",
       "      <th></th>\n",
       "      <th>CTRY_State</th>\n",
       "      <th>Health_Cond_Grp</th>\n",
       "      <th>Health_Cond</th>\n",
       "      <th>Age_Grp</th>\n",
       "      <th>COVID_Deaths</th>\n",
       "    </tr>\n",
       "  </thead>\n",
       "  <tbody>\n",
       "    <tr>\n",
       "      <th>0</th>\n",
       "      <td>US</td>\n",
       "      <td>Respiratory diseases</td>\n",
       "      <td>Influenza and pneumonia</td>\n",
       "      <td>0-24</td>\n",
       "      <td>273.0</td>\n",
       "    </tr>\n",
       "    <tr>\n",
       "      <th>1</th>\n",
       "      <td>US</td>\n",
       "      <td>Respiratory diseases</td>\n",
       "      <td>Influenza and pneumonia</td>\n",
       "      <td>25-34</td>\n",
       "      <td>1293.0</td>\n",
       "    </tr>\n",
       "    <tr>\n",
       "      <th>2</th>\n",
       "      <td>US</td>\n",
       "      <td>Respiratory diseases</td>\n",
       "      <td>Influenza and pneumonia</td>\n",
       "      <td>35-44</td>\n",
       "      <td>3496.0</td>\n",
       "    </tr>\n",
       "    <tr>\n",
       "      <th>3</th>\n",
       "      <td>US</td>\n",
       "      <td>Respiratory diseases</td>\n",
       "      <td>Influenza and pneumonia</td>\n",
       "      <td>45-54</td>\n",
       "      <td>10380.0</td>\n",
       "    </tr>\n",
       "    <tr>\n",
       "      <th>4</th>\n",
       "      <td>US</td>\n",
       "      <td>Respiratory diseases</td>\n",
       "      <td>Influenza and pneumonia</td>\n",
       "      <td>55-64</td>\n",
       "      <td>26578.0</td>\n",
       "    </tr>\n",
       "  </tbody>\n",
       "</table>\n",
       "</div>"
      ],
      "text/plain": [
       "  CTRY_State       Health_Cond_Grp              Health_Cond Age_Grp  \\\n",
       "0         US  Respiratory diseases  Influenza and pneumonia    0-24   \n",
       "1         US  Respiratory diseases  Influenza and pneumonia   25-34   \n",
       "2         US  Respiratory diseases  Influenza and pneumonia   35-44   \n",
       "3         US  Respiratory diseases  Influenza and pneumonia   45-54   \n",
       "4         US  Respiratory diseases  Influenza and pneumonia   55-64   \n",
       "\n",
       "   COVID_Deaths  \n",
       "0         273.0  \n",
       "1        1293.0  \n",
       "2        3496.0  \n",
       "3       10380.0  \n",
       "4       26578.0  "
      ]
     },
     "execution_count": 16,
     "metadata": {},
     "output_type": "execute_result"
    }
   ],
   "source": [
    "## display the initial data of the new subset and filtered dataframe\n",
    "\n",
    "df_national.head()"
   ]
  },
  {
   "cell_type": "code",
   "execution_count": 17,
   "metadata": {},
   "outputs": [
    {
     "data": {
      "text/html": [
       "<div>\n",
       "<style scoped>\n",
       "    .dataframe tbody tr th:only-of-type {\n",
       "        vertical-align: middle;\n",
       "    }\n",
       "\n",
       "    .dataframe tbody tr th {\n",
       "        vertical-align: top;\n",
       "    }\n",
       "\n",
       "    .dataframe thead th {\n",
       "        text-align: right;\n",
       "    }\n",
       "</style>\n",
       "<table border=\"1\" class=\"dataframe\">\n",
       "  <thead>\n",
       "    <tr style=\"text-align: right;\">\n",
       "      <th></th>\n",
       "      <th>CTRY_State</th>\n",
       "      <th>Health_Cond_Grp</th>\n",
       "      <th>Health_Cond</th>\n",
       "      <th>Age_Grp</th>\n",
       "      <th>COVID_Deaths</th>\n",
       "    </tr>\n",
       "  </thead>\n",
       "  <tbody>\n",
       "    <tr>\n",
       "      <th>230</th>\n",
       "      <td>AL</td>\n",
       "      <td>Respiratory diseases</td>\n",
       "      <td>Influenza and pneumonia</td>\n",
       "      <td>0-24</td>\n",
       "      <td>1.0</td>\n",
       "    </tr>\n",
       "    <tr>\n",
       "      <th>231</th>\n",
       "      <td>AL</td>\n",
       "      <td>Respiratory diseases</td>\n",
       "      <td>Influenza and pneumonia</td>\n",
       "      <td>25-34</td>\n",
       "      <td>24.0</td>\n",
       "    </tr>\n",
       "    <tr>\n",
       "      <th>232</th>\n",
       "      <td>AL</td>\n",
       "      <td>Respiratory diseases</td>\n",
       "      <td>Influenza and pneumonia</td>\n",
       "      <td>35-44</td>\n",
       "      <td>47.0</td>\n",
       "    </tr>\n",
       "    <tr>\n",
       "      <th>233</th>\n",
       "      <td>AL</td>\n",
       "      <td>Respiratory diseases</td>\n",
       "      <td>Influenza and pneumonia</td>\n",
       "      <td>45-54</td>\n",
       "      <td>146.0</td>\n",
       "    </tr>\n",
       "    <tr>\n",
       "      <th>234</th>\n",
       "      <td>AL</td>\n",
       "      <td>Respiratory diseases</td>\n",
       "      <td>Influenza and pneumonia</td>\n",
       "      <td>55-64</td>\n",
       "      <td>345.0</td>\n",
       "    </tr>\n",
       "  </tbody>\n",
       "</table>\n",
       "</div>"
      ],
      "text/plain": [
       "    CTRY_State       Health_Cond_Grp              Health_Cond Age_Grp  \\\n",
       "230         AL  Respiratory diseases  Influenza and pneumonia    0-24   \n",
       "231         AL  Respiratory diseases  Influenza and pneumonia   25-34   \n",
       "232         AL  Respiratory diseases  Influenza and pneumonia   35-44   \n",
       "233         AL  Respiratory diseases  Influenza and pneumonia   45-54   \n",
       "234         AL  Respiratory diseases  Influenza and pneumonia   55-64   \n",
       "\n",
       "     COVID_Deaths  \n",
       "230           1.0  \n",
       "231          24.0  \n",
       "232          47.0  \n",
       "233         146.0  \n",
       "234         345.0  "
      ]
     },
     "execution_count": 17,
     "metadata": {},
     "output_type": "execute_result"
    }
   ],
   "source": [
    "## display the initial data of the new subset and filtered dataframe\n",
    "\n",
    "df_states.head()"
   ]
  },
  {
   "cell_type": "code",
   "execution_count": 18,
   "metadata": {},
   "outputs": [],
   "source": [
    "## prepare filtered out subset COVID-19 data frames for national and states level.\n",
    "## looking at the original csv file, 'COVID-19' is the value present in Health Condition Group column. So, using that value\n",
    "## for filter condition\n",
    "\n",
    "covid_df_national = df_national[df_national.Health_Cond_Grp == 'COVID-19']\n",
    "covid_df_states   = df_states[df_states.Health_Cond_Grp == 'COVID-19']"
   ]
  },
  {
   "cell_type": "code",
   "execution_count": 19,
   "metadata": {},
   "outputs": [
    {
     "name": "stdout",
     "output_type": "stream",
     "text": [
      "Size of the national data is: (10, 5)\n",
      "Size of the state data is: (530, 5)\n"
     ]
    }
   ],
   "source": [
    "## check the size / shape of the dataframe created\n",
    "\n",
    "print(f'Size of the national data is: {covid_df_national.shape}')\n",
    "print(f'Size of the state data is: {covid_df_states.shape}')"
   ]
  },
  {
   "cell_type": "code",
   "execution_count": 20,
   "metadata": {},
   "outputs": [
    {
     "data": {
      "text/html": [
       "<div>\n",
       "<style scoped>\n",
       "    .dataframe tbody tr th:only-of-type {\n",
       "        vertical-align: middle;\n",
       "    }\n",
       "\n",
       "    .dataframe tbody tr th {\n",
       "        vertical-align: top;\n",
       "    }\n",
       "\n",
       "    .dataframe thead th {\n",
       "        text-align: right;\n",
       "    }\n",
       "</style>\n",
       "<table border=\"1\" class=\"dataframe\">\n",
       "  <thead>\n",
       "    <tr style=\"text-align: right;\">\n",
       "      <th></th>\n",
       "      <th>CTRY_State</th>\n",
       "      <th>Health_Cond_Grp</th>\n",
       "      <th>Health_Cond</th>\n",
       "      <th>Age_Grp</th>\n",
       "      <th>COVID_Deaths</th>\n",
       "    </tr>\n",
       "  </thead>\n",
       "  <tbody>\n",
       "    <tr>\n",
       "      <th>220</th>\n",
       "      <td>US</td>\n",
       "      <td>COVID-19</td>\n",
       "      <td>COVID-19</td>\n",
       "      <td>0-24</td>\n",
       "      <td>783.0</td>\n",
       "    </tr>\n",
       "    <tr>\n",
       "      <th>221</th>\n",
       "      <td>US</td>\n",
       "      <td>COVID-19</td>\n",
       "      <td>COVID-19</td>\n",
       "      <td>25-34</td>\n",
       "      <td>2891.0</td>\n",
       "    </tr>\n",
       "    <tr>\n",
       "      <th>222</th>\n",
       "      <td>US</td>\n",
       "      <td>COVID-19</td>\n",
       "      <td>COVID-19</td>\n",
       "      <td>35-44</td>\n",
       "      <td>7617.0</td>\n",
       "    </tr>\n",
       "    <tr>\n",
       "      <th>223</th>\n",
       "      <td>US</td>\n",
       "      <td>COVID-19</td>\n",
       "      <td>COVID-19</td>\n",
       "      <td>45-54</td>\n",
       "      <td>21007.0</td>\n",
       "    </tr>\n",
       "    <tr>\n",
       "      <th>224</th>\n",
       "      <td>US</td>\n",
       "      <td>COVID-19</td>\n",
       "      <td>COVID-19</td>\n",
       "      <td>55-64</td>\n",
       "      <td>53477.0</td>\n",
       "    </tr>\n",
       "  </tbody>\n",
       "</table>\n",
       "</div>"
      ],
      "text/plain": [
       "    CTRY_State Health_Cond_Grp Health_Cond Age_Grp  COVID_Deaths\n",
       "220         US        COVID-19    COVID-19    0-24         783.0\n",
       "221         US        COVID-19    COVID-19   25-34        2891.0\n",
       "222         US        COVID-19    COVID-19   35-44        7617.0\n",
       "223         US        COVID-19    COVID-19   45-54       21007.0\n",
       "224         US        COVID-19    COVID-19   55-64       53477.0"
      ]
     },
     "execution_count": 20,
     "metadata": {},
     "output_type": "execute_result"
    }
   ],
   "source": [
    "## display the initial data of the new subset and filtered dataframe\n",
    "\n",
    "covid_df_national.head()"
   ]
  },
  {
   "cell_type": "code",
   "execution_count": 21,
   "metadata": {
    "scrolled": true
   },
   "outputs": [
    {
     "data": {
      "text/html": [
       "<div>\n",
       "<style scoped>\n",
       "    .dataframe tbody tr th:only-of-type {\n",
       "        vertical-align: middle;\n",
       "    }\n",
       "\n",
       "    .dataframe tbody tr th {\n",
       "        vertical-align: top;\n",
       "    }\n",
       "\n",
       "    .dataframe thead th {\n",
       "        text-align: right;\n",
       "    }\n",
       "</style>\n",
       "<table border=\"1\" class=\"dataframe\">\n",
       "  <thead>\n",
       "    <tr style=\"text-align: right;\">\n",
       "      <th></th>\n",
       "      <th>CTRY_State</th>\n",
       "      <th>Health_Cond_Grp</th>\n",
       "      <th>Health_Cond</th>\n",
       "      <th>Age_Grp</th>\n",
       "      <th>COVID_Deaths</th>\n",
       "    </tr>\n",
       "  </thead>\n",
       "  <tbody>\n",
       "    <tr>\n",
       "      <th>450</th>\n",
       "      <td>AL</td>\n",
       "      <td>COVID-19</td>\n",
       "      <td>COVID-19</td>\n",
       "      <td>0-24</td>\n",
       "      <td>10.0</td>\n",
       "    </tr>\n",
       "    <tr>\n",
       "      <th>451</th>\n",
       "      <td>AL</td>\n",
       "      <td>COVID-19</td>\n",
       "      <td>COVID-19</td>\n",
       "      <td>25-34</td>\n",
       "      <td>53.0</td>\n",
       "    </tr>\n",
       "    <tr>\n",
       "      <th>452</th>\n",
       "      <td>AL</td>\n",
       "      <td>COVID-19</td>\n",
       "      <td>COVID-19</td>\n",
       "      <td>35-44</td>\n",
       "      <td>158.0</td>\n",
       "    </tr>\n",
       "    <tr>\n",
       "      <th>453</th>\n",
       "      <td>AL</td>\n",
       "      <td>COVID-19</td>\n",
       "      <td>COVID-19</td>\n",
       "      <td>45-54</td>\n",
       "      <td>470.0</td>\n",
       "    </tr>\n",
       "    <tr>\n",
       "      <th>454</th>\n",
       "      <td>AL</td>\n",
       "      <td>COVID-19</td>\n",
       "      <td>COVID-19</td>\n",
       "      <td>55-64</td>\n",
       "      <td>1158.0</td>\n",
       "    </tr>\n",
       "  </tbody>\n",
       "</table>\n",
       "</div>"
      ],
      "text/plain": [
       "    CTRY_State Health_Cond_Grp Health_Cond Age_Grp  COVID_Deaths\n",
       "450         AL        COVID-19    COVID-19    0-24          10.0\n",
       "451         AL        COVID-19    COVID-19   25-34          53.0\n",
       "452         AL        COVID-19    COVID-19   35-44         158.0\n",
       "453         AL        COVID-19    COVID-19   45-54         470.0\n",
       "454         AL        COVID-19    COVID-19   55-64        1158.0"
      ]
     },
     "execution_count": 21,
     "metadata": {},
     "output_type": "execute_result"
    }
   ],
   "source": [
    "covid_df_states.head()"
   ]
  },
  {
   "cell_type": "markdown",
   "metadata": {},
   "source": [
    "# Perform Group by operation and find out the counts column aggregations\n",
    "\n",
    "## This step is another data cleaning / preparation step to move closer to the visualizations and ensures that Aggregated data provided within the csv file is matching the information provided."
   ]
  },
  {
   "cell_type": "code",
   "execution_count": 22,
   "metadata": {},
   "outputs": [],
   "source": [
    "### calculate national and state level numbers from respective dataframes : Use groupby state and add up COVID_Deaths.\n",
    "## Ensure to ommit the 'All Ages' records, since those are already the summarized records\n",
    "\n",
    "covid_df_national_agg = covid_df_national[covid_df_national.Age_Grp != 'All Ages'].groupby(['CTRY_State']).sum()\n",
    "covid_df_states_agg = covid_df_states[covid_df_states.Age_Grp != 'All Ages'].groupby(['CTRY_State']).sum()"
   ]
  },
  {
   "cell_type": "code",
   "execution_count": 23,
   "metadata": {},
   "outputs": [
    {
     "data": {
      "text/html": [
       "<div>\n",
       "<style scoped>\n",
       "    .dataframe tbody tr th:only-of-type {\n",
       "        vertical-align: middle;\n",
       "    }\n",
       "\n",
       "    .dataframe tbody tr th {\n",
       "        vertical-align: top;\n",
       "    }\n",
       "\n",
       "    .dataframe thead th {\n",
       "        text-align: right;\n",
       "    }\n",
       "</style>\n",
       "<table border=\"1\" class=\"dataframe\">\n",
       "  <thead>\n",
       "    <tr style=\"text-align: right;\">\n",
       "      <th></th>\n",
       "      <th>COVID_Deaths</th>\n",
       "    </tr>\n",
       "    <tr>\n",
       "      <th>CTRY_State</th>\n",
       "      <th></th>\n",
       "    </tr>\n",
       "  </thead>\n",
       "  <tbody>\n",
       "    <tr>\n",
       "      <th>US</th>\n",
       "      <td>455247.0</td>\n",
       "    </tr>\n",
       "  </tbody>\n",
       "</table>\n",
       "</div>"
      ],
      "text/plain": [
       "            COVID_Deaths\n",
       "CTRY_State              \n",
       "US              455247.0"
      ]
     },
     "execution_count": 23,
     "metadata": {},
     "output_type": "execute_result"
    }
   ],
   "source": [
    "## Display the national level data aggregations performed\n",
    "\n",
    "covid_df_national_agg"
   ]
  },
  {
   "cell_type": "code",
   "execution_count": 24,
   "metadata": {},
   "outputs": [
    {
     "data": {
      "text/html": [
       "<div>\n",
       "<style scoped>\n",
       "    .dataframe tbody tr th:only-of-type {\n",
       "        vertical-align: middle;\n",
       "    }\n",
       "\n",
       "    .dataframe tbody tr th {\n",
       "        vertical-align: top;\n",
       "    }\n",
       "\n",
       "    .dataframe thead th {\n",
       "        text-align: right;\n",
       "    }\n",
       "</style>\n",
       "<table border=\"1\" class=\"dataframe\">\n",
       "  <thead>\n",
       "    <tr style=\"text-align: right;\">\n",
       "      <th></th>\n",
       "      <th>CTRY_State</th>\n",
       "      <th>Health_Cond_Grp</th>\n",
       "      <th>Health_Cond</th>\n",
       "      <th>Age_Grp</th>\n",
       "      <th>COVID_Deaths</th>\n",
       "    </tr>\n",
       "  </thead>\n",
       "  <tbody>\n",
       "    <tr>\n",
       "      <th>229</th>\n",
       "      <td>US</td>\n",
       "      <td>COVID-19</td>\n",
       "      <td>COVID-19</td>\n",
       "      <td>All Ages</td>\n",
       "      <td>455247.0</td>\n",
       "    </tr>\n",
       "  </tbody>\n",
       "</table>\n",
       "</div>"
      ],
      "text/plain": [
       "    CTRY_State Health_Cond_Grp Health_Cond   Age_Grp  COVID_Deaths\n",
       "229         US        COVID-19    COVID-19  All Ages      455247.0"
      ]
     },
     "execution_count": 24,
     "metadata": {},
     "output_type": "execute_result"
    }
   ],
   "source": [
    "## display the available 'All Ages' counts provided in csv\n",
    "\n",
    "covid_df_national[covid_df_national.Age_Grp == 'All Ages']"
   ]
  },
  {
   "cell_type": "markdown",
   "metadata": {},
   "source": [
    "### After performing the aggregations of counts in the national level data dataframe, the counts appear to match with the 'All Ages' data provided in csv.\n",
    "\n",
    "## So, the counts part of the data is clean at national level"
   ]
  },
  {
   "cell_type": "code",
   "execution_count": 25,
   "metadata": {},
   "outputs": [
    {
     "data": {
      "text/html": [
       "<div>\n",
       "<style scoped>\n",
       "    .dataframe tbody tr th:only-of-type {\n",
       "        vertical-align: middle;\n",
       "    }\n",
       "\n",
       "    .dataframe tbody tr th {\n",
       "        vertical-align: top;\n",
       "    }\n",
       "\n",
       "    .dataframe thead th {\n",
       "        text-align: right;\n",
       "    }\n",
       "</style>\n",
       "<table border=\"1\" class=\"dataframe\">\n",
       "  <thead>\n",
       "    <tr style=\"text-align: right;\">\n",
       "      <th></th>\n",
       "      <th>COVID_Deaths</th>\n",
       "    </tr>\n",
       "    <tr>\n",
       "      <th>CTRY_State</th>\n",
       "      <th></th>\n",
       "    </tr>\n",
       "  </thead>\n",
       "  <tbody>\n",
       "    <tr>\n",
       "      <th>AK</th>\n",
       "      <td>269.0</td>\n",
       "    </tr>\n",
       "    <tr>\n",
       "      <th>AL</th>\n",
       "      <td>8582.0</td>\n",
       "    </tr>\n",
       "    <tr>\n",
       "      <th>AR</th>\n",
       "      <td>5046.0</td>\n",
       "    </tr>\n",
       "    <tr>\n",
       "      <th>AZ</th>\n",
       "      <td>12953.0</td>\n",
       "    </tr>\n",
       "    <tr>\n",
       "      <th>CA</th>\n",
       "      <td>46722.0</td>\n",
       "    </tr>\n",
       "  </tbody>\n",
       "</table>\n",
       "</div>"
      ],
      "text/plain": [
       "            COVID_Deaths\n",
       "CTRY_State              \n",
       "AK                 269.0\n",
       "AL                8582.0\n",
       "AR                5046.0\n",
       "AZ               12953.0\n",
       "CA               46722.0"
      ]
     },
     "execution_count": 25,
     "metadata": {},
     "output_type": "execute_result"
    }
   ],
   "source": [
    "## display the initial part of state level aggregations performed.\n",
    "## NOT performing the aggregation validations at State level, since we had to perform the NaN value replacements with\n",
    "## Default value of '1' earlier. So, the counts may not match for all cases.\n",
    "\n",
    "\n",
    "covid_df_states_agg.head()"
   ]
  },
  {
   "cell_type": "markdown",
   "metadata": {},
   "source": [
    "# Plots from national level dataframe"
   ]
  },
  {
   "cell_type": "code",
   "execution_count": 26,
   "metadata": {},
   "outputs": [],
   "source": [
    "## prepare the Age group level information for visualization / plot\n",
    "## This will help us understand the impact of COVID-19 on various Age groups and identify which age groups are more at risk\n",
    "\n",
    "x = covid_df_national.Age_Grp[covid_df_national.Age_Grp != 'All Ages']\n",
    "y = covid_df_national.COVID_Deaths[covid_df_national.Age_Grp != 'All Ages']"
   ]
  },
  {
   "cell_type": "code",
   "execution_count": 27,
   "metadata": {},
   "outputs": [
    {
     "data": {
      "text/plain": [
       "(220          0-24\n",
       " 221         25-34\n",
       " 222         35-44\n",
       " 223         45-54\n",
       " 224         55-64\n",
       " 225         65-74\n",
       " 226         75-84\n",
       " 227           85+\n",
       " 228    Not stated\n",
       " Name: Age_Grp, dtype: object,\n",
       " 220       783.0\n",
       " 221      2891.0\n",
       " 222      7617.0\n",
       " 223     21007.0\n",
       " 224     53477.0\n",
       " 225     97800.0\n",
       " 226    126780.0\n",
       " 227    144883.0\n",
       " 228         9.0\n",
       " Name: COVID_Deaths, dtype: float64)"
      ]
     },
     "execution_count": 27,
     "metadata": {},
     "output_type": "execute_result"
    }
   ],
   "source": [
    "## print out the temporary variables - column series created\n",
    "x, y"
   ]
  },
  {
   "cell_type": "code",
   "execution_count": 28,
   "metadata": {},
   "outputs": [
    {
     "data": {
      "image/png": "[encoded data removed]",
      "text/plain": [
       "<Figure size 720x576 with 1 Axes>"
      ]
     },
     "metadata": {
      "needs_background": "light"
     },
     "output_type": "display_data"
    }
   ],
   "source": [
    "## plot the Age group vs Covid-19 Counts bar graph using matplotlib\n",
    "## setting the appropriate title and labels for the plot. figure size helps draw larger size plots with clear information.\n",
    "\n",
    "plt.figure(figsize=(10, 8))\n",
    "plt.bar(x, y)\n",
    "plt.xlabel('Age Groups')\n",
    "plt.ylabel('COVID-19 Deaths')\n",
    "plt.title('National level COVID-19 Deaths by Age groups')\n",
    "plt.show()"
   ]
  },
  {
   "cell_type": "markdown",
   "metadata": {},
   "source": [
    "## It appears that the older age groups are affected to a higher extent due to the Covid-19"
   ]
  },
  {
   "cell_type": "markdown",
   "metadata": {},
   "source": [
    "# State level counts plot"
   ]
  },
  {
   "cell_type": "code",
   "execution_count": 29,
   "metadata": {},
   "outputs": [],
   "source": [
    "## retrieve the subset information from the state code and counts columns for aggregated - 'All Ages' level information\n",
    "\n",
    "x1 = covid_df_states.CTRY_State[covid_df_states.Age_Grp == 'All Ages']\n",
    "y1 = covid_df_states.COVID_Deaths[covid_df_states.Age_Grp == 'All Ages']"
   ]
  },
  {
   "cell_type": "code",
   "execution_count": 30,
   "metadata": {},
   "outputs": [
    {
     "data": {
      "image/png": "[encoded data removed]",
      "text/plain": [
       "<Figure size 1296x720 with 1 Axes>"
      ]
     },
     "metadata": {
      "needs_background": "light"
     },
     "output_type": "display_data"
    }
   ],
   "source": [
    "## plot the Age group vs Covid-19 Counts bar graph using matplotlib\n",
    "## setting the appropriate title and labels for the plot. figure size helps draw larger size plots with clear information.\n",
    "\n",
    "plt.figure(figsize=(18, 10))\n",
    "plt.bar(x1, y1)\n",
    "plt.xlabel('States')\n",
    "plt.ylabel('COVID-19 Deaths')\n",
    "plt.title('National level COVID-19 Deaths by Age groups')\n",
    "plt.show()"
   ]
  },
  {
   "cell_type": "markdown",
   "metadata": {},
   "source": [
    "## Looking at the above bar charts, it appears that Top 3 affected States / Regions are:\n",
    "\n",
    "### 1) Texas (TX)\n",
    "### 2) California (CA)\n",
    "### 3) New York City (YC)"
   ]
  },
  {
   "cell_type": "markdown",
   "metadata": {},
   "source": [
    "# Copy the the temp_df DataFrame, which has the cleaned up data, into csv. This csv file will be be used in the final milestone of the project"
   ]
  },
  {
   "cell_type": "code",
   "execution_count": 33,
   "metadata": {},
   "outputs": [],
   "source": [
    "## extract only COVID-19 related information and at the summary level i.e. for 'All Ages'\n",
    "\n",
    "load_df = covid_df_states[(covid_df_states.Age_Grp == 'All Ages') & (covid_df_states.Health_Cond_Grp == 'COVID-19')]"
   ]
  },
  {
   "cell_type": "code",
   "execution_count": 45,
   "metadata": {},
   "outputs": [],
   "source": [
    "## Set Index on CTRY_State column. Reason is, we will need to add the counts from 'YC' to existing counts for 'NY'\n",
    "## because both fall under State of New York. So, we need to maintain single entry.\n",
    "\n",
    "load_csv = load_df.set_index('CTRY_State')"
   ]
  },
  {
   "cell_type": "code",
   "execution_count": 36,
   "metadata": {},
   "outputs": [],
   "source": [
    "## adding the counts for 'YC' to the counts for 'NY'\n",
    "\n",
    "load_csv['COVID_Deaths'].loc['NY'] += load_csv['COVID_Deaths'].loc['YC']"
   ]
  },
  {
   "cell_type": "code",
   "execution_count": 41,
   "metadata": {
    "scrolled": true
   },
   "outputs": [],
   "source": [
    "## reset the index once the operation above is performed. This will restore all the columns normally\n",
    "load_csv = load_csv.reset_index()"
   ]
  },
  {
   "cell_type": "code",
   "execution_count": 42,
   "metadata": {},
   "outputs": [],
   "source": [
    "## other than 'YC' counts records, all the records should be retained and later saved in csv\n",
    "\n",
    "load_df = load_csv[load_csv.CTRY_State != 'YC']"
   ]
  },
  {
   "cell_type": "code",
   "execution_count": 44,
   "metadata": {},
   "outputs": [],
   "source": [
    "## write the COVID-19 DataFrame in csv\n",
    "\n",
    "load_df.to_csv(\"Covid_csv_data.csv\", index=False)"
   ]
  },
  {
   "cell_type": "code",
   "execution_count": null,
   "metadata": {},
   "outputs": [],
   "source": []
  }
 ],
 "metadata": {
  "kernelspec": {
   "display_name": "Python 3",
   "language": "python",
   "name": "python3"
  },
  "language_info": {
   "codemirror_mode": {
    "name": "ipython",
    "version": 3
   },
   "file_extension": ".py",
   "mimetype": "text/x-python",
   "name": "python",
   "nbconvert_exporter": "python",
   "pygments_lexer": "ipython3",
   "version": "3.8.5"
  }
 },
 "nbformat": 4,
 "nbformat_minor": 4
}
