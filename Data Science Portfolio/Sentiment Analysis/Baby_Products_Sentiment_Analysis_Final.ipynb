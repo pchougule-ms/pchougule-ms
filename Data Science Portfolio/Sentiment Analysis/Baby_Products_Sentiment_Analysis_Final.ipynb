{
 "cells": [
  {
   "cell_type": "code",
   "execution_count": 1,
   "id": "5cda5216",
   "metadata": {},
   "outputs": [],
   "source": [
    "## Import the Required Libraries\n",
    "import pandas as pd\n",
    "import numpy as np\n",
    "import string\n",
    "\n",
    "\n",
    "## for graphs / visualization\n",
    "import matplotlib.pyplot as plt\n",
    "#import seaborn as sns\n",
    "\n",
    "## ignore warnings\n",
    "import warnings\n",
    "warnings.filterwarnings(\"ignore\")\n",
    "\n",
    "## regular expression library\n",
    "import re"
   ]
  },
  {
   "cell_type": "code",
   "execution_count": 2,
   "id": "5bd7899a",
   "metadata": {
    "scrolled": true
   },
   "outputs": [
    {
     "data": {
      "text/html": [
       "<div>\n",
       "<style scoped>\n",
       "    .dataframe tbody tr th:only-of-type {\n",
       "        vertical-align: middle;\n",
       "    }\n",
       "\n",
       "    .dataframe tbody tr th {\n",
       "        vertical-align: top;\n",
       "    }\n",
       "\n",
       "    .dataframe thead th {\n",
       "        text-align: right;\n",
       "    }\n",
       "</style>\n",
       "<table border=\"1\" class=\"dataframe\">\n",
       "  <thead>\n",
       "    <tr style=\"text-align: right;\">\n",
       "      <th></th>\n",
       "      <th>name</th>\n",
       "      <th>review</th>\n",
       "      <th>rating</th>\n",
       "    </tr>\n",
       "  </thead>\n",
       "  <tbody>\n",
       "    <tr>\n",
       "      <th>0</th>\n",
       "      <td>Planetwise Flannel Wipes</td>\n",
       "      <td>These flannel wipes are OK, but in my opinion ...</td>\n",
       "      <td>3</td>\n",
       "    </tr>\n",
       "    <tr>\n",
       "      <th>1</th>\n",
       "      <td>Planetwise Wipe Pouch</td>\n",
       "      <td>it came early and was not disappointed. i love...</td>\n",
       "      <td>5</td>\n",
       "    </tr>\n",
       "    <tr>\n",
       "      <th>2</th>\n",
       "      <td>Annas Dream Full Quilt with 2 Shams</td>\n",
       "      <td>Very soft and comfortable and warmer than it l...</td>\n",
       "      <td>5</td>\n",
       "    </tr>\n",
       "    <tr>\n",
       "      <th>3</th>\n",
       "      <td>Stop Pacifier Sucking without tears with Thumb...</td>\n",
       "      <td>This is a product well worth the purchase.  I ...</td>\n",
       "      <td>5</td>\n",
       "    </tr>\n",
       "    <tr>\n",
       "      <th>4</th>\n",
       "      <td>Stop Pacifier Sucking without tears with Thumb...</td>\n",
       "      <td>All of my kids have cried non-stop when I trie...</td>\n",
       "      <td>5</td>\n",
       "    </tr>\n",
       "    <tr>\n",
       "      <th>5</th>\n",
       "      <td>Stop Pacifier Sucking without tears with Thumb...</td>\n",
       "      <td>When the Binky Fairy came to our house, we did...</td>\n",
       "      <td>5</td>\n",
       "    </tr>\n",
       "    <tr>\n",
       "      <th>6</th>\n",
       "      <td>A Tale of Baby's Days with Peter Rabbit</td>\n",
       "      <td>Lovely book, it's bound tightly so you may not...</td>\n",
       "      <td>4</td>\n",
       "    </tr>\n",
       "    <tr>\n",
       "      <th>7</th>\n",
       "      <td>Baby Tracker&amp;reg; - Daily Childcare Journal, S...</td>\n",
       "      <td>Perfect for new parents. We were able to keep ...</td>\n",
       "      <td>5</td>\n",
       "    </tr>\n",
       "    <tr>\n",
       "      <th>8</th>\n",
       "      <td>Baby Tracker&amp;reg; - Daily Childcare Journal, S...</td>\n",
       "      <td>A friend of mine pinned this product on Pinter...</td>\n",
       "      <td>5</td>\n",
       "    </tr>\n",
       "    <tr>\n",
       "      <th>9</th>\n",
       "      <td>Baby Tracker&amp;reg; - Daily Childcare Journal, S...</td>\n",
       "      <td>This has been an easy way for my nanny to reco...</td>\n",
       "      <td>4</td>\n",
       "    </tr>\n",
       "    <tr>\n",
       "      <th>10</th>\n",
       "      <td>Baby Tracker&amp;reg; - Daily Childcare Journal, S...</td>\n",
       "      <td>I love this journal and our nanny uses it ever...</td>\n",
       "      <td>4</td>\n",
       "    </tr>\n",
       "    <tr>\n",
       "      <th>11</th>\n",
       "      <td>Baby Tracker&amp;reg; - Daily Childcare Journal, S...</td>\n",
       "      <td>This book is perfect!  I'm a first time new mo...</td>\n",
       "      <td>5</td>\n",
       "    </tr>\n",
       "    <tr>\n",
       "      <th>12</th>\n",
       "      <td>Baby Tracker&amp;reg; - Daily Childcare Journal, S...</td>\n",
       "      <td>I originally just gave the nanny a pad of pape...</td>\n",
       "      <td>4</td>\n",
       "    </tr>\n",
       "    <tr>\n",
       "      <th>13</th>\n",
       "      <td>Baby Tracker&amp;reg; - Daily Childcare Journal, S...</td>\n",
       "      <td>I thought keeping a simple handwritten journal...</td>\n",
       "      <td>3</td>\n",
       "    </tr>\n",
       "    <tr>\n",
       "      <th>14</th>\n",
       "      <td>Nature's Lullabies First Year Sticker Calendar</td>\n",
       "      <td>Space for monthly photos, info and a lot of us...</td>\n",
       "      <td>5</td>\n",
       "    </tr>\n",
       "    <tr>\n",
       "      <th>15</th>\n",
       "      <td>Nature's Lullabies First Year Sticker Calendar</td>\n",
       "      <td>I bought this calender for myself for my secon...</td>\n",
       "      <td>4</td>\n",
       "    </tr>\n",
       "    <tr>\n",
       "      <th>16</th>\n",
       "      <td>Nature's Lullabies First Year Sticker Calendar</td>\n",
       "      <td>I love this little calender, you can keep trac...</td>\n",
       "      <td>5</td>\n",
       "    </tr>\n",
       "    <tr>\n",
       "      <th>17</th>\n",
       "      <td>Nature's Lullabies Second Year Sticker Calendar</td>\n",
       "      <td>This was the only calender I could find for th...</td>\n",
       "      <td>5</td>\n",
       "    </tr>\n",
       "    <tr>\n",
       "      <th>18</th>\n",
       "      <td>Nature's Lullabies Second Year Sticker Calendar</td>\n",
       "      <td>I completed a calendar for my son's first year...</td>\n",
       "      <td>4</td>\n",
       "    </tr>\n",
       "    <tr>\n",
       "      <th>19</th>\n",
       "      <td>Nature's Lullabies Second Year Sticker Calendar</td>\n",
       "      <td>We wanted to get something to keep track of ou...</td>\n",
       "      <td>5</td>\n",
       "    </tr>\n",
       "  </tbody>\n",
       "</table>\n",
       "</div>"
      ],
      "text/plain": [
       "                                                 name  \\\n",
       "0                            Planetwise Flannel Wipes   \n",
       "1                               Planetwise Wipe Pouch   \n",
       "2                 Annas Dream Full Quilt with 2 Shams   \n",
       "3   Stop Pacifier Sucking without tears with Thumb...   \n",
       "4   Stop Pacifier Sucking without tears with Thumb...   \n",
       "5   Stop Pacifier Sucking without tears with Thumb...   \n",
       "6             A Tale of Baby's Days with Peter Rabbit   \n",
       "7   Baby Tracker&reg; - Daily Childcare Journal, S...   \n",
       "8   Baby Tracker&reg; - Daily Childcare Journal, S...   \n",
       "9   Baby Tracker&reg; - Daily Childcare Journal, S...   \n",
       "10  Baby Tracker&reg; - Daily Childcare Journal, S...   \n",
       "11  Baby Tracker&reg; - Daily Childcare Journal, S...   \n",
       "12  Baby Tracker&reg; - Daily Childcare Journal, S...   \n",
       "13  Baby Tracker&reg; - Daily Childcare Journal, S...   \n",
       "14     Nature's Lullabies First Year Sticker Calendar   \n",
       "15     Nature's Lullabies First Year Sticker Calendar   \n",
       "16     Nature's Lullabies First Year Sticker Calendar   \n",
       "17    Nature's Lullabies Second Year Sticker Calendar   \n",
       "18    Nature's Lullabies Second Year Sticker Calendar   \n",
       "19    Nature's Lullabies Second Year Sticker Calendar   \n",
       "\n",
       "                                               review  rating  \n",
       "0   These flannel wipes are OK, but in my opinion ...       3  \n",
       "1   it came early and was not disappointed. i love...       5  \n",
       "2   Very soft and comfortable and warmer than it l...       5  \n",
       "3   This is a product well worth the purchase.  I ...       5  \n",
       "4   All of my kids have cried non-stop when I trie...       5  \n",
       "5   When the Binky Fairy came to our house, we did...       5  \n",
       "6   Lovely book, it's bound tightly so you may not...       4  \n",
       "7   Perfect for new parents. We were able to keep ...       5  \n",
       "8   A friend of mine pinned this product on Pinter...       5  \n",
       "9   This has been an easy way for my nanny to reco...       4  \n",
       "10  I love this journal and our nanny uses it ever...       4  \n",
       "11  This book is perfect!  I'm a first time new mo...       5  \n",
       "12  I originally just gave the nanny a pad of pape...       4  \n",
       "13  I thought keeping a simple handwritten journal...       3  \n",
       "14  Space for monthly photos, info and a lot of us...       5  \n",
       "15  I bought this calender for myself for my secon...       4  \n",
       "16  I love this little calender, you can keep trac...       5  \n",
       "17  This was the only calender I could find for th...       5  \n",
       "18  I completed a calendar for my son's first year...       4  \n",
       "19  We wanted to get something to keep track of ou...       5  "
      ]
     },
     "execution_count": 2,
     "metadata": {},
     "output_type": "execute_result"
    }
   ],
   "source": [
    "## Load datasets\n",
    "\n",
    "df = pd.read_csv('amazon_baby_products/amazon_baby.csv')\n",
    "df.head(20)"
   ]
  },
  {
   "cell_type": "markdown",
   "id": "22e85be6",
   "metadata": {},
   "source": [
    "**number of unique product names**"
   ]
  },
  {
   "cell_type": "code",
   "execution_count": 3,
   "id": "22e182a7",
   "metadata": {},
   "outputs": [
    {
     "data": {
      "text/plain": [
       "32418"
      ]
     },
     "execution_count": 3,
     "metadata": {},
     "output_type": "execute_result"
    }
   ],
   "source": [
    "len(df.name.unique())"
   ]
  },
  {
   "cell_type": "markdown",
   "id": "71f25b30",
   "metadata": {},
   "source": [
    "**total number of reviews / comments for all products**"
   ]
  },
  {
   "cell_type": "code",
   "execution_count": 4,
   "id": "b2fc5942",
   "metadata": {},
   "outputs": [
    {
     "data": {
      "text/plain": [
       "183531"
      ]
     },
     "execution_count": 4,
     "metadata": {},
     "output_type": "execute_result"
    }
   ],
   "source": [
    "len(df)"
   ]
  },
  {
   "cell_type": "markdown",
   "id": "6deec72c",
   "metadata": {},
   "source": [
    "## Data Cleaning and Preparation"
   ]
  },
  {
   "cell_type": "markdown",
   "id": "b1bfb26e",
   "metadata": {},
   "source": [
    "#### Check if null values present in any of the columns"
   ]
  },
  {
   "cell_type": "code",
   "execution_count": 5,
   "id": "17998132",
   "metadata": {},
   "outputs": [
    {
     "data": {
      "text/plain": [
       "name       True\n",
       "review     True\n",
       "rating    False\n",
       "dtype: bool"
      ]
     },
     "execution_count": 5,
     "metadata": {},
     "output_type": "execute_result"
    }
   ],
   "source": [
    "df.isnull().any()"
   ]
  },
  {
   "cell_type": "markdown",
   "id": "15d03131",
   "metadata": {},
   "source": [
    "#### count the number of null values in each of the columns"
   ]
  },
  {
   "cell_type": "code",
   "execution_count": 6,
   "id": "4e5822a0",
   "metadata": {},
   "outputs": [
    {
     "data": {
      "text/plain": [
       "name      318\n",
       "review    829\n",
       "rating      0\n",
       "dtype: int64"
      ]
     },
     "execution_count": 6,
     "metadata": {},
     "output_type": "execute_result"
    }
   ],
   "source": [
    "df.isnull().sum()"
   ]
  },
  {
   "cell_type": "markdown",
   "id": "a26f85b7",
   "metadata": {},
   "source": [
    "### drop null records since null product names or review comments won't be useful. Also those can't be replaced with any meaningful defaults"
   ]
  },
  {
   "cell_type": "code",
   "execution_count": 7,
   "id": "e242a12b",
   "metadata": {},
   "outputs": [],
   "source": [
    "df.dropna(inplace=True)"
   ]
  },
  {
   "cell_type": "code",
   "execution_count": 8,
   "id": "e076c22c",
   "metadata": {},
   "outputs": [
    {
     "data": {
      "text/plain": [
       "name      object\n",
       "review    object\n",
       "rating     int64\n",
       "dtype: object"
      ]
     },
     "execution_count": 8,
     "metadata": {},
     "output_type": "execute_result"
    }
   ],
   "source": [
    "## display data types for each column\n",
    "\n",
    "df.dtypes"
   ]
  },
  {
   "cell_type": "markdown",
   "id": "d1b03841",
   "metadata": {},
   "source": [
    "### cleanup product names and review comments by deleting special characters"
   ]
  },
  {
   "cell_type": "code",
   "execution_count": 9,
   "id": "757e5051",
   "metadata": {},
   "outputs": [],
   "source": [
    "df['name'] = df['name'].apply(lambda x : re.sub('[^a-zA-Z0-9 \\n\\.]', '', x))"
   ]
  },
  {
   "cell_type": "code",
   "execution_count": 10,
   "id": "e47840cf",
   "metadata": {},
   "outputs": [],
   "source": [
    "df['review'] = df['review'].apply(lambda x : re.sub('[^a-zA-Z0-9 \\n\\.]', '', x))"
   ]
  },
  {
   "cell_type": "code",
   "execution_count": 11,
   "id": "e8006cf1",
   "metadata": {},
   "outputs": [],
   "source": [
    "## Another method to delete the special characters\n",
    "\n",
    "## df['review'] = df['review'].apply(lambda x: re.sub(r'[~%\"\\'@^?$.}+*#<{>,|!/]', r'', x))"
   ]
  },
  {
   "cell_type": "markdown",
   "id": "307fb3c9",
   "metadata": {},
   "source": [
    "### convert all the reviews in lower case as a part of data preparation for sentiment analysis. This will help ensure all the unique words are counted appropriately, irrespective of the Upper casing / lower casing"
   ]
  },
  {
   "cell_type": "code",
   "execution_count": 12,
   "id": "ed4c2315",
   "metadata": {},
   "outputs": [],
   "source": [
    "df['review'] = df['review'].apply(lambda x : x.lower())"
   ]
  },
  {
   "cell_type": "code",
   "execution_count": 13,
   "id": "7754c86b",
   "metadata": {},
   "outputs": [],
   "source": [
    "## Another method to convert the reviews texts to all lower cases\n",
    "\n",
    "## df['review'] = df['review'].str.lower()"
   ]
  },
  {
   "cell_type": "code",
   "execution_count": 14,
   "id": "6a5ba99d",
   "metadata": {},
   "outputs": [],
   "source": [
    "## create the sentiments columns with appropriate values based on ratings\n",
    "## ratings 4 & 5 : 'positive'\n",
    "## ratings 3     : 'neutral'\n",
    "## ratings 2 & 1 : 'negative'\n",
    "\n",
    "## lambda function to convert ratings into sentiments\n",
    "sentiment_tags = lambda x : 'positive' if x>=4 else ('neutral' if x==3 else 'negative')\n",
    "\n",
    "## apply the sentiment_tags function on 'rating' column and store the values in new column 'sentiment'\n",
    "df['sentiment'] = df['rating'].apply(sentiment_tags)"
   ]
  },
  {
   "cell_type": "code",
   "execution_count": 15,
   "id": "c8749412",
   "metadata": {},
   "outputs": [
    {
     "data": {
      "text/html": [
       "<div>\n",
       "<style scoped>\n",
       "    .dataframe tbody tr th:only-of-type {\n",
       "        vertical-align: middle;\n",
       "    }\n",
       "\n",
       "    .dataframe tbody tr th {\n",
       "        vertical-align: top;\n",
       "    }\n",
       "\n",
       "    .dataframe thead th {\n",
       "        text-align: right;\n",
       "    }\n",
       "</style>\n",
       "<table border=\"1\" class=\"dataframe\">\n",
       "  <thead>\n",
       "    <tr style=\"text-align: right;\">\n",
       "      <th></th>\n",
       "      <th>name</th>\n",
       "      <th>review</th>\n",
       "      <th>rating</th>\n",
       "      <th>sentiment</th>\n",
       "    </tr>\n",
       "  </thead>\n",
       "  <tbody>\n",
       "    <tr>\n",
       "      <th>0</th>\n",
       "      <td>Planetwise Flannel Wipes</td>\n",
       "      <td>these flannel wipes are ok but in my opinion n...</td>\n",
       "      <td>3</td>\n",
       "      <td>neutral</td>\n",
       "    </tr>\n",
       "    <tr>\n",
       "      <th>1</th>\n",
       "      <td>Planetwise Wipe Pouch</td>\n",
       "      <td>it came early and was not disappointed. i love...</td>\n",
       "      <td>5</td>\n",
       "      <td>positive</td>\n",
       "    </tr>\n",
       "    <tr>\n",
       "      <th>2</th>\n",
       "      <td>Annas Dream Full Quilt with 2 Shams</td>\n",
       "      <td>very soft and comfortable and warmer than it l...</td>\n",
       "      <td>5</td>\n",
       "      <td>positive</td>\n",
       "    </tr>\n",
       "    <tr>\n",
       "      <th>3</th>\n",
       "      <td>Stop Pacifier Sucking without tears with Thumb...</td>\n",
       "      <td>this is a product well worth the purchase.  i ...</td>\n",
       "      <td>5</td>\n",
       "      <td>positive</td>\n",
       "    </tr>\n",
       "    <tr>\n",
       "      <th>4</th>\n",
       "      <td>Stop Pacifier Sucking without tears with Thumb...</td>\n",
       "      <td>all of my kids have cried nonstop when i tried...</td>\n",
       "      <td>5</td>\n",
       "      <td>positive</td>\n",
       "    </tr>\n",
       "  </tbody>\n",
       "</table>\n",
       "</div>"
      ],
      "text/plain": [
       "                                                name  \\\n",
       "0                           Planetwise Flannel Wipes   \n",
       "1                              Planetwise Wipe Pouch   \n",
       "2                Annas Dream Full Quilt with 2 Shams   \n",
       "3  Stop Pacifier Sucking without tears with Thumb...   \n",
       "4  Stop Pacifier Sucking without tears with Thumb...   \n",
       "\n",
       "                                              review  rating sentiment  \n",
       "0  these flannel wipes are ok but in my opinion n...       3   neutral  \n",
       "1  it came early and was not disappointed. i love...       5  positive  \n",
       "2  very soft and comfortable and warmer than it l...       5  positive  \n",
       "3  this is a product well worth the purchase.  i ...       5  positive  \n",
       "4  all of my kids have cried nonstop when i tried...       5  positive  "
      ]
     },
     "execution_count": 15,
     "metadata": {},
     "output_type": "execute_result"
    }
   ],
   "source": [
    "df.head()"
   ]
  },
  {
   "cell_type": "markdown",
   "id": "64a489be",
   "metadata": {},
   "source": [
    "**total number of reviews / comments for all products after null values cleaning**"
   ]
  },
  {
   "cell_type": "code",
   "execution_count": 16,
   "id": "e145b51a",
   "metadata": {},
   "outputs": [
    {
     "data": {
      "text/plain": [
       "182384"
      ]
     },
     "execution_count": 16,
     "metadata": {},
     "output_type": "execute_result"
    }
   ],
   "source": [
    "len(df)"
   ]
  },
  {
   "cell_type": "markdown",
   "id": "9aa4b1d4",
   "metadata": {},
   "source": [
    "**number of unique product names after null values cleaning**"
   ]
  },
  {
   "cell_type": "code",
   "execution_count": 17,
   "id": "ca1fdb96",
   "metadata": {},
   "outputs": [
    {
     "data": {
      "text/plain": [
       "32305"
      ]
     },
     "execution_count": 17,
     "metadata": {},
     "output_type": "execute_result"
    }
   ],
   "source": [
    "## unique products after data cleaning\n",
    "len(df.name.unique())"
   ]
  },
  {
   "cell_type": "markdown",
   "id": "c01d5925",
   "metadata": {},
   "source": [
    "## Exploratory Data Analysis"
   ]
  },
  {
   "cell_type": "markdown",
   "id": "32981d56",
   "metadata": {},
   "source": [
    "#### create a temporary dataframe after dropping 'rating' column so that reviews by product can be easily counted"
   ]
  },
  {
   "cell_type": "code",
   "execution_count": 18,
   "id": "57f4338e",
   "metadata": {},
   "outputs": [
    {
     "data": {
      "text/html": [
       "<div>\n",
       "<style scoped>\n",
       "    .dataframe tbody tr th:only-of-type {\n",
       "        vertical-align: middle;\n",
       "    }\n",
       "\n",
       "    .dataframe tbody tr th {\n",
       "        vertical-align: top;\n",
       "    }\n",
       "\n",
       "    .dataframe thead th {\n",
       "        text-align: right;\n",
       "    }\n",
       "</style>\n",
       "<table border=\"1\" class=\"dataframe\">\n",
       "  <thead>\n",
       "    <tr style=\"text-align: right;\">\n",
       "      <th></th>\n",
       "      <th>name</th>\n",
       "      <th>review</th>\n",
       "    </tr>\n",
       "  </thead>\n",
       "  <tbody>\n",
       "    <tr>\n",
       "      <th>0</th>\n",
       "      <td>Planetwise Flannel Wipes</td>\n",
       "      <td>these flannel wipes are ok but in my opinion n...</td>\n",
       "    </tr>\n",
       "    <tr>\n",
       "      <th>1</th>\n",
       "      <td>Planetwise Wipe Pouch</td>\n",
       "      <td>it came early and was not disappointed. i love...</td>\n",
       "    </tr>\n",
       "    <tr>\n",
       "      <th>2</th>\n",
       "      <td>Annas Dream Full Quilt with 2 Shams</td>\n",
       "      <td>very soft and comfortable and warmer than it l...</td>\n",
       "    </tr>\n",
       "    <tr>\n",
       "      <th>3</th>\n",
       "      <td>Stop Pacifier Sucking without tears with Thumb...</td>\n",
       "      <td>this is a product well worth the purchase.  i ...</td>\n",
       "    </tr>\n",
       "    <tr>\n",
       "      <th>4</th>\n",
       "      <td>Stop Pacifier Sucking without tears with Thumb...</td>\n",
       "      <td>all of my kids have cried nonstop when i tried...</td>\n",
       "    </tr>\n",
       "  </tbody>\n",
       "</table>\n",
       "</div>"
      ],
      "text/plain": [
       "                                                name  \\\n",
       "0                           Planetwise Flannel Wipes   \n",
       "1                              Planetwise Wipe Pouch   \n",
       "2                Annas Dream Full Quilt with 2 Shams   \n",
       "3  Stop Pacifier Sucking without tears with Thumb...   \n",
       "4  Stop Pacifier Sucking without tears with Thumb...   \n",
       "\n",
       "                                              review  \n",
       "0  these flannel wipes are ok but in my opinion n...  \n",
       "1  it came early and was not disappointed. i love...  \n",
       "2  very soft and comfortable and warmer than it l...  \n",
       "3  this is a product well worth the purchase.  i ...  \n",
       "4  all of my kids have cried nonstop when i tried...  "
      ]
     },
     "execution_count": 18,
     "metadata": {},
     "output_type": "execute_result"
    }
   ],
   "source": [
    "temp_df_rev = df.drop(columns=['rating', 'sentiment'])\n",
    "temp_df_rev.head()"
   ]
  },
  {
   "cell_type": "code",
   "execution_count": 19,
   "id": "cc44df27",
   "metadata": {},
   "outputs": [],
   "source": [
    "## count the number of review comments by each product name\n",
    "test_df_rev = temp_df_rev.groupby(['name']).count().sort_values('review', ascending=False)"
   ]
  },
  {
   "cell_type": "code",
   "execution_count": 20,
   "id": "b63853e2",
   "metadata": {},
   "outputs": [
    {
     "data": {
      "text/html": [
       "<div>\n",
       "<style scoped>\n",
       "    .dataframe tbody tr th:only-of-type {\n",
       "        vertical-align: middle;\n",
       "    }\n",
       "\n",
       "    .dataframe tbody tr th {\n",
       "        vertical-align: top;\n",
       "    }\n",
       "\n",
       "    .dataframe thead th {\n",
       "        text-align: right;\n",
       "    }\n",
       "</style>\n",
       "<table border=\"1\" class=\"dataframe\">\n",
       "  <thead>\n",
       "    <tr style=\"text-align: right;\">\n",
       "      <th></th>\n",
       "      <th>review</th>\n",
       "    </tr>\n",
       "    <tr>\n",
       "      <th>name</th>\n",
       "      <th></th>\n",
       "    </tr>\n",
       "  </thead>\n",
       "  <tbody>\n",
       "    <tr>\n",
       "      <th>Vulli Sophie the Giraffe Teether</th>\n",
       "      <td>779</td>\n",
       "    </tr>\n",
       "    <tr>\n",
       "      <th>Simple Wishes HandsFree Breastpump Bra Pink XSL</th>\n",
       "      <td>560</td>\n",
       "    </tr>\n",
       "    <tr>\n",
       "      <th>Infant Optics DXR5 2.4 GHz Digital Video Baby Monitor with Night Vision</th>\n",
       "      <td>558</td>\n",
       "    </tr>\n",
       "    <tr>\n",
       "      <th>Baby Einstein Take Along Tunes</th>\n",
       "      <td>545</td>\n",
       "    </tr>\n",
       "    <tr>\n",
       "      <th>Cloud b Twilight Constellation Night Light Turtle</th>\n",
       "      <td>517</td>\n",
       "    </tr>\n",
       "    <tr>\n",
       "      <th>FisherPrice Booster Seat BlueGreenGray</th>\n",
       "      <td>487</td>\n",
       "    </tr>\n",
       "    <tr>\n",
       "      <th>FisherPrice Rainforest Jumperoo</th>\n",
       "      <td>446</td>\n",
       "    </tr>\n",
       "    <tr>\n",
       "      <th>Graco Nautilus 3in1 Car Seat Matrix</th>\n",
       "      <td>418</td>\n",
       "    </tr>\n",
       "    <tr>\n",
       "      <th>Leachco Snoogle Total Body Pillow</th>\n",
       "      <td>388</td>\n",
       "    </tr>\n",
       "    <tr>\n",
       "      <th>Regalo Easy Step Walk Thru Gate White</th>\n",
       "      <td>372</td>\n",
       "    </tr>\n",
       "    <tr>\n",
       "      <th>Baby Trend Diaper Champ</th>\n",
       "      <td>333</td>\n",
       "    </tr>\n",
       "    <tr>\n",
       "      <th>Skip Hop Zoo Pack Little Kid Backpack Dog</th>\n",
       "      <td>285</td>\n",
       "    </tr>\n",
       "    <tr>\n",
       "      <th>The First Years Jet Stroller RedBlack</th>\n",
       "      <td>284</td>\n",
       "    </tr>\n",
       "    <tr>\n",
       "      <th>NTM910YIC  Sony Baby Call Nursery Monitor</th>\n",
       "      <td>284</td>\n",
       "    </tr>\n",
       "    <tr>\n",
       "      <th>Leachco Back N Belly Contoured Body Pillow Ivory</th>\n",
       "      <td>283</td>\n",
       "    </tr>\n",
       "    <tr>\n",
       "      <th>FisherPrice Cradle N Swing  My Little Snugabunny</th>\n",
       "      <td>278</td>\n",
       "    </tr>\n",
       "    <tr>\n",
       "      <th>North States Superyard Play Yard Grey 6 Panel</th>\n",
       "      <td>277</td>\n",
       "    </tr>\n",
       "    <tr>\n",
       "      <th>FisherPrice Newborn Rock n Play Sleeper Yellow</th>\n",
       "      <td>262</td>\n",
       "    </tr>\n",
       "    <tr>\n",
       "      <th>Munchkin Nursery Projector and Sound System White</th>\n",
       "      <td>241</td>\n",
       "    </tr>\n",
       "    <tr>\n",
       "      <th>Tiny Love TakeAlong Arch Sunny Stroll</th>\n",
       "      <td>239</td>\n",
       "    </tr>\n",
       "  </tbody>\n",
       "</table>\n",
       "</div>"
      ],
      "text/plain": [
       "                                                    review\n",
       "name                                                      \n",
       "Vulli Sophie the Giraffe Teether                       779\n",
       "Simple Wishes HandsFree Breastpump Bra Pink XSL        560\n",
       "Infant Optics DXR5 2.4 GHz Digital Video Baby M...     558\n",
       "Baby Einstein Take Along Tunes                         545\n",
       "Cloud b Twilight Constellation Night Light Turtle      517\n",
       "FisherPrice Booster Seat BlueGreenGray                 487\n",
       "FisherPrice Rainforest Jumperoo                        446\n",
       "Graco Nautilus 3in1 Car Seat Matrix                    418\n",
       "Leachco Snoogle Total Body Pillow                      388\n",
       "Regalo Easy Step Walk Thru Gate White                  372\n",
       "Baby Trend Diaper Champ                                333\n",
       "Skip Hop Zoo Pack Little Kid Backpack Dog              285\n",
       "The First Years Jet Stroller RedBlack                  284\n",
       "NTM910YIC  Sony Baby Call Nursery Monitor              284\n",
       "Leachco Back N Belly Contoured Body Pillow Ivory       283\n",
       "FisherPrice Cradle N Swing  My Little Snugabunny       278\n",
       "North States Superyard Play Yard Grey 6 Panel          277\n",
       "FisherPrice Newborn Rock n Play Sleeper Yellow         262\n",
       "Munchkin Nursery Projector and Sound System White      241\n",
       "Tiny Love TakeAlong Arch Sunny Stroll                  239"
      ]
     },
     "execution_count": 20,
     "metadata": {},
     "output_type": "execute_result"
    }
   ],
   "source": [
    "## Top 20 products by review comments counts\n",
    "test_df_rev.head(20)"
   ]
  },
  {
   "cell_type": "code",
   "execution_count": 21,
   "id": "103fa6a8",
   "metadata": {},
   "outputs": [
    {
     "data": {
      "image/png": "[encoded data removed]",
      "text/plain": [
       "<Figure size 864x432 with 1 Axes>"
      ]
     },
     "metadata": {
      "needs_background": "light"
     },
     "output_type": "display_data"
    }
   ],
   "source": [
    "## top 20 products by highest number of reviews\n",
    "\n",
    "test_df_rev[0:20].plot(kind='bar', figsize=(12, 6))\n",
    "plt.xlabel('product name')\n",
    "plt.ylabel('review counts')\n",
    "plt.title('Top 20 Products by Highest number of reviews')\n",
    "plt.show()"
   ]
  },
  {
   "cell_type": "code",
   "execution_count": null,
   "id": "2e94f5f6",
   "metadata": {},
   "outputs": [],
   "source": []
  },
  {
   "cell_type": "code",
   "execution_count": 22,
   "id": "09c3ef34",
   "metadata": {
    "scrolled": false
   },
   "outputs": [
    {
     "data": {
      "text/html": [
       "<div>\n",
       "<style scoped>\n",
       "    .dataframe tbody tr th:only-of-type {\n",
       "        vertical-align: middle;\n",
       "    }\n",
       "\n",
       "    .dataframe tbody tr th {\n",
       "        vertical-align: top;\n",
       "    }\n",
       "\n",
       "    .dataframe thead th {\n",
       "        text-align: right;\n",
       "    }\n",
       "</style>\n",
       "<table border=\"1\" class=\"dataframe\">\n",
       "  <thead>\n",
       "    <tr style=\"text-align: right;\">\n",
       "      <th></th>\n",
       "      <th>name</th>\n",
       "      <th>rating</th>\n",
       "    </tr>\n",
       "  </thead>\n",
       "  <tbody>\n",
       "    <tr>\n",
       "      <th>0</th>\n",
       "      <td>Planetwise Flannel Wipes</td>\n",
       "      <td>3</td>\n",
       "    </tr>\n",
       "    <tr>\n",
       "      <th>1</th>\n",
       "      <td>Planetwise Wipe Pouch</td>\n",
       "      <td>5</td>\n",
       "    </tr>\n",
       "    <tr>\n",
       "      <th>2</th>\n",
       "      <td>Annas Dream Full Quilt with 2 Shams</td>\n",
       "      <td>5</td>\n",
       "    </tr>\n",
       "    <tr>\n",
       "      <th>3</th>\n",
       "      <td>Stop Pacifier Sucking without tears with Thumb...</td>\n",
       "      <td>5</td>\n",
       "    </tr>\n",
       "    <tr>\n",
       "      <th>4</th>\n",
       "      <td>Stop Pacifier Sucking without tears with Thumb...</td>\n",
       "      <td>5</td>\n",
       "    </tr>\n",
       "  </tbody>\n",
       "</table>\n",
       "</div>"
      ],
      "text/plain": [
       "                                                name  rating\n",
       "0                           Planetwise Flannel Wipes       3\n",
       "1                              Planetwise Wipe Pouch       5\n",
       "2                Annas Dream Full Quilt with 2 Shams       5\n",
       "3  Stop Pacifier Sucking without tears with Thumb...       5\n",
       "4  Stop Pacifier Sucking without tears with Thumb...       5"
      ]
     },
     "execution_count": 22,
     "metadata": {},
     "output_type": "execute_result"
    }
   ],
   "source": [
    "## create a temporary dataframe after dropping 'review' column so that reviews by product can be easily counted\n",
    "temp_df_rating = df.drop(columns=['review', 'sentiment'])\n",
    "temp_df_rating.head()"
   ]
  },
  {
   "cell_type": "code",
   "execution_count": 23,
   "id": "0cb264d6",
   "metadata": {},
   "outputs": [],
   "source": [
    "## create temporary dataframe consisting of only ratings\n",
    "\n",
    "baby_ratings_temp = df.drop(columns=['name', 'review', 'sentiment'])"
   ]
  },
  {
   "cell_type": "code",
   "execution_count": 24,
   "id": "ec852054",
   "metadata": {},
   "outputs": [
    {
     "data": {
      "text/html": [
       "<div>\n",
       "<style scoped>\n",
       "    .dataframe tbody tr th:only-of-type {\n",
       "        vertical-align: middle;\n",
       "    }\n",
       "\n",
       "    .dataframe tbody tr th {\n",
       "        vertical-align: top;\n",
       "    }\n",
       "\n",
       "    .dataframe thead th {\n",
       "        text-align: right;\n",
       "    }\n",
       "</style>\n",
       "<table border=\"1\" class=\"dataframe\">\n",
       "  <thead>\n",
       "    <tr style=\"text-align: right;\">\n",
       "      <th></th>\n",
       "      <th>Counts</th>\n",
       "    </tr>\n",
       "  </thead>\n",
       "  <tbody>\n",
       "    <tr>\n",
       "      <th>5</th>\n",
       "      <td>106265</td>\n",
       "    </tr>\n",
       "    <tr>\n",
       "      <th>4</th>\n",
       "      <td>33053</td>\n",
       "    </tr>\n",
       "    <tr>\n",
       "      <th>3</th>\n",
       "      <td>16705</td>\n",
       "    </tr>\n",
       "    <tr>\n",
       "      <th>1</th>\n",
       "      <td>15100</td>\n",
       "    </tr>\n",
       "    <tr>\n",
       "      <th>2</th>\n",
       "      <td>11261</td>\n",
       "    </tr>\n",
       "  </tbody>\n",
       "</table>\n",
       "</div>"
      ],
      "text/plain": [
       "   Counts\n",
       "5  106265\n",
       "4   33053\n",
       "3   16705\n",
       "1   15100\n",
       "2   11261"
      ]
     },
     "execution_count": 24,
     "metadata": {},
     "output_type": "execute_result"
    }
   ],
   "source": [
    "## create a ratings_counts dataframe to store total counts by each rating\n",
    "\n",
    "ratings_counts = pd.DataFrame()\n",
    "\n",
    "ratings_counts = baby_ratings_temp.rating.value_counts().to_frame(name='Counts')\n",
    "\n",
    "ratings_counts"
   ]
  },
  {
   "cell_type": "code",
   "execution_count": 25,
   "id": "f7ba8dfe",
   "metadata": {},
   "outputs": [
    {
     "data": {
      "text/html": [
       "<div>\n",
       "<style scoped>\n",
       "    .dataframe tbody tr th:only-of-type {\n",
       "        vertical-align: middle;\n",
       "    }\n",
       "\n",
       "    .dataframe tbody tr th {\n",
       "        vertical-align: top;\n",
       "    }\n",
       "\n",
       "    .dataframe thead th {\n",
       "        text-align: right;\n",
       "    }\n",
       "</style>\n",
       "<table border=\"1\" class=\"dataframe\">\n",
       "  <thead>\n",
       "    <tr style=\"text-align: right;\">\n",
       "      <th></th>\n",
       "      <th>Counts</th>\n",
       "      <th>pct</th>\n",
       "    </tr>\n",
       "  </thead>\n",
       "  <tbody>\n",
       "    <tr>\n",
       "      <th>5</th>\n",
       "      <td>106265</td>\n",
       "      <td>58.26</td>\n",
       "    </tr>\n",
       "    <tr>\n",
       "      <th>4</th>\n",
       "      <td>33053</td>\n",
       "      <td>18.12</td>\n",
       "    </tr>\n",
       "    <tr>\n",
       "      <th>3</th>\n",
       "      <td>16705</td>\n",
       "      <td>9.16</td>\n",
       "    </tr>\n",
       "    <tr>\n",
       "      <th>1</th>\n",
       "      <td>15100</td>\n",
       "      <td>8.28</td>\n",
       "    </tr>\n",
       "    <tr>\n",
       "      <th>2</th>\n",
       "      <td>11261</td>\n",
       "      <td>6.17</td>\n",
       "    </tr>\n",
       "  </tbody>\n",
       "</table>\n",
       "</div>"
      ],
      "text/plain": [
       "   Counts    pct\n",
       "5  106265  58.26\n",
       "4   33053  18.12\n",
       "3   16705   9.16\n",
       "1   15100   8.28\n",
       "2   11261   6.17"
      ]
     },
     "execution_count": 25,
     "metadata": {},
     "output_type": "execute_result"
    }
   ],
   "source": [
    "## calculate the percentage of each rating category to display distribution of the ratings\n",
    "\n",
    "ratings_counts['pct'] = round((ratings_counts['Counts'] * 100 / ratings_counts['Counts'].sum()) , 2)\n",
    "\n",
    "ratings_counts"
   ]
  },
  {
   "cell_type": "code",
   "execution_count": 26,
   "id": "252d0c51",
   "metadata": {},
   "outputs": [
    {
     "data": {
      "text/html": [
       "<div>\n",
       "<style scoped>\n",
       "    .dataframe tbody tr th:only-of-type {\n",
       "        vertical-align: middle;\n",
       "    }\n",
       "\n",
       "    .dataframe tbody tr th {\n",
       "        vertical-align: top;\n",
       "    }\n",
       "\n",
       "    .dataframe thead th {\n",
       "        text-align: right;\n",
       "    }\n",
       "</style>\n",
       "<table border=\"1\" class=\"dataframe\">\n",
       "  <thead>\n",
       "    <tr style=\"text-align: right;\">\n",
       "      <th></th>\n",
       "      <th>rating</th>\n",
       "      <th>Counts</th>\n",
       "      <th>pct</th>\n",
       "    </tr>\n",
       "  </thead>\n",
       "  <tbody>\n",
       "    <tr>\n",
       "      <th>0</th>\n",
       "      <td>5</td>\n",
       "      <td>106265</td>\n",
       "      <td>58.26</td>\n",
       "    </tr>\n",
       "    <tr>\n",
       "      <th>1</th>\n",
       "      <td>4</td>\n",
       "      <td>33053</td>\n",
       "      <td>18.12</td>\n",
       "    </tr>\n",
       "    <tr>\n",
       "      <th>2</th>\n",
       "      <td>3</td>\n",
       "      <td>16705</td>\n",
       "      <td>9.16</td>\n",
       "    </tr>\n",
       "    <tr>\n",
       "      <th>4</th>\n",
       "      <td>2</td>\n",
       "      <td>11261</td>\n",
       "      <td>6.17</td>\n",
       "    </tr>\n",
       "    <tr>\n",
       "      <th>3</th>\n",
       "      <td>1</td>\n",
       "      <td>15100</td>\n",
       "      <td>8.28</td>\n",
       "    </tr>\n",
       "  </tbody>\n",
       "</table>\n",
       "</div>"
      ],
      "text/plain": [
       "   rating  Counts    pct\n",
       "0       5  106265  58.26\n",
       "1       4   33053  18.12\n",
       "2       3   16705   9.16\n",
       "4       2   11261   6.17\n",
       "3       1   15100   8.28"
      ]
     },
     "execution_count": 26,
     "metadata": {},
     "output_type": "execute_result"
    }
   ],
   "source": [
    "ratings_counts.reset_index(inplace=True)\n",
    "ratings_counts.rename(columns={\"index\": \"rating\"}, inplace=True)\n",
    "ratings_counts.sort_values('rating', ascending = False, inplace=True)\n",
    "\n",
    "ratings_counts"
   ]
  },
  {
   "cell_type": "code",
   "execution_count": 27,
   "id": "76e8a242",
   "metadata": {},
   "outputs": [],
   "source": [
    "#ratings_counts.plot.pie(y='Counts')"
   ]
  },
  {
   "cell_type": "code",
   "execution_count": 28,
   "id": "bea23828",
   "metadata": {},
   "outputs": [
    {
     "data": {
      "image/png": "[encoded data removed]",
      "text/plain": [
       "<Figure size 1152x576 with 1 Axes>"
      ]
     },
     "metadata": {},
     "output_type": "display_data"
    }
   ],
   "source": [
    "plt.rcParams[\"figure.figsize\"] = (16,8) # width and height of figure is defined in inches\n",
    "plt.rcParams['font.size'] = 11 # Font size is defined\n",
    "\n",
    "\n",
    "labs = []      ## labels variable inside ax1.pie takes in list / series. so define empty list here \n",
    "\n",
    "## populate 'labs' in below loop for displaying the information on the plot\n",
    "\n",
    "for i in range(len(ratings_counts)):\n",
    "    labs.append(('rating: ' + str(ratings_counts.rating.iloc[i]) +'\\n' \n",
    "                 + str(round(ratings_counts.Counts.iloc[i])) +'\\n'\n",
    "                 + str(ratings_counts.pct.iloc[i]) + '%'))\n",
    "\n",
    "\n",
    "fig1, ax1 = plt.subplots()\n",
    "\n",
    "\n",
    "ax1.pie(ratings_counts['Counts'], labels=labs, startangle=90)\n",
    "\n",
    "fig = plt.gcf()\n",
    "ax1.axis('equal')  ## equal aspect ration for pie plot circle\n",
    "\n",
    "plt.tight_layout()\n",
    "\n",
    "plt.title(f\"Reviews by ratings\")\n",
    "plt.show()"
   ]
  },
  {
   "cell_type": "code",
   "execution_count": 29,
   "id": "fd365acd",
   "metadata": {},
   "outputs": [],
   "source": [
    "## count the number of review comments by each product name\n",
    "test_df_rating = temp_df_rating.groupby(['name']).count().sort_values('rating', ascending=False)"
   ]
  },
  {
   "cell_type": "code",
   "execution_count": 30,
   "id": "1906d7d5",
   "metadata": {},
   "outputs": [
    {
     "data": {
      "text/html": [
       "<div>\n",
       "<style scoped>\n",
       "    .dataframe tbody tr th:only-of-type {\n",
       "        vertical-align: middle;\n",
       "    }\n",
       "\n",
       "    .dataframe tbody tr th {\n",
       "        vertical-align: top;\n",
       "    }\n",
       "\n",
       "    .dataframe thead th {\n",
       "        text-align: right;\n",
       "    }\n",
       "</style>\n",
       "<table border=\"1\" class=\"dataframe\">\n",
       "  <thead>\n",
       "    <tr style=\"text-align: right;\">\n",
       "      <th></th>\n",
       "      <th>rating</th>\n",
       "    </tr>\n",
       "    <tr>\n",
       "      <th>name</th>\n",
       "      <th></th>\n",
       "    </tr>\n",
       "  </thead>\n",
       "  <tbody>\n",
       "    <tr>\n",
       "      <th>Vulli Sophie the Giraffe Teether</th>\n",
       "      <td>779</td>\n",
       "    </tr>\n",
       "    <tr>\n",
       "      <th>Simple Wishes HandsFree Breastpump Bra Pink XSL</th>\n",
       "      <td>560</td>\n",
       "    </tr>\n",
       "    <tr>\n",
       "      <th>Infant Optics DXR5 2.4 GHz Digital Video Baby Monitor with Night Vision</th>\n",
       "      <td>558</td>\n",
       "    </tr>\n",
       "    <tr>\n",
       "      <th>Baby Einstein Take Along Tunes</th>\n",
       "      <td>545</td>\n",
       "    </tr>\n",
       "    <tr>\n",
       "      <th>Cloud b Twilight Constellation Night Light Turtle</th>\n",
       "      <td>517</td>\n",
       "    </tr>\n",
       "    <tr>\n",
       "      <th>FisherPrice Booster Seat BlueGreenGray</th>\n",
       "      <td>487</td>\n",
       "    </tr>\n",
       "    <tr>\n",
       "      <th>FisherPrice Rainforest Jumperoo</th>\n",
       "      <td>446</td>\n",
       "    </tr>\n",
       "    <tr>\n",
       "      <th>Graco Nautilus 3in1 Car Seat Matrix</th>\n",
       "      <td>418</td>\n",
       "    </tr>\n",
       "    <tr>\n",
       "      <th>Leachco Snoogle Total Body Pillow</th>\n",
       "      <td>388</td>\n",
       "    </tr>\n",
       "    <tr>\n",
       "      <th>Regalo Easy Step Walk Thru Gate White</th>\n",
       "      <td>372</td>\n",
       "    </tr>\n",
       "    <tr>\n",
       "      <th>Baby Trend Diaper Champ</th>\n",
       "      <td>333</td>\n",
       "    </tr>\n",
       "    <tr>\n",
       "      <th>Skip Hop Zoo Pack Little Kid Backpack Dog</th>\n",
       "      <td>285</td>\n",
       "    </tr>\n",
       "    <tr>\n",
       "      <th>The First Years Jet Stroller RedBlack</th>\n",
       "      <td>284</td>\n",
       "    </tr>\n",
       "    <tr>\n",
       "      <th>NTM910YIC  Sony Baby Call Nursery Monitor</th>\n",
       "      <td>284</td>\n",
       "    </tr>\n",
       "    <tr>\n",
       "      <th>Leachco Back N Belly Contoured Body Pillow Ivory</th>\n",
       "      <td>283</td>\n",
       "    </tr>\n",
       "    <tr>\n",
       "      <th>FisherPrice Cradle N Swing  My Little Snugabunny</th>\n",
       "      <td>278</td>\n",
       "    </tr>\n",
       "    <tr>\n",
       "      <th>North States Superyard Play Yard Grey 6 Panel</th>\n",
       "      <td>277</td>\n",
       "    </tr>\n",
       "    <tr>\n",
       "      <th>FisherPrice Newborn Rock n Play Sleeper Yellow</th>\n",
       "      <td>262</td>\n",
       "    </tr>\n",
       "    <tr>\n",
       "      <th>Munchkin Nursery Projector and Sound System White</th>\n",
       "      <td>241</td>\n",
       "    </tr>\n",
       "    <tr>\n",
       "      <th>Tiny Love TakeAlong Arch Sunny Stroll</th>\n",
       "      <td>239</td>\n",
       "    </tr>\n",
       "  </tbody>\n",
       "</table>\n",
       "</div>"
      ],
      "text/plain": [
       "                                                    rating\n",
       "name                                                      \n",
       "Vulli Sophie the Giraffe Teether                       779\n",
       "Simple Wishes HandsFree Breastpump Bra Pink XSL        560\n",
       "Infant Optics DXR5 2.4 GHz Digital Video Baby M...     558\n",
       "Baby Einstein Take Along Tunes                         545\n",
       "Cloud b Twilight Constellation Night Light Turtle      517\n",
       "FisherPrice Booster Seat BlueGreenGray                 487\n",
       "FisherPrice Rainforest Jumperoo                        446\n",
       "Graco Nautilus 3in1 Car Seat Matrix                    418\n",
       "Leachco Snoogle Total Body Pillow                      388\n",
       "Regalo Easy Step Walk Thru Gate White                  372\n",
       "Baby Trend Diaper Champ                                333\n",
       "Skip Hop Zoo Pack Little Kid Backpack Dog              285\n",
       "The First Years Jet Stroller RedBlack                  284\n",
       "NTM910YIC  Sony Baby Call Nursery Monitor              284\n",
       "Leachco Back N Belly Contoured Body Pillow Ivory       283\n",
       "FisherPrice Cradle N Swing  My Little Snugabunny       278\n",
       "North States Superyard Play Yard Grey 6 Panel          277\n",
       "FisherPrice Newborn Rock n Play Sleeper Yellow         262\n",
       "Munchkin Nursery Projector and Sound System White      241\n",
       "Tiny Love TakeAlong Arch Sunny Stroll                  239"
      ]
     },
     "execution_count": 30,
     "metadata": {},
     "output_type": "execute_result"
    }
   ],
   "source": [
    "## Top 20 products by review comments counts to cross verify\n",
    "test_df_rating.head(20)"
   ]
  },
  {
   "cell_type": "code",
   "execution_count": 31,
   "id": "42d43d7d",
   "metadata": {},
   "outputs": [
    {
     "data": {
      "text/html": [
       "<div>\n",
       "<style scoped>\n",
       "    .dataframe tbody tr th:only-of-type {\n",
       "        vertical-align: middle;\n",
       "    }\n",
       "\n",
       "    .dataframe tbody tr th {\n",
       "        vertical-align: top;\n",
       "    }\n",
       "\n",
       "    .dataframe thead th {\n",
       "        text-align: right;\n",
       "    }\n",
       "</style>\n",
       "<table border=\"1\" class=\"dataframe\">\n",
       "  <thead>\n",
       "    <tr style=\"text-align: right;\">\n",
       "      <th></th>\n",
       "      <th>name</th>\n",
       "      <th>rating</th>\n",
       "    </tr>\n",
       "  </thead>\n",
       "  <tbody>\n",
       "    <tr>\n",
       "      <th>1</th>\n",
       "      <td>Planetwise Wipe Pouch</td>\n",
       "      <td>5</td>\n",
       "    </tr>\n",
       "    <tr>\n",
       "      <th>2</th>\n",
       "      <td>Annas Dream Full Quilt with 2 Shams</td>\n",
       "      <td>5</td>\n",
       "    </tr>\n",
       "    <tr>\n",
       "      <th>3</th>\n",
       "      <td>Stop Pacifier Sucking without tears with Thumb...</td>\n",
       "      <td>5</td>\n",
       "    </tr>\n",
       "    <tr>\n",
       "      <th>4</th>\n",
       "      <td>Stop Pacifier Sucking without tears with Thumb...</td>\n",
       "      <td>5</td>\n",
       "    </tr>\n",
       "    <tr>\n",
       "      <th>5</th>\n",
       "      <td>Stop Pacifier Sucking without tears with Thumb...</td>\n",
       "      <td>5</td>\n",
       "    </tr>\n",
       "  </tbody>\n",
       "</table>\n",
       "</div>"
      ],
      "text/plain": [
       "                                                name  rating\n",
       "1                              Planetwise Wipe Pouch       5\n",
       "2                Annas Dream Full Quilt with 2 Shams       5\n",
       "3  Stop Pacifier Sucking without tears with Thumb...       5\n",
       "4  Stop Pacifier Sucking without tears with Thumb...       5\n",
       "5  Stop Pacifier Sucking without tears with Thumb...       5"
      ]
     },
     "execution_count": 31,
     "metadata": {},
     "output_type": "execute_result"
    }
   ],
   "source": [
    "## temporary dataframe with rating 5\n",
    "temp_df_rating_5 = temp_df_rating[temp_df_rating.rating == 5]\n",
    "temp_df_rating_5.head()"
   ]
  },
  {
   "cell_type": "code",
   "execution_count": 32,
   "id": "2174c9a6",
   "metadata": {},
   "outputs": [
    {
     "data": {
      "text/plain": [
       "106265"
      ]
     },
     "execution_count": 32,
     "metadata": {},
     "output_type": "execute_result"
    }
   ],
   "source": [
    "## total number of 5 star ratings / reviews\n",
    "len(temp_df_rating_5)"
   ]
  },
  {
   "cell_type": "code",
   "execution_count": 33,
   "id": "ba9780b6",
   "metadata": {
    "scrolled": true
   },
   "outputs": [
    {
     "data": {
      "image/png": "[encoded data removed]",
      "text/plain": [
       "<Figure size 864x432 with 1 Axes>"
      ]
     },
     "metadata": {
      "needs_background": "light"
     },
     "output_type": "display_data"
    }
   ],
   "source": [
    "## top 20 products by highest number of 5 star ratings\n",
    "\n",
    "temp_df_rating_5.groupby(['name']).count().sort_values('rating', ascending=False)[0:20].plot(kind='bar', figsize=(12, 6))\n",
    "plt.xlabel('product name')\n",
    "plt.ylabel('5 star review counts')\n",
    "plt.title('Top 20 Products by Highest number of 5 star reviews')\n",
    "plt.show()"
   ]
  },
  {
   "cell_type": "code",
   "execution_count": 34,
   "id": "e4c44663",
   "metadata": {},
   "outputs": [
    {
     "data": {
      "text/html": [
       "<div>\n",
       "<style scoped>\n",
       "    .dataframe tbody tr th:only-of-type {\n",
       "        vertical-align: middle;\n",
       "    }\n",
       "\n",
       "    .dataframe tbody tr th {\n",
       "        vertical-align: top;\n",
       "    }\n",
       "\n",
       "    .dataframe thead th {\n",
       "        text-align: right;\n",
       "    }\n",
       "</style>\n",
       "<table border=\"1\" class=\"dataframe\">\n",
       "  <thead>\n",
       "    <tr style=\"text-align: right;\">\n",
       "      <th></th>\n",
       "      <th>name</th>\n",
       "      <th>rating</th>\n",
       "    </tr>\n",
       "  </thead>\n",
       "  <tbody>\n",
       "    <tr>\n",
       "      <th>6</th>\n",
       "      <td>A Tale of Babys Days with Peter Rabbit</td>\n",
       "      <td>4</td>\n",
       "    </tr>\n",
       "    <tr>\n",
       "      <th>9</th>\n",
       "      <td>Baby Trackerreg  Daily Childcare Journal Sched...</td>\n",
       "      <td>4</td>\n",
       "    </tr>\n",
       "    <tr>\n",
       "      <th>10</th>\n",
       "      <td>Baby Trackerreg  Daily Childcare Journal Sched...</td>\n",
       "      <td>4</td>\n",
       "    </tr>\n",
       "    <tr>\n",
       "      <th>12</th>\n",
       "      <td>Baby Trackerreg  Daily Childcare Journal Sched...</td>\n",
       "      <td>4</td>\n",
       "    </tr>\n",
       "    <tr>\n",
       "      <th>15</th>\n",
       "      <td>Natures Lullabies First Year Sticker Calendar</td>\n",
       "      <td>4</td>\n",
       "    </tr>\n",
       "  </tbody>\n",
       "</table>\n",
       "</div>"
      ],
      "text/plain": [
       "                                                 name  rating\n",
       "6              A Tale of Babys Days with Peter Rabbit       4\n",
       "9   Baby Trackerreg  Daily Childcare Journal Sched...       4\n",
       "10  Baby Trackerreg  Daily Childcare Journal Sched...       4\n",
       "12  Baby Trackerreg  Daily Childcare Journal Sched...       4\n",
       "15      Natures Lullabies First Year Sticker Calendar       4"
      ]
     },
     "execution_count": 34,
     "metadata": {},
     "output_type": "execute_result"
    }
   ],
   "source": [
    "## temporary dataframe with rating 4\n",
    "temp_df_rating_4 = temp_df_rating[temp_df_rating.rating == 4]\n",
    "temp_df_rating_4.head()"
   ]
  },
  {
   "cell_type": "code",
   "execution_count": 35,
   "id": "5a24c5d0",
   "metadata": {},
   "outputs": [
    {
     "data": {
      "text/plain": [
       "33053"
      ]
     },
     "execution_count": 35,
     "metadata": {},
     "output_type": "execute_result"
    }
   ],
   "source": [
    "## total number of 4 star ratings / reviews\n",
    "len(temp_df_rating_4)"
   ]
  },
  {
   "cell_type": "code",
   "execution_count": 36,
   "id": "e412a410",
   "metadata": {},
   "outputs": [
    {
     "data": {
      "image/png": "[encoded data removed]",
      "text/plain": [
       "<Figure size 864x432 with 1 Axes>"
      ]
     },
     "metadata": {
      "needs_background": "light"
     },
     "output_type": "display_data"
    }
   ],
   "source": [
    "## top 20 products by highest number of 4 star ratings\n",
    "\n",
    "temp_df_rating_4.groupby(['name']).count().sort_values('rating', ascending=False)[0:20].plot(kind='bar', figsize=(12, 6))\n",
    "plt.xlabel('product name')\n",
    "plt.ylabel('4 star review counts')\n",
    "plt.title('Top 20 Products by Highest number of 4 star reviews')\n",
    "plt.show()"
   ]
  },
  {
   "cell_type": "code",
   "execution_count": 37,
   "id": "5af9da90",
   "metadata": {},
   "outputs": [
    {
     "data": {
      "text/html": [
       "<div>\n",
       "<style scoped>\n",
       "    .dataframe tbody tr th:only-of-type {\n",
       "        vertical-align: middle;\n",
       "    }\n",
       "\n",
       "    .dataframe tbody tr th {\n",
       "        vertical-align: top;\n",
       "    }\n",
       "\n",
       "    .dataframe thead th {\n",
       "        text-align: right;\n",
       "    }\n",
       "</style>\n",
       "<table border=\"1\" class=\"dataframe\">\n",
       "  <thead>\n",
       "    <tr style=\"text-align: right;\">\n",
       "      <th></th>\n",
       "      <th>name</th>\n",
       "      <th>rating</th>\n",
       "    </tr>\n",
       "  </thead>\n",
       "  <tbody>\n",
       "    <tr>\n",
       "      <th>0</th>\n",
       "      <td>Planetwise Flannel Wipes</td>\n",
       "      <td>3</td>\n",
       "    </tr>\n",
       "    <tr>\n",
       "      <th>13</th>\n",
       "      <td>Baby Trackerreg  Daily Childcare Journal Sched...</td>\n",
       "      <td>3</td>\n",
       "    </tr>\n",
       "    <tr>\n",
       "      <th>23</th>\n",
       "      <td>Natures Lullabies Second Year Sticker Calendar</td>\n",
       "      <td>3</td>\n",
       "    </tr>\n",
       "    <tr>\n",
       "      <th>27</th>\n",
       "      <td>Lamaze Peekaboo I Love You</td>\n",
       "      <td>3</td>\n",
       "    </tr>\n",
       "    <tr>\n",
       "      <th>34</th>\n",
       "      <td>Lamaze Peekaboo I Love You</td>\n",
       "      <td>3</td>\n",
       "    </tr>\n",
       "  </tbody>\n",
       "</table>\n",
       "</div>"
      ],
      "text/plain": [
       "                                                 name  rating\n",
       "0                            Planetwise Flannel Wipes       3\n",
       "13  Baby Trackerreg  Daily Childcare Journal Sched...       3\n",
       "23     Natures Lullabies Second Year Sticker Calendar       3\n",
       "27                         Lamaze Peekaboo I Love You       3\n",
       "34                         Lamaze Peekaboo I Love You       3"
      ]
     },
     "execution_count": 37,
     "metadata": {},
     "output_type": "execute_result"
    }
   ],
   "source": [
    "## temporary dataframe with rating 3\n",
    "temp_df_rating_3 = temp_df_rating[temp_df_rating.rating == 3]\n",
    "temp_df_rating_3.head()"
   ]
  },
  {
   "cell_type": "code",
   "execution_count": 38,
   "id": "9c5e06bd",
   "metadata": {},
   "outputs": [
    {
     "data": {
      "text/plain": [
       "16705"
      ]
     },
     "execution_count": 38,
     "metadata": {},
     "output_type": "execute_result"
    }
   ],
   "source": [
    "## total number of 3 star ratings / reviews\n",
    "len(temp_df_rating_3)"
   ]
  },
  {
   "cell_type": "code",
   "execution_count": 39,
   "id": "d238c1aa",
   "metadata": {},
   "outputs": [
    {
     "data": {
      "image/png": "[encoded data removed]",
      "text/plain": [
       "<Figure size 864x432 with 1 Axes>"
      ]
     },
     "metadata": {
      "needs_background": "light"
     },
     "output_type": "display_data"
    }
   ],
   "source": [
    "## top 20 products by highest number of 3 star ratings\n",
    "\n",
    "temp_df_rating_3.groupby(['name']).count().sort_values('rating', ascending=False)[0:20].plot(kind='bar', figsize=(12, 6))\n",
    "plt.xlabel('product name')\n",
    "plt.ylabel('3 star review counts')\n",
    "plt.title('Top 20 Products by Highest number of 3 star reviews')\n",
    "plt.show()"
   ]
  },
  {
   "cell_type": "code",
   "execution_count": 40,
   "id": "9d680e9b",
   "metadata": {},
   "outputs": [
    {
     "data": {
      "text/html": [
       "<div>\n",
       "<style scoped>\n",
       "    .dataframe tbody tr th:only-of-type {\n",
       "        vertical-align: middle;\n",
       "    }\n",
       "\n",
       "    .dataframe tbody tr th {\n",
       "        vertical-align: top;\n",
       "    }\n",
       "\n",
       "    .dataframe thead th {\n",
       "        text-align: right;\n",
       "    }\n",
       "</style>\n",
       "<table border=\"1\" class=\"dataframe\">\n",
       "  <thead>\n",
       "    <tr style=\"text-align: right;\">\n",
       "      <th></th>\n",
       "      <th>name</th>\n",
       "      <th>rating</th>\n",
       "    </tr>\n",
       "  </thead>\n",
       "  <tbody>\n",
       "    <tr>\n",
       "      <th>21</th>\n",
       "      <td>Natures Lullabies Second Year Sticker Calendar</td>\n",
       "      <td>2</td>\n",
       "    </tr>\n",
       "    <tr>\n",
       "      <th>41</th>\n",
       "      <td>SoftPlay Giggle Jiggle Funbook Happy Bear</td>\n",
       "      <td>2</td>\n",
       "    </tr>\n",
       "    <tr>\n",
       "      <th>71</th>\n",
       "      <td>Wall Decor Removable Decal Sticker  Colorful B...</td>\n",
       "      <td>2</td>\n",
       "    </tr>\n",
       "    <tr>\n",
       "      <th>78</th>\n",
       "      <td>Cloth Diaper Pins Stainless Steel Traditional ...</td>\n",
       "      <td>2</td>\n",
       "    </tr>\n",
       "    <tr>\n",
       "      <th>80</th>\n",
       "      <td>Cloth Diaper Pins Stainless Steel Traditional ...</td>\n",
       "      <td>2</td>\n",
       "    </tr>\n",
       "  </tbody>\n",
       "</table>\n",
       "</div>"
      ],
      "text/plain": [
       "                                                 name  rating\n",
       "21     Natures Lullabies Second Year Sticker Calendar       2\n",
       "41          SoftPlay Giggle Jiggle Funbook Happy Bear       2\n",
       "71  Wall Decor Removable Decal Sticker  Colorful B...       2\n",
       "78  Cloth Diaper Pins Stainless Steel Traditional ...       2\n",
       "80  Cloth Diaper Pins Stainless Steel Traditional ...       2"
      ]
     },
     "execution_count": 40,
     "metadata": {},
     "output_type": "execute_result"
    }
   ],
   "source": [
    "## temporary dataframe with rating 2\n",
    "temp_df_rating_2 = temp_df_rating[temp_df_rating.rating == 2]\n",
    "temp_df_rating_2.head()"
   ]
  },
  {
   "cell_type": "code",
   "execution_count": 41,
   "id": "a1fd4bbb",
   "metadata": {},
   "outputs": [
    {
     "data": {
      "text/plain": [
       "11261"
      ]
     },
     "execution_count": 41,
     "metadata": {},
     "output_type": "execute_result"
    }
   ],
   "source": [
    "## total number of 2 star ratings / reviews\n",
    "len(temp_df_rating_2)"
   ]
  },
  {
   "cell_type": "code",
   "execution_count": 42,
   "id": "267de709",
   "metadata": {},
   "outputs": [
    {
     "data": {
      "image/png": "[encoded data removed]",
      "text/plain": [
       "<Figure size 864x432 with 1 Axes>"
      ]
     },
     "metadata": {
      "needs_background": "light"
     },
     "output_type": "display_data"
    }
   ],
   "source": [
    "## top 20 products by highest number of 2 star ratings\n",
    "\n",
    "temp_df_rating_2.groupby(['name']).count().sort_values('rating', ascending=False)[0:20].plot(kind='bar', figsize=(12, 6))\n",
    "plt.xlabel('product name')\n",
    "plt.ylabel('2 star review counts')\n",
    "plt.title('Top 20 Products by Highest number of 2 star reviews')\n",
    "plt.show()"
   ]
  },
  {
   "cell_type": "code",
   "execution_count": 43,
   "id": "ca78edd9",
   "metadata": {},
   "outputs": [
    {
     "data": {
      "text/html": [
       "<div>\n",
       "<style scoped>\n",
       "    .dataframe tbody tr th:only-of-type {\n",
       "        vertical-align: middle;\n",
       "    }\n",
       "\n",
       "    .dataframe tbody tr th {\n",
       "        vertical-align: top;\n",
       "    }\n",
       "\n",
       "    .dataframe thead th {\n",
       "        text-align: right;\n",
       "    }\n",
       "</style>\n",
       "<table border=\"1\" class=\"dataframe\">\n",
       "  <thead>\n",
       "    <tr style=\"text-align: right;\">\n",
       "      <th></th>\n",
       "      <th>name</th>\n",
       "      <th>rating</th>\n",
       "    </tr>\n",
       "  </thead>\n",
       "  <tbody>\n",
       "    <tr>\n",
       "      <th>50</th>\n",
       "      <td>SoftPlay Cloth Book Love</td>\n",
       "      <td>1</td>\n",
       "    </tr>\n",
       "    <tr>\n",
       "      <th>70</th>\n",
       "      <td>Hunntreg Falling Flowers and Birds Kids Nurser...</td>\n",
       "      <td>1</td>\n",
       "    </tr>\n",
       "    <tr>\n",
       "      <th>84</th>\n",
       "      <td>Cloth Diaper Pins Stainless Steel Traditional ...</td>\n",
       "      <td>1</td>\n",
       "    </tr>\n",
       "    <tr>\n",
       "      <th>90</th>\n",
       "      <td>Super Mario Game Nintendo Wall Sticker and Decal</td>\n",
       "      <td>1</td>\n",
       "    </tr>\n",
       "    <tr>\n",
       "      <th>91</th>\n",
       "      <td>New Style Trailing Cherry Blossom Tree Decal R...</td>\n",
       "      <td>1</td>\n",
       "    </tr>\n",
       "  </tbody>\n",
       "</table>\n",
       "</div>"
      ],
      "text/plain": [
       "                                                 name  rating\n",
       "50                           SoftPlay Cloth Book Love       1\n",
       "70  Hunntreg Falling Flowers and Birds Kids Nurser...       1\n",
       "84  Cloth Diaper Pins Stainless Steel Traditional ...       1\n",
       "90   Super Mario Game Nintendo Wall Sticker and Decal       1\n",
       "91  New Style Trailing Cherry Blossom Tree Decal R...       1"
      ]
     },
     "execution_count": 43,
     "metadata": {},
     "output_type": "execute_result"
    }
   ],
   "source": [
    "## temporary dataframe with rating 1\n",
    "temp_df_rating_1 = temp_df_rating[temp_df_rating.rating == 1]\n",
    "temp_df_rating_1.head()"
   ]
  },
  {
   "cell_type": "code",
   "execution_count": 44,
   "id": "e4a1c5da",
   "metadata": {},
   "outputs": [
    {
     "data": {
      "text/plain": [
       "15100"
      ]
     },
     "execution_count": 44,
     "metadata": {},
     "output_type": "execute_result"
    }
   ],
   "source": [
    "## total number of 1 star ratings / reviews\n",
    "len(temp_df_rating_1)"
   ]
  },
  {
   "cell_type": "code",
   "execution_count": 45,
   "id": "676344e0",
   "metadata": {},
   "outputs": [
    {
     "data": {
      "image/png": "[encoded data removed]",
      "text/plain": [
       "<Figure size 864x432 with 1 Axes>"
      ]
     },
     "metadata": {
      "needs_background": "light"
     },
     "output_type": "display_data"
    }
   ],
   "source": [
    "## top 20 products by highest number of 1 star ratings\n",
    "\n",
    "temp_df_rating_1.groupby(['name']).count().sort_values('rating', ascending=False)[0:20].plot(kind='bar', figsize=(12, 6))\n",
    "plt.xlabel('product name')\n",
    "plt.ylabel('1 star review counts')\n",
    "plt.title('Top 20 Products by Highest number of 1 star reviews')\n",
    "plt.show()"
   ]
  },
  {
   "cell_type": "markdown",
   "id": "56947713",
   "metadata": {},
   "source": [
    "# ============================================================="
   ]
  },
  {
   "cell_type": "markdown",
   "id": "ed775a93",
   "metadata": {},
   "source": [
    "# Data Pre-processing prior to modeling"
   ]
  },
  {
   "cell_type": "code",
   "execution_count": 46,
   "id": "9b80b601",
   "metadata": {},
   "outputs": [
    {
     "name": "stdout",
     "output_type": "stream",
     "text": [
      "Requirement already satisfied: nltk in /opt/conda/lib/python3.8/site-packages (3.7)\n",
      "Requirement already satisfied: click in /opt/conda/lib/python3.8/site-packages (from nltk) (7.1.2)\n",
      "Requirement already satisfied: joblib in /opt/conda/lib/python3.8/site-packages (from nltk) (0.16.0)\n",
      "Requirement already satisfied: regex>=2021.8.3 in /opt/conda/lib/python3.8/site-packages (from nltk) (2022.3.2)\n",
      "Requirement already satisfied: tqdm in /opt/conda/lib/python3.8/site-packages (from nltk) (4.47.0)\n",
      "Note: you may need to restart the kernel to use updated packages.\n"
     ]
    }
   ],
   "source": [
    "pip install nltk"
   ]
  },
  {
   "cell_type": "code",
   "execution_count": 47,
   "id": "8b3e7207",
   "metadata": {},
   "outputs": [
    {
     "name": "stderr",
     "output_type": "stream",
     "text": [
      "[nltk_data] Downloading package stopwords to /home/jovyan/nltk_data...\n",
      "[nltk_data]   Package stopwords is already up-to-date!\n"
     ]
    },
    {
     "data": {
      "text/plain": [
       "True"
      ]
     },
     "execution_count": 47,
     "metadata": {},
     "output_type": "execute_result"
    }
   ],
   "source": [
    "import nltk\n",
    "\n",
    "nltk.download('stopwords')"
   ]
  },
  {
   "cell_type": "code",
   "execution_count": 48,
   "id": "e5ca5b43",
   "metadata": {},
   "outputs": [],
   "source": [
    "## load required libraries for reviews text processing / sentiment analysis\n",
    "import random\n",
    "\n",
    "from nltk.corpus import stopwords\n",
    "from nltk.stem.porter import PorterStemmer"
   ]
  },
  {
   "cell_type": "code",
   "execution_count": 49,
   "id": "34f3b9af",
   "metadata": {},
   "outputs": [],
   "source": [
    "## We will look to select equal number of records from each rating category to maintain the dataset as balanced dataset.\n",
    "## For rating category 2, we have least number of reviews - '11261'. So, we will use that as a count for selecting the \n",
    "## number of records for each rating category."
   ]
  },
  {
   "cell_type": "code",
   "execution_count": 50,
   "id": "fefc6cf2",
   "metadata": {},
   "outputs": [],
   "source": [
    "# Use random seed for reproducible results\n",
    "random.seed(0)\n",
    "\n",
    "## please note rating 3 reviews are treated as neutral and are under-represented in terms of counts.\n",
    "## hence we are multiplying the number of samples by 2 so that equal reviews numbers are generated.\n",
    "\n",
    "## SMOTE - Synthetic Minority Oversample Technique\n",
    "\n",
    "df_1 = df[df.rating==1].sample(11261).copy()\n",
    "df_2 = df[df.rating==2].sample(11261).copy()\n",
    "df_3 = df[df.rating==3].sample(11261*2, replace=True).copy()\n",
    "df_4 = df[df.rating==4].sample(11261).copy()\n",
    "df_5 = df[df.rating==5].sample(11261).copy()"
   ]
  },
  {
   "cell_type": "code",
   "execution_count": 51,
   "id": "8c81363b",
   "metadata": {},
   "outputs": [],
   "source": [
    "## Concatenate the data frames by categories into one\n",
    "\n",
    "reviews_df = pd.concat([df_1, df_2, df_3, df_4, df_5])"
   ]
  },
  {
   "cell_type": "code",
   "execution_count": 52,
   "id": "ff924745",
   "metadata": {},
   "outputs": [
    {
     "data": {
      "text/plain": [
       "(67566, 4)"
      ]
     },
     "execution_count": 52,
     "metadata": {},
     "output_type": "execute_result"
    }
   ],
   "source": [
    "reviews_df.shape"
   ]
  },
  {
   "cell_type": "code",
   "execution_count": 53,
   "id": "38ff37db",
   "metadata": {},
   "outputs": [
    {
     "data": {
      "text/html": [
       "<div>\n",
       "<style scoped>\n",
       "    .dataframe tbody tr th:only-of-type {\n",
       "        vertical-align: middle;\n",
       "    }\n",
       "\n",
       "    .dataframe tbody tr th {\n",
       "        vertical-align: top;\n",
       "    }\n",
       "\n",
       "    .dataframe thead th {\n",
       "        text-align: right;\n",
       "    }\n",
       "</style>\n",
       "<table border=\"1\" class=\"dataframe\">\n",
       "  <thead>\n",
       "    <tr style=\"text-align: right;\">\n",
       "      <th></th>\n",
       "      <th>name</th>\n",
       "      <th>review</th>\n",
       "      <th>rating</th>\n",
       "      <th>sentiment</th>\n",
       "    </tr>\n",
       "  </thead>\n",
       "  <tbody>\n",
       "    <tr>\n",
       "      <th>181223</th>\n",
       "      <td>Tommee Tippee Bottle 9 Ounce</td>\n",
       "      <td>threading was bad it leaks. base is small easi...</td>\n",
       "      <td>1</td>\n",
       "      <td>negative</td>\n",
       "    </tr>\n",
       "    <tr>\n",
       "      <th>26611</th>\n",
       "      <td>Sevi Xylophone Toy</td>\n",
       "      <td>i was looking for a better quality xylophone f...</td>\n",
       "      <td>1</td>\n",
       "      <td>negative</td>\n",
       "    </tr>\n",
       "    <tr>\n",
       "      <th>24963</th>\n",
       "      <td>JJ Cole Lite Plain Infant Bundle Me  Graphite</td>\n",
       "      <td>i bought one of these for my daughter.  i had ...</td>\n",
       "      <td>1</td>\n",
       "      <td>negative</td>\n",
       "    </tr>\n",
       "    <tr>\n",
       "      <th>10615</th>\n",
       "      <td>Safety 1st Designer Infant Car Seat Base Black</td>\n",
       "      <td>dont be fooled this base will not work with an...</td>\n",
       "      <td>1</td>\n",
       "      <td>negative</td>\n",
       "    </tr>\n",
       "    <tr>\n",
       "      <th>131963</th>\n",
       "      <td>5x8 Vantage Premium Grip Non Slip Rug Pad for ...</td>\n",
       "      <td>i ordered this and the item fit the descriptio...</td>\n",
       "      <td>1</td>\n",
       "      <td>negative</td>\n",
       "    </tr>\n",
       "  </tbody>\n",
       "</table>\n",
       "</div>"
      ],
      "text/plain": [
       "                                                     name  \\\n",
       "181223                       Tommee Tippee Bottle 9 Ounce   \n",
       "26611                                  Sevi Xylophone Toy   \n",
       "24963       JJ Cole Lite Plain Infant Bundle Me  Graphite   \n",
       "10615      Safety 1st Designer Infant Car Seat Base Black   \n",
       "131963  5x8 Vantage Premium Grip Non Slip Rug Pad for ...   \n",
       "\n",
       "                                                   review  rating sentiment  \n",
       "181223  threading was bad it leaks. base is small easi...       1  negative  \n",
       "26611   i was looking for a better quality xylophone f...       1  negative  \n",
       "24963   i bought one of these for my daughter.  i had ...       1  negative  \n",
       "10615   dont be fooled this base will not work with an...       1  negative  \n",
       "131963  i ordered this and the item fit the descriptio...       1  negative  "
      ]
     },
     "execution_count": 53,
     "metadata": {},
     "output_type": "execute_result"
    }
   ],
   "source": [
    "reviews_df.head()"
   ]
  },
  {
   "cell_type": "markdown",
   "id": "b1f306ee",
   "metadata": {},
   "source": [
    "### remove stop words"
   ]
  },
  {
   "cell_type": "code",
   "execution_count": 54,
   "id": "7e6cf06d",
   "metadata": {},
   "outputs": [],
   "source": [
    "# Load stop words\n",
    "\n",
    "stop_words = stopwords.words('english')"
   ]
  },
  {
   "cell_type": "code",
   "execution_count": 55,
   "id": "c59c7cc5",
   "metadata": {},
   "outputs": [],
   "source": [
    "# Remove stop words by splitting the text, removing stop words, and then rejoining the text\n",
    "\n",
    "reviews_df['review_2'] = reviews_df['review'].apply(lambda x: ' '.join([word for word in x.split() if word not in (stop_words)]))"
   ]
  },
  {
   "cell_type": "markdown",
   "id": "ce581b87",
   "metadata": {},
   "source": [
    "### Porter stemmer"
   ]
  },
  {
   "cell_type": "code",
   "execution_count": 56,
   "id": "aa1ade8c",
   "metadata": {},
   "outputs": [],
   "source": [
    "# Create a PorterStemmer\n",
    "\n",
    "porter = PorterStemmer()"
   ]
  },
  {
   "cell_type": "code",
   "execution_count": 57,
   "id": "e7f77fd1",
   "metadata": {},
   "outputs": [],
   "source": [
    "reviews_df['review_2'] = reviews_df['review_2'].apply(lambda x: ' '.join([porter.stem(word) for word in x.split()]))"
   ]
  },
  {
   "cell_type": "code",
   "execution_count": null,
   "id": "662c8e98",
   "metadata": {},
   "outputs": [],
   "source": []
  },
  {
   "cell_type": "code",
   "execution_count": 58,
   "id": "3a83acdb",
   "metadata": {
    "scrolled": true
   },
   "outputs": [
    {
     "data": {
      "text/html": [
       "<div>\n",
       "<style scoped>\n",
       "    .dataframe tbody tr th:only-of-type {\n",
       "        vertical-align: middle;\n",
       "    }\n",
       "\n",
       "    .dataframe tbody tr th {\n",
       "        vertical-align: top;\n",
       "    }\n",
       "\n",
       "    .dataframe thead th {\n",
       "        text-align: right;\n",
       "    }\n",
       "</style>\n",
       "<table border=\"1\" class=\"dataframe\">\n",
       "  <thead>\n",
       "    <tr style=\"text-align: right;\">\n",
       "      <th></th>\n",
       "      <th>name</th>\n",
       "      <th>review</th>\n",
       "      <th>rating</th>\n",
       "      <th>sentiment</th>\n",
       "      <th>review_2</th>\n",
       "    </tr>\n",
       "  </thead>\n",
       "  <tbody>\n",
       "    <tr>\n",
       "      <th>30197</th>\n",
       "      <td>i Play Soft And Snuggly Blanket Pink</td>\n",
       "      <td>i ordered this blanket based on the descriptio...</td>\n",
       "      <td>3</td>\n",
       "      <td>neutral</td>\n",
       "      <td>order blanket base descript review product. gi...</td>\n",
       "    </tr>\n",
       "    <tr>\n",
       "      <th>16034</th>\n",
       "      <td>FisherPrice Ocean Wonders Aquarium Bouncer</td>\n",
       "      <td>we already had a combi activity rocker but the...</td>\n",
       "      <td>4</td>\n",
       "      <td>positive</td>\n",
       "      <td>alreadi combi activ rocker toy combi manual me...</td>\n",
       "    </tr>\n",
       "    <tr>\n",
       "      <th>122001</th>\n",
       "      <td>Safety 1st Inflatable Spout Guard Refresh</td>\n",
       "      <td>keep in mind before purchasing  this gadget do...</td>\n",
       "      <td>3</td>\n",
       "      <td>neutral</td>\n",
       "      <td>keep mind purchas gadget doesnt hole top showe...</td>\n",
       "    </tr>\n",
       "    <tr>\n",
       "      <th>7060</th>\n",
       "      <td>Peace of Mind Two 900 Mhz Baby Receivers Monitor</td>\n",
       "      <td>this monitor is awful. my husband  i did not r...</td>\n",
       "      <td>1</td>\n",
       "      <td>negative</td>\n",
       "      <td>monitor awful. husband realiz constant static ...</td>\n",
       "    </tr>\n",
       "    <tr>\n",
       "      <th>132133</th>\n",
       "      <td>Animals Alphabet Baby Nursery Peel amp Stick W...</td>\n",
       "      <td>these are really cute but they dont seem to ha...</td>\n",
       "      <td>4</td>\n",
       "      <td>positive</td>\n",
       "      <td>realli cute dont seem stick power item purchased.</td>\n",
       "    </tr>\n",
       "    <tr>\n",
       "      <th>178238</th>\n",
       "      <td>Baby Brezza Formula Pro One Step Food Maker</td>\n",
       "      <td>this worked for the first month we had it. the...</td>\n",
       "      <td>1</td>\n",
       "      <td>negative</td>\n",
       "      <td>work first month it. sudden instead 2 oz would...</td>\n",
       "    </tr>\n",
       "    <tr>\n",
       "      <th>54045</th>\n",
       "      <td>Instant Murals 25 Polka Dot Wall Transfer Stic...</td>\n",
       "      <td>i have not put the dots on the wall yet so i c...</td>\n",
       "      <td>2</td>\n",
       "      <td>negative</td>\n",
       "      <td>put dot wall yet cannot comment qualiti disapp...</td>\n",
       "    </tr>\n",
       "    <tr>\n",
       "      <th>33723</th>\n",
       "      <td>Lamaze Play amp Grow Freddie the Firefly Take ...</td>\n",
       "      <td>i bought the firefly and the peacock toy for m...</td>\n",
       "      <td>5</td>\n",
       "      <td>positive</td>\n",
       "      <td>bought firefli peacock toy twin love them.they...</td>\n",
       "    </tr>\n",
       "    <tr>\n",
       "      <th>94110</th>\n",
       "      <td>The First Years Jet Stroller RedBlack</td>\n",
       "      <td>for the price you pay for the stroller its not...</td>\n",
       "      <td>2</td>\n",
       "      <td>negative</td>\n",
       "      <td>price pay stroller bad definit feel differ you...</td>\n",
       "    </tr>\n",
       "    <tr>\n",
       "      <th>3782</th>\n",
       "      <td>Playtex Diaper Genie  First Refill Included</td>\n",
       "      <td>i received this as a shower gift but when the ...</td>\n",
       "      <td>1</td>\n",
       "      <td>negative</td>\n",
       "      <td>receiv shower gift time came use didnt work li...</td>\n",
       "    </tr>\n",
       "  </tbody>\n",
       "</table>\n",
       "</div>"
      ],
      "text/plain": [
       "                                                     name  \\\n",
       "30197                i Play Soft And Snuggly Blanket Pink   \n",
       "16034          FisherPrice Ocean Wonders Aquarium Bouncer   \n",
       "122001          Safety 1st Inflatable Spout Guard Refresh   \n",
       "7060     Peace of Mind Two 900 Mhz Baby Receivers Monitor   \n",
       "132133  Animals Alphabet Baby Nursery Peel amp Stick W...   \n",
       "178238        Baby Brezza Formula Pro One Step Food Maker   \n",
       "54045   Instant Murals 25 Polka Dot Wall Transfer Stic...   \n",
       "33723   Lamaze Play amp Grow Freddie the Firefly Take ...   \n",
       "94110               The First Years Jet Stroller RedBlack   \n",
       "3782          Playtex Diaper Genie  First Refill Included   \n",
       "\n",
       "                                                   review  rating sentiment  \\\n",
       "30197   i ordered this blanket based on the descriptio...       3   neutral   \n",
       "16034   we already had a combi activity rocker but the...       4  positive   \n",
       "122001  keep in mind before purchasing  this gadget do...       3   neutral   \n",
       "7060    this monitor is awful. my husband  i did not r...       1  negative   \n",
       "132133  these are really cute but they dont seem to ha...       4  positive   \n",
       "178238  this worked for the first month we had it. the...       1  negative   \n",
       "54045   i have not put the dots on the wall yet so i c...       2  negative   \n",
       "33723   i bought the firefly and the peacock toy for m...       5  positive   \n",
       "94110   for the price you pay for the stroller its not...       2  negative   \n",
       "3782    i received this as a shower gift but when the ...       1  negative   \n",
       "\n",
       "                                                 review_2  \n",
       "30197   order blanket base descript review product. gi...  \n",
       "16034   alreadi combi activ rocker toy combi manual me...  \n",
       "122001  keep mind purchas gadget doesnt hole top showe...  \n",
       "7060    monitor awful. husband realiz constant static ...  \n",
       "132133  realli cute dont seem stick power item purchased.  \n",
       "178238  work first month it. sudden instead 2 oz would...  \n",
       "54045   put dot wall yet cannot comment qualiti disapp...  \n",
       "33723   bought firefli peacock toy twin love them.they...  \n",
       "94110   price pay stroller bad definit feel differ you...  \n",
       "3782    receiv shower gift time came use didnt work li...  "
      ]
     },
     "execution_count": 58,
     "metadata": {},
     "output_type": "execute_result"
    }
   ],
   "source": [
    "## display randomly selected 10 records after deleting stop_words from the review text\n",
    "\n",
    "reviews_df.sample(10).head(10)"
   ]
  },
  {
   "cell_type": "markdown",
   "id": "a87367bf",
   "metadata": {},
   "source": [
    "# Model preparation and evaluation"
   ]
  },
  {
   "cell_type": "code",
   "execution_count": 59,
   "id": "5db177d7",
   "metadata": {},
   "outputs": [],
   "source": [
    "## import required libraries for sklearn MLP classifier and mode evaluation\n",
    "\n",
    "from sklearn.preprocessing import LabelEncoder\n",
    "from sklearn.feature_extraction.text import CountVectorizer, TfidfVectorizer\n",
    "from sklearn.model_selection import train_test_split\n",
    "from sklearn.metrics import accuracy_score, confusion_matrix, classification_report\n",
    "from sklearn.neural_network import MLPClassifier"
   ]
  },
  {
   "cell_type": "code",
   "execution_count": 60,
   "id": "fb5cbd05",
   "metadata": {},
   "outputs": [],
   "source": [
    "## import required libraries for Keras Neural network classifier and mode evaluation\n",
    "\n",
    "import keras\n",
    "import tensorflow as tf\n",
    "from tensorflow.keras.models import Sequential\n",
    "from tensorflow.keras.layers import Dense"
   ]
  },
  {
   "cell_type": "markdown",
   "id": "7ba85bdd",
   "metadata": {},
   "source": [
    "### Tfidf vectorizer"
   ]
  },
  {
   "cell_type": "code",
   "execution_count": 61,
   "id": "a5e1320c",
   "metadata": {},
   "outputs": [],
   "source": [
    "# Create text data variable to feed into vectorizer to prepare words list in matrix format\n",
    "\n",
    "text = np.array(reviews_df['review_2'])"
   ]
  },
  {
   "cell_type": "code",
   "execution_count": 62,
   "id": "41762dc6",
   "metadata": {},
   "outputs": [],
   "source": [
    "# Initialize Vectorizer\n",
    "\n",
    "vectorizer = TfidfVectorizer()"
   ]
  },
  {
   "cell_type": "code",
   "execution_count": 63,
   "id": "fe8b0f05",
   "metadata": {},
   "outputs": [],
   "source": [
    "# Fit Vectorizer\n",
    "\n",
    "X = vectorizer.fit_transform(text)\n",
    "y = reviews_df.sentiment"
   ]
  },
  {
   "cell_type": "code",
   "execution_count": 64,
   "id": "225f26a2",
   "metadata": {},
   "outputs": [],
   "source": [
    "# Use encoder to convert categories to numerical values, \n",
    "## since Keras Neural network requires numerical output values.\n",
    "\n",
    "encoder = LabelEncoder()\n",
    "\n",
    "y=encoder.fit_transform(y)\n",
    "\n",
    "## these encoded values of 'y' will be used as is later on for CountVectorizer section as well"
   ]
  },
  {
   "cell_type": "code",
   "execution_count": 65,
   "id": "06494d2a",
   "metadata": {},
   "outputs": [],
   "source": [
    "# Create train and test split with 75% train data and 25% test data\n",
    "\n",
    "X_train, X_test, y_train, y_test = train_test_split(X, y, test_size=0.25, random_state=0)"
   ]
  },
  {
   "cell_type": "code",
   "execution_count": 66,
   "id": "0588947c",
   "metadata": {},
   "outputs": [
    {
     "name": "stdout",
     "output_type": "stream",
     "text": [
      "(50674, 51934)\n",
      "(16892, 51934)\n",
      "(50674,)\n",
      "(16892,)\n"
     ]
    }
   ],
   "source": [
    "# Check the shape of X_train, X_test, y_train, and y_test. Use number of features in X_train or X_test to set N_FEATURES \n",
    "\n",
    "print(X_train.shape)\n",
    "print(X_test.shape)\n",
    "print(y_train.shape)\n",
    "print(y_test.shape)"
   ]
  },
  {
   "cell_type": "markdown",
   "id": "d9bdfb6f",
   "metadata": {},
   "source": [
    "## MLP classifier within sklearn using Tfidf vectorizer"
   ]
  },
  {
   "cell_type": "code",
   "execution_count": 67,
   "id": "7b2f3181",
   "metadata": {},
   "outputs": [
    {
     "data": {
      "text/plain": [
       "MLPClassifier(hidden_layer_sizes=(100, 100, 100))"
      ]
     },
     "execution_count": 67,
     "metadata": {},
     "output_type": "execute_result"
    }
   ],
   "source": [
    "# Prepare MLP Classifier\n",
    "\n",
    "mlp = MLPClassifier(hidden_layer_sizes=(100, 100, 100))\n",
    "mlp.fit(X_train, y_train)"
   ]
  },
  {
   "cell_type": "code",
   "execution_count": 68,
   "id": "9b227eaa",
   "metadata": {},
   "outputs": [],
   "source": [
    "# Prepare predictions\n",
    "\n",
    "predictions = mlp.predict(X_test)"
   ]
  },
  {
   "cell_type": "code",
   "execution_count": 69,
   "id": "06032f9e",
   "metadata": {},
   "outputs": [
    {
     "name": "stdout",
     "output_type": "stream",
     "text": [
      "[[3915 1028  556]\n",
      " [ 810 4259  571]\n",
      " [ 758  929 4066]]\n"
     ]
    }
   ],
   "source": [
    "# Prepare confusion matrix\n",
    "\n",
    "print(confusion_matrix(y_test, predictions))"
   ]
  },
  {
   "cell_type": "code",
   "execution_count": 70,
   "id": "fabe5677",
   "metadata": {},
   "outputs": [
    {
     "name": "stdout",
     "output_type": "stream",
     "text": [
      "              precision    recall  f1-score   support\n",
      "\n",
      "           0       0.71      0.71      0.71      5499\n",
      "           1       0.69      0.76      0.72      5640\n",
      "           2       0.78      0.71      0.74      5753\n",
      "\n",
      "    accuracy                           0.72     16892\n",
      "   macro avg       0.73      0.72      0.72     16892\n",
      "weighted avg       0.73      0.72      0.73     16892\n",
      "\n"
     ]
    }
   ],
   "source": [
    "# Print Classification Report\n",
    "\n",
    "print(classification_report(y_test, predictions))"
   ]
  },
  {
   "cell_type": "code",
   "execution_count": 71,
   "id": "d3703d4c",
   "metadata": {},
   "outputs": [],
   "source": [
    "# Calculate Accuracy Score\n",
    "\n",
    "#print(accuracy_score(y_test, predictions))\n",
    "\n",
    "acc = accuracy_score(y_test, predictions)"
   ]
  },
  {
   "cell_type": "code",
   "execution_count": 72,
   "id": "6d9dd324",
   "metadata": {},
   "outputs": [
    {
     "name": "stdout",
     "output_type": "stream",
     "text": [
      "sklearn MLP accuracy score using TfIdf vectorizer is:  72.46 %\n"
     ]
    }
   ],
   "source": [
    "print(\"sklearn MLP accuracy score using TfIdf vectorizer is: \", round(acc*100, 2), '%')"
   ]
  },
  {
   "cell_type": "code",
   "execution_count": null,
   "id": "cbd4c50d",
   "metadata": {},
   "outputs": [],
   "source": []
  },
  {
   "cell_type": "markdown",
   "id": "94002377",
   "metadata": {},
   "source": [
    "## Keras Neural Network classifier using Tf-idf vectorizer"
   ]
  },
  {
   "cell_type": "code",
   "execution_count": 73,
   "id": "a65440e2",
   "metadata": {},
   "outputs": [],
   "source": [
    "## create arrays for y_train and y_test\n",
    "\n",
    "y_train = np.asarray(y_train)\n",
    "y_test  = np.asarray(y_test)"
   ]
  },
  {
   "cell_type": "code",
   "execution_count": 74,
   "id": "755c11c7",
   "metadata": {},
   "outputs": [
    {
     "name": "stdout",
     "output_type": "stream",
     "text": [
      "(50674, 51934)\n",
      "(16892, 51934)\n",
      "(50674,)\n",
      "(16892,)\n"
     ]
    }
   ],
   "source": [
    "## Check the shape of X_train, X_test, y_train, and y_test. Use number of features in X_train or X_test to set N_FEATURES \n",
    "\n",
    "print(X_train.shape)\n",
    "print(X_test.shape)\n",
    "print(y_train.shape)\n",
    "print(y_test.shape)"
   ]
  },
  {
   "cell_type": "code",
   "execution_count": 75,
   "id": "92aff450",
   "metadata": {},
   "outputs": [],
   "source": [
    "## Set features and classes\n",
    "\n",
    "N_FEATURES = X_train.shape[1]\n",
    "N_CLASSES = 3"
   ]
  },
  {
   "cell_type": "code",
   "execution_count": 76,
   "id": "37205c8e",
   "metadata": {},
   "outputs": [],
   "source": [
    "## Define function to convert sparse matrix to sparse tensor\n",
    "## The number of features is huge and it is sparse matrix. so have to use a SparseTensor or else it is too slow.\n",
    "## https://stackoverflow.com/questions/40896157/scipy-sparse-csr-matrix-to-tensorflow-sparsetensor-mini-batch-gradient-descent\n",
    "\n",
    "def conv_sparse_matrix_to_sparse_tensor(X):\n",
    "    coo = X.tocoo()\n",
    "    indices = np.mat([coo.row, coo.col]).transpose()\n",
    "    return tf.sparse.reorder(tf.SparseTensor(indices, coo.data, coo.shape))"
   ]
  },
  {
   "cell_type": "code",
   "execution_count": 77,
   "id": "2e9327fe",
   "metadata": {},
   "outputs": [],
   "source": [
    "## Prepare train and test data Sparse Tensor \n",
    "\n",
    "X_train = conv_sparse_matrix_to_sparse_tensor(X_train)\n",
    "X_test = conv_sparse_matrix_to_sparse_tensor(X_test)"
   ]
  },
  {
   "cell_type": "code",
   "execution_count": 78,
   "id": "c11596bd",
   "metadata": {},
   "outputs": [],
   "source": [
    "## Create keras sequential classifier\n",
    "\n",
    "nn = Sequential()\n",
    "nn.add(Dense(600, activation='relu', input_shape=(N_FEATURES,)))\n",
    "nn.add(Dense(900, activation='relu'))\n",
    "nn.add(Dense(N_CLASSES, activation='softmax'))"
   ]
  },
  {
   "cell_type": "code",
   "execution_count": 79,
   "id": "9b64b61d",
   "metadata": {},
   "outputs": [],
   "source": [
    "## Compile the Artificial Neural Network\n",
    "\n",
    "nn.compile(loss='sparse_categorical_crossentropy', \n",
    "           optimizer='adam', \n",
    "           metrics=['accuracy'])"
   ]
  },
  {
   "cell_type": "code",
   "execution_count": 80,
   "id": "0a51b83d",
   "metadata": {
    "scrolled": true
   },
   "outputs": [
    {
     "name": "stdout",
     "output_type": "stream",
     "text": [
      "Epoch 1/5\n",
      "102/102 [==============================] - 14s 135ms/step - loss: 0.7990 - accuracy: 0.6368\n",
      "Epoch 2/5\n",
      "102/102 [==============================] - 14s 133ms/step - loss: 0.4690 - accuracy: 0.8180\n",
      "Epoch 3/5\n",
      "102/102 [==============================] - 14s 132ms/step - loss: 0.2045 - accuracy: 0.9316\n",
      "Epoch 4/5\n",
      "102/102 [==============================] - 13s 130ms/step - loss: 0.0538 - accuracy: 0.9851\n",
      "Epoch 5/5\n",
      "102/102 [==============================] - 13s 132ms/step - loss: 0.0112 - accuracy: 0.9981\n"
     ]
    },
    {
     "data": {
      "text/plain": [
       "<tensorflow.python.keras.callbacks.History at 0x7f49e501f580>"
      ]
     },
     "execution_count": 80,
     "metadata": {},
     "output_type": "execute_result"
    }
   ],
   "source": [
    "## fit ANN to the training set\n",
    "\n",
    "nn.fit(X_train, y_train, batch_size=500, epochs=5, verbose=1)"
   ]
  },
  {
   "cell_type": "code",
   "execution_count": 81,
   "id": "06fe779a",
   "metadata": {},
   "outputs": [],
   "source": [
    "# create predictions\n",
    "\n",
    "y_pred = np.argmax(nn.predict(X_test), axis=-1)"
   ]
  },
  {
   "cell_type": "code",
   "execution_count": 82,
   "id": "4f57ad71",
   "metadata": {},
   "outputs": [
    {
     "name": "stdout",
     "output_type": "stream",
     "text": [
      "[[4023  884  592]\n",
      " [ 835 4184  621]\n",
      " [ 734  818 4201]]\n"
     ]
    }
   ],
   "source": [
    "## confusion matrix for test predictions\n",
    "\n",
    "print(confusion_matrix(y_test, y_pred))"
   ]
  },
  {
   "cell_type": "code",
   "execution_count": 83,
   "id": "5a47c0af",
   "metadata": {},
   "outputs": [
    {
     "name": "stdout",
     "output_type": "stream",
     "text": [
      "              precision    recall  f1-score   support\n",
      "\n",
      "           0       0.72      0.73      0.73      5499\n",
      "           1       0.71      0.74      0.73      5640\n",
      "           2       0.78      0.73      0.75      5753\n",
      "\n",
      "    accuracy                           0.73     16892\n",
      "   macro avg       0.74      0.73      0.73     16892\n",
      "weighted avg       0.74      0.73      0.73     16892\n",
      "\n"
     ]
    }
   ],
   "source": [
    "## classification report for test predictions\n",
    "\n",
    "print(classification_report(y_test, y_pred))"
   ]
  },
  {
   "cell_type": "code",
   "execution_count": 84,
   "id": "d10f6d19",
   "metadata": {},
   "outputs": [],
   "source": [
    "## accuracy score for the test predictions\n",
    "\n",
    "##print(accuracy_score(y_test, y_pred))\n",
    "\n",
    "acc = accuracy_score(y_test, y_pred)"
   ]
  },
  {
   "cell_type": "code",
   "execution_count": 85,
   "id": "41fc2ac0",
   "metadata": {},
   "outputs": [
    {
     "name": "stdout",
     "output_type": "stream",
     "text": [
      "Keras neural network accuracy score using Tfidf vectorizer is:  73.45 %\n"
     ]
    }
   ],
   "source": [
    "print(\"Keras neural network accuracy score using Tfidf vectorizer is: \", round(acc*100, 2), '%')"
   ]
  },
  {
   "cell_type": "code",
   "execution_count": null,
   "id": "c089c26a",
   "metadata": {},
   "outputs": [],
   "source": []
  },
  {
   "cell_type": "markdown",
   "id": "05ff2f19",
   "metadata": {},
   "source": [
    "## ========================================================="
   ]
  },
  {
   "cell_type": "markdown",
   "id": "17e840da",
   "metadata": {},
   "source": [
    "### N-gram analysis for modeling - Multinomial Naive Bayes"
   ]
  },
  {
   "cell_type": "markdown",
   "id": "f5b65bb7",
   "metadata": {},
   "source": [
    "**ref: https://towardsdatascience.com/leveraging-n-grams-to-extract-context-from-text-bdc576b47049**"
   ]
  },
  {
   "cell_type": "code",
   "execution_count": 86,
   "id": "46e15db4",
   "metadata": {},
   "outputs": [],
   "source": [
    "# import libraries\n",
    "from sklearn.naive_bayes import MultinomialNB\n",
    "from sklearn.metrics import f1_score"
   ]
  },
  {
   "cell_type": "code",
   "execution_count": 87,
   "id": "33a4ec0b",
   "metadata": {},
   "outputs": [],
   "source": [
    "# Fit Vectorizer\n",
    "\n",
    "X_temp = list(reviews_df['review_2'])\n",
    "y_temp = list(y)\n",
    "\n",
    "## y is converted to numeric values using label encoder earlier. So, it will be used as is here."
   ]
  },
  {
   "cell_type": "code",
   "execution_count": 88,
   "id": "15be09c1",
   "metadata": {},
   "outputs": [],
   "source": [
    "# Create train and test split with 75% train data and 25% test data\n",
    "\n",
    "X_train, X_test, y_train, y_test = train_test_split(X_temp, y_temp, test_size=0.25, random_state=0)"
   ]
  },
  {
   "cell_type": "code",
   "execution_count": 89,
   "id": "e4165f7c",
   "metadata": {
    "scrolled": true
   },
   "outputs": [
    {
     "name": "stdout",
     "output_type": "stream",
     "text": [
      "Accuracy score of model with n-gram range of (1, 1): 0.64\n",
      "Accuracy score of model with n-gram range of (1, 2): 0.72\n",
      "Accuracy score of model with n-gram range of (1, 3): 0.72\n",
      "Accuracy score of model with n-gram range of (1, 4): 0.72\n"
     ]
    }
   ],
   "source": [
    "# train model with different n-gram ranges\n",
    "for N in range(1, 5):\n",
    "    \n",
    "    # convert training data to bag of words\n",
    "    cv = CountVectorizer(analyzer = 'word', ngram_range=(1,N), stop_words='english')\n",
    "    X_train_cv = cv.fit_transform(X_train)\n",
    "    X_test_cv = cv.transform(X_test)\n",
    "    \n",
    "    # train model and generate predictions\n",
    "    clf = MultinomialNB()\n",
    "    clf.fit(X_train_cv, y_train)\n",
    "    y_pred = clf.predict(X_test_cv)\n",
    "    \n",
    "    # compute f-1 score\n",
    "    #score = f1_score(y_test, y_pred, average='micro'),\n",
    "    #print('F-1 score of model with n-gram range of {}: {}'.format((1,N), np.round(score), 2))\n",
    "    \n",
    "    # compute accuracy score\n",
    "    acc_score = np.round(accuracy_score(y_test, y_pred), 2)\n",
    "    print('Accuracy score of model with n-gram range of {}: {}'.format((1,N), acc_score))"
   ]
  },
  {
   "cell_type": "markdown",
   "id": "c30f15c5",
   "metadata": {},
   "source": [
    "**Based on above observation, we can see the accuracy tends to remain constant beyond 2 gram count vectorizer. So, we will use bi-gram count vectorizer for the final modeling purpose**"
   ]
  },
  {
   "cell_type": "code",
   "execution_count": null,
   "id": "c846ec73",
   "metadata": {},
   "outputs": [],
   "source": []
  },
  {
   "cell_type": "markdown",
   "id": "8d938ece",
   "metadata": {},
   "source": [
    "## ========================================================="
   ]
  },
  {
   "cell_type": "markdown",
   "id": "456470b0",
   "metadata": {},
   "source": [
    "### Count vectorizer - check LabelEncoder - numeric y variable values are needed"
   ]
  },
  {
   "cell_type": "code",
   "execution_count": 90,
   "id": "adae39d8",
   "metadata": {},
   "outputs": [],
   "source": [
    "# Initialize Vectorizer\n",
    "\n",
    "vectorizer = CountVectorizer(analyzer = 'word', ngram_range=(1,2), stop_words='english')"
   ]
  },
  {
   "cell_type": "code",
   "execution_count": 91,
   "id": "0e6a1639",
   "metadata": {},
   "outputs": [],
   "source": [
    "# Fit Vectorizer\n",
    "\n",
    "X = vectorizer.fit_transform(reviews_df['review_2'])\n",
    "\n",
    "## y is converted to numeric values using label encoder earlier. So, it will be used as is here."
   ]
  },
  {
   "cell_type": "code",
   "execution_count": 92,
   "id": "6742a92b",
   "metadata": {},
   "outputs": [],
   "source": [
    "# Create train and test split with 75% train data and 25% test data\n",
    "\n",
    "X_train, X_test, y_train, y_test = train_test_split(X, y, test_size=0.25, random_state=0)"
   ]
  },
  {
   "cell_type": "code",
   "execution_count": 93,
   "id": "b53a1163",
   "metadata": {},
   "outputs": [
    {
     "name": "stdout",
     "output_type": "stream",
     "text": [
      "(50674, 976019)\n",
      "(16892, 976019)\n",
      "(50674,)\n",
      "(16892,)\n"
     ]
    }
   ],
   "source": [
    "# Check the shape of X_train, X_test, y_train, and y_test. Use number of features in X_train or X_test to set N_FEATURES \n",
    "\n",
    "print(X_train.shape)\n",
    "print(X_test.shape)\n",
    "print(y_train.shape)\n",
    "print(y_test.shape)"
   ]
  },
  {
   "cell_type": "markdown",
   "id": "af93d3c0",
   "metadata": {},
   "source": [
    "## MLP classifier with sklearn - Count vectorizer"
   ]
  },
  {
   "cell_type": "code",
   "execution_count": 94,
   "id": "3275ddee",
   "metadata": {},
   "outputs": [
    {
     "data": {
      "text/plain": [
       "MLPClassifier(hidden_layer_sizes=(100, 100, 100))"
      ]
     },
     "execution_count": 94,
     "metadata": {},
     "output_type": "execute_result"
    }
   ],
   "source": [
    "# Prepare MLP Classifier\n",
    "\n",
    "mlp = MLPClassifier(hidden_layer_sizes=(100, 100, 100))\n",
    "mlp.fit(X_train, y_train)"
   ]
  },
  {
   "cell_type": "code",
   "execution_count": 95,
   "id": "e7b81f81",
   "metadata": {},
   "outputs": [],
   "source": [
    "# Prepare predictions\n",
    "\n",
    "predictions = mlp.predict(X_test)"
   ]
  },
  {
   "cell_type": "code",
   "execution_count": 96,
   "id": "8c232754",
   "metadata": {},
   "outputs": [
    {
     "name": "stdout",
     "output_type": "stream",
     "text": [
      "[[4125  781  593]\n",
      " [ 830 4145  665]\n",
      " [ 609  614 4530]]\n"
     ]
    }
   ],
   "source": [
    "# Prepare confusion matrix\n",
    "\n",
    "print(confusion_matrix(y_test, predictions))"
   ]
  },
  {
   "cell_type": "code",
   "execution_count": 97,
   "id": "7e080fbc",
   "metadata": {},
   "outputs": [
    {
     "name": "stdout",
     "output_type": "stream",
     "text": [
      "              precision    recall  f1-score   support\n",
      "\n",
      "           0       0.74      0.75      0.75      5499\n",
      "           1       0.75      0.73      0.74      5640\n",
      "           2       0.78      0.79      0.79      5753\n",
      "\n",
      "    accuracy                           0.76     16892\n",
      "   macro avg       0.76      0.76      0.76     16892\n",
      "weighted avg       0.76      0.76      0.76     16892\n",
      "\n"
     ]
    }
   ],
   "source": [
    "# Print Classification Report\n",
    "\n",
    "print(classification_report(y_test, predictions))"
   ]
  },
  {
   "cell_type": "code",
   "execution_count": 98,
   "id": "87369d38",
   "metadata": {},
   "outputs": [],
   "source": [
    "# Calculate Accuracy Score\n",
    "\n",
    "#print(accuracy_score(y_test, predictions))\n",
    "\n",
    "acc = accuracy_score(y_test, predictions)"
   ]
  },
  {
   "cell_type": "code",
   "execution_count": 99,
   "id": "b8f90c3c",
   "metadata": {},
   "outputs": [
    {
     "name": "stdout",
     "output_type": "stream",
     "text": [
      "sklearn MLP accuracy score using Count vectorizer is:  75.78 %\n"
     ]
    }
   ],
   "source": [
    "print(\"sklearn MLP accuracy score using Count vectorizer is: \", round(acc*100, 2), '%')"
   ]
  },
  {
   "cell_type": "code",
   "execution_count": null,
   "id": "faf39878",
   "metadata": {},
   "outputs": [],
   "source": []
  },
  {
   "cell_type": "markdown",
   "id": "1c255e85",
   "metadata": {},
   "source": [
    "## Neural Classifiers with keras / tensorflow"
   ]
  },
  {
   "cell_type": "code",
   "execution_count": 100,
   "id": "422a3359",
   "metadata": {},
   "outputs": [],
   "source": [
    "# Use encoder to convert categories to numerical values, \n",
    "## since Keras Neural network requires numerical output values.\n",
    "\n",
    "#encoder = LabelEncoder()\n",
    "\n",
    "#cat = reviews_df['sentiment']\n",
    "#reviews_df['cat']=encoder.fit_transform(cat)\n",
    "#reviews_df.cat.value_counts()"
   ]
  },
  {
   "cell_type": "code",
   "execution_count": 101,
   "id": "4a1dfd38",
   "metadata": {},
   "outputs": [],
   "source": [
    "# Initialize Vectorizer\n",
    "\n",
    "#vectorizer = CountVectorizer()"
   ]
  },
  {
   "cell_type": "code",
   "execution_count": 102,
   "id": "4706a1af",
   "metadata": {},
   "outputs": [],
   "source": [
    "# Fit Vectorizer\n",
    "\n",
    "#X = vectorizer.fit_transform(reviews_df['review_2'])\n",
    "#y = reviews_df['cat']"
   ]
  },
  {
   "cell_type": "code",
   "execution_count": 103,
   "id": "fceaa400",
   "metadata": {},
   "outputs": [],
   "source": [
    "# Create train and test split with 75% size for train data and 25% size for test data\n",
    "\n",
    "X_train, X_test, y_train, y_test = train_test_split(X, y, test_size=0.25, random_state=0)"
   ]
  },
  {
   "cell_type": "code",
   "execution_count": 104,
   "id": "ab030291",
   "metadata": {},
   "outputs": [],
   "source": [
    "# Convert y_train and y_test as arrays\n",
    "\n",
    "y_train = np.asarray(y_train)\n",
    "y_test = np.asarray(y_test)"
   ]
  },
  {
   "cell_type": "code",
   "execution_count": 105,
   "id": "404a4569",
   "metadata": {},
   "outputs": [
    {
     "name": "stdout",
     "output_type": "stream",
     "text": [
      "(50674, 976019)\n",
      "(16892, 976019)\n",
      "(50674,)\n",
      "(16892,)\n"
     ]
    }
   ],
   "source": [
    "# Check the shape of X_train, X_test, y_train, and y_test. Use number of features in X_train or X_test to set N_FEATURES \n",
    "\n",
    "print(X_train.shape)\n",
    "print(X_test.shape)\n",
    "print(y_train.shape)\n",
    "print(y_test.shape)"
   ]
  },
  {
   "cell_type": "code",
   "execution_count": 106,
   "id": "d08de8b2",
   "metadata": {},
   "outputs": [],
   "source": [
    "## Set features and classes\n",
    "\n",
    "N_FEATURES = X_train.shape[1]\n",
    "N_CLASSES = 3"
   ]
  },
  {
   "cell_type": "code",
   "execution_count": 107,
   "id": "9e9ccd86",
   "metadata": {},
   "outputs": [],
   "source": [
    "## Define function to convert sparse matrix to sparse tensor\n",
    "## The number of features is huge and it is sparse matrix. so have to use a SparseTensor or else it is too slow.\n",
    "## https://stackoverflow.com/questions/40896157/scipy-sparse-csr-matrix-to-tensorflow-sparsetensor-mini-batch-gradient-descent\n",
    "\n",
    "def conv_sparse_matrix_to_sparse_tensor(X):\n",
    "    coo = X.tocoo()\n",
    "    indices = np.mat([coo.row, coo.col]).transpose()\n",
    "    return tf.sparse.reorder(tf.SparseTensor(indices, coo.data, coo.shape))"
   ]
  },
  {
   "cell_type": "code",
   "execution_count": 108,
   "id": "a44f9a51",
   "metadata": {},
   "outputs": [],
   "source": [
    "## Prepare train and test data Sparse Tensor \n",
    "\n",
    "X_train = conv_sparse_matrix_to_sparse_tensor(X_train)\n",
    "X_test = conv_sparse_matrix_to_sparse_tensor(X_test)"
   ]
  },
  {
   "cell_type": "code",
   "execution_count": 109,
   "id": "5aa3c682",
   "metadata": {},
   "outputs": [],
   "source": [
    "## Create keras sequential classifier\n",
    "\n",
    "nn = Sequential()\n",
    "nn.add(Dense(600, activation='relu', input_shape=(N_FEATURES,)))\n",
    "nn.add(Dense(900, activation='relu'))\n",
    "nn.add(Dense(N_CLASSES, activation='softmax'))"
   ]
  },
  {
   "cell_type": "code",
   "execution_count": 110,
   "id": "e7def4ac",
   "metadata": {},
   "outputs": [],
   "source": [
    "## Compile the Artificial Neural Network\n",
    "\n",
    "nn.compile(loss='sparse_categorical_crossentropy', \n",
    "           optimizer='adam', \n",
    "           metrics=['accuracy'])"
   ]
  },
  {
   "cell_type": "code",
   "execution_count": 111,
   "id": "9aa62cb4",
   "metadata": {},
   "outputs": [
    {
     "name": "stdout",
     "output_type": "stream",
     "text": [
      "Epoch 1/5\n",
      "102/102 [==============================] - 309s 3s/step - loss: 0.7113 - accuracy: 0.6889\n",
      "Epoch 2/5\n",
      "102/102 [==============================] - 304s 3s/step - loss: 0.0367 - accuracy: 0.9885\n",
      "Epoch 3/5\n",
      "102/102 [==============================] - 291s 3s/step - loss: 0.0027 - accuracy: 0.9996\n",
      "Epoch 4/5\n",
      "102/102 [==============================] - 295s 3s/step - loss: 6.8711e-04 - accuracy: 0.9998\n",
      "Epoch 5/5\n",
      "102/102 [==============================] - 294s 3s/step - loss: 3.1997e-04 - accuracy: 0.9999\n"
     ]
    },
    {
     "data": {
      "text/plain": [
       "<tensorflow.python.keras.callbacks.History at 0x7f4709ffe3d0>"
      ]
     },
     "execution_count": 111,
     "metadata": {},
     "output_type": "execute_result"
    }
   ],
   "source": [
    "## fit ANN to the training set\n",
    "\n",
    "nn.fit(X_train, y_train, batch_size=500, epochs=5, verbose=1)"
   ]
  },
  {
   "cell_type": "code",
   "execution_count": 112,
   "id": "29d8f583",
   "metadata": {},
   "outputs": [],
   "source": [
    "# create predictions\n",
    "\n",
    "y_pred = np.argmax(nn.predict(X_test), axis=-1)"
   ]
  },
  {
   "cell_type": "code",
   "execution_count": 113,
   "id": "9bf8734f",
   "metadata": {},
   "outputs": [
    {
     "name": "stdout",
     "output_type": "stream",
     "text": [
      "[[4356  529  614]\n",
      " [ 945 3979  716]\n",
      " [ 740  383 4630]]\n"
     ]
    }
   ],
   "source": [
    "## confusion matrix for test predictions\n",
    "\n",
    "print(confusion_matrix(y_test, y_pred))"
   ]
  },
  {
   "cell_type": "code",
   "execution_count": 114,
   "id": "62af55d4",
   "metadata": {},
   "outputs": [
    {
     "name": "stdout",
     "output_type": "stream",
     "text": [
      "              precision    recall  f1-score   support\n",
      "\n",
      "           0       0.72      0.79      0.75      5499\n",
      "           1       0.81      0.71      0.76      5640\n",
      "           2       0.78      0.80      0.79      5753\n",
      "\n",
      "    accuracy                           0.77     16892\n",
      "   macro avg       0.77      0.77      0.77     16892\n",
      "weighted avg       0.77      0.77      0.77     16892\n",
      "\n"
     ]
    }
   ],
   "source": [
    "## classification report for test predictions\n",
    "\n",
    "print(classification_report(y_test, y_pred))"
   ]
  },
  {
   "cell_type": "code",
   "execution_count": 115,
   "id": "c9c92c88",
   "metadata": {},
   "outputs": [],
   "source": [
    "## accuracy score for the test predictions\n",
    "\n",
    "##print(accuracy_score(y_test, y_pred))\n",
    "\n",
    "acc = accuracy_score(y_test, y_pred)"
   ]
  },
  {
   "cell_type": "code",
   "execution_count": 116,
   "id": "b950632a",
   "metadata": {},
   "outputs": [
    {
     "name": "stdout",
     "output_type": "stream",
     "text": [
      "Keras neural network accuracy score using Count vectorizer is:  76.75 %\n"
     ]
    }
   ],
   "source": [
    "print(\"Keras neural network accuracy score using Count vectorizer is: \", round(acc*100, 2), '%')"
   ]
  },
  {
   "cell_type": "markdown",
   "id": "a348471a",
   "metadata": {},
   "source": [
    "## ======================================================================"
   ]
  },
  {
   "cell_type": "markdown",
   "id": "3d238e1c",
   "metadata": {},
   "source": [
    "## Textblob for sentiment analysis\n",
    "\n",
    "### reference: https://towardsdatascience.com/my-absolute-go-to-for-sentiment-analysis-textblob-3ac3a11d524"
   ]
  },
  {
   "cell_type": "code",
   "execution_count": 117,
   "id": "5bb3b148",
   "metadata": {},
   "outputs": [
    {
     "name": "stdout",
     "output_type": "stream",
     "text": [
      "Collecting textblob\n",
      "  Using cached textblob-0.17.1-py2.py3-none-any.whl (636 kB)\n",
      "Requirement already satisfied: nltk>=3.1; python_version >= \"3\" in /opt/conda/lib/python3.8/site-packages (from textblob) (3.7)\n",
      "Requirement already satisfied: regex>=2021.8.3 in /opt/conda/lib/python3.8/site-packages (from nltk>=3.1; python_version >= \"3\"->textblob) (2022.3.2)\n",
      "Requirement already satisfied: tqdm in /opt/conda/lib/python3.8/site-packages (from nltk>=3.1; python_version >= \"3\"->textblob) (4.47.0)\n",
      "Requirement already satisfied: click in /opt/conda/lib/python3.8/site-packages (from nltk>=3.1; python_version >= \"3\"->textblob) (7.1.2)\n",
      "Requirement already satisfied: joblib in /opt/conda/lib/python3.8/site-packages (from nltk>=3.1; python_version >= \"3\"->textblob) (0.16.0)\n",
      "Installing collected packages: textblob\n",
      "Successfully installed textblob-0.17.1\n",
      "Note: you may need to restart the kernel to use updated packages.\n"
     ]
    }
   ],
   "source": [
    "pip install textblob"
   ]
  },
  {
   "cell_type": "code",
   "execution_count": 118,
   "id": "45157c5e",
   "metadata": {},
   "outputs": [],
   "source": [
    "from textblob import TextBlob"
   ]
  },
  {
   "cell_type": "code",
   "execution_count": 119,
   "id": "d0b7b6ca",
   "metadata": {
    "scrolled": true
   },
   "outputs": [
    {
     "data": {
      "text/html": [
       "<div>\n",
       "<style scoped>\n",
       "    .dataframe tbody tr th:only-of-type {\n",
       "        vertical-align: middle;\n",
       "    }\n",
       "\n",
       "    .dataframe tbody tr th {\n",
       "        vertical-align: top;\n",
       "    }\n",
       "\n",
       "    .dataframe thead th {\n",
       "        text-align: right;\n",
       "    }\n",
       "</style>\n",
       "<table border=\"1\" class=\"dataframe\">\n",
       "  <thead>\n",
       "    <tr style=\"text-align: right;\">\n",
       "      <th></th>\n",
       "      <th>name</th>\n",
       "      <th>review</th>\n",
       "      <th>rating</th>\n",
       "      <th>sentiment</th>\n",
       "      <th>review_2</th>\n",
       "      <th>textblob_Subjectivity</th>\n",
       "      <th>textblob_Polarity</th>\n",
       "      <th>textblob_sentiment</th>\n",
       "    </tr>\n",
       "  </thead>\n",
       "  <tbody>\n",
       "    <tr>\n",
       "      <th>145556</th>\n",
       "      <td>Kids Line Musical Mobile Sweet Dreams</td>\n",
       "      <td>i got a discount because it had been opened an...</td>\n",
       "      <td>2</td>\n",
       "      <td>negative</td>\n",
       "      <td>got discount open box torn. say miss part miss...</td>\n",
       "      <td>0.566667</td>\n",
       "      <td>0.206667</td>\n",
       "      <td>positive</td>\n",
       "    </tr>\n",
       "    <tr>\n",
       "      <th>96074</th>\n",
       "      <td>Groovy Pink Peace Sign Window Treatment Panels...</td>\n",
       "      <td>my 7 year old daughter loves pink. the design ...</td>\n",
       "      <td>4</td>\n",
       "      <td>positive</td>\n",
       "      <td>7 year old daughter love pink. design one grow...</td>\n",
       "      <td>0.587500</td>\n",
       "      <td>0.156250</td>\n",
       "      <td>positive</td>\n",
       "    </tr>\n",
       "    <tr>\n",
       "      <th>156502</th>\n",
       "      <td>Skip Hop Memory Foam Stroller Liner Blue</td>\n",
       "      <td>doesnt exactly fit my valco stroller should ha...</td>\n",
       "      <td>3</td>\n",
       "      <td>neutral</td>\n",
       "      <td>doesnt exactli fit valco stroller look purchas...</td>\n",
       "      <td>0.500000</td>\n",
       "      <td>0.450000</td>\n",
       "      <td>positive</td>\n",
       "    </tr>\n",
       "    <tr>\n",
       "      <th>100169</th>\n",
       "      <td>Infantino Wrap and Tie Baby Carrier Black Blue...</td>\n",
       "      <td>ive tried multiple carriers with my son and th...</td>\n",
       "      <td>4</td>\n",
       "      <td>positive</td>\n",
       "      <td>ive tri multipl carrier son one last one bough...</td>\n",
       "      <td>0.420833</td>\n",
       "      <td>0.038889</td>\n",
       "      <td>positive</td>\n",
       "    </tr>\n",
       "    <tr>\n",
       "      <th>60213</th>\n",
       "      <td>Tiny Love Sweet Island Dreams Mobile</td>\n",
       "      <td>if you have anything fancier than a bare bones...</td>\n",
       "      <td>1</td>\n",
       "      <td>negative</td>\n",
       "      <td>anyth fancier bare bone crib one convert toddl...</td>\n",
       "      <td>0.511111</td>\n",
       "      <td>0.047222</td>\n",
       "      <td>positive</td>\n",
       "    </tr>\n",
       "    <tr>\n",
       "      <th>83126</th>\n",
       "      <td>green sprouts  Favorite Food Bib Red Milk</td>\n",
       "      <td>i do love these favorite good bibs and have se...</td>\n",
       "      <td>2</td>\n",
       "      <td>negative</td>\n",
       "      <td>love favorit good bib sever them. howev im dis...</td>\n",
       "      <td>0.458621</td>\n",
       "      <td>0.096567</td>\n",
       "      <td>positive</td>\n",
       "    </tr>\n",
       "    <tr>\n",
       "      <th>121835</th>\n",
       "      <td>Disney Toy Story LED LightUp Decorative Pillow</td>\n",
       "      <td>this is not what i thought i was getting.  the...</td>\n",
       "      <td>1</td>\n",
       "      <td>negative</td>\n",
       "      <td>thought getting. led part tini littl light. th...</td>\n",
       "      <td>0.566667</td>\n",
       "      <td>0.070833</td>\n",
       "      <td>positive</td>\n",
       "    </tr>\n",
       "    <tr>\n",
       "      <th>130805</th>\n",
       "      <td>Motorola Digital Audio Baby Monitor with Room ...</td>\n",
       "      <td>had this monitor for almost a year. unplugged ...</td>\n",
       "      <td>1</td>\n",
       "      <td>negative</td>\n",
       "      <td>monitor almost year. unplug base unit accident...</td>\n",
       "      <td>0.393750</td>\n",
       "      <td>-0.212500</td>\n",
       "      <td>negative</td>\n",
       "    </tr>\n",
       "    <tr>\n",
       "      <th>2169</th>\n",
       "      <td>Philips Avent 3 Pack 9oz Bottles</td>\n",
       "      <td>i bought this at babies r us.  love the bottle...</td>\n",
       "      <td>2</td>\n",
       "      <td>negative</td>\n",
       "      <td>bought babi r us. love bottl leak. need correc...</td>\n",
       "      <td>0.632413</td>\n",
       "      <td>0.117641</td>\n",
       "      <td>positive</td>\n",
       "    </tr>\n",
       "    <tr>\n",
       "      <th>104298</th>\n",
       "      <td>Snoogle Chic Total Body Pillow</td>\n",
       "      <td>i have not used any other pregnancy body pillo...</td>\n",
       "      <td>4</td>\n",
       "      <td>positive</td>\n",
       "      <td>use pregnanc bodi pillow say one super comfort...</td>\n",
       "      <td>0.608333</td>\n",
       "      <td>0.021667</td>\n",
       "      <td>positive</td>\n",
       "    </tr>\n",
       "  </tbody>\n",
       "</table>\n",
       "</div>"
      ],
      "text/plain": [
       "                                                     name  \\\n",
       "145556              Kids Line Musical Mobile Sweet Dreams   \n",
       "96074   Groovy Pink Peace Sign Window Treatment Panels...   \n",
       "156502           Skip Hop Memory Foam Stroller Liner Blue   \n",
       "100169  Infantino Wrap and Tie Baby Carrier Black Blue...   \n",
       "60213                Tiny Love Sweet Island Dreams Mobile   \n",
       "83126           green sprouts  Favorite Food Bib Red Milk   \n",
       "121835     Disney Toy Story LED LightUp Decorative Pillow   \n",
       "130805  Motorola Digital Audio Baby Monitor with Room ...   \n",
       "2169                     Philips Avent 3 Pack 9oz Bottles   \n",
       "104298                     Snoogle Chic Total Body Pillow   \n",
       "\n",
       "                                                   review  rating sentiment  \\\n",
       "145556  i got a discount because it had been opened an...       2  negative   \n",
       "96074   my 7 year old daughter loves pink. the design ...       4  positive   \n",
       "156502  doesnt exactly fit my valco stroller should ha...       3   neutral   \n",
       "100169  ive tried multiple carriers with my son and th...       4  positive   \n",
       "60213   if you have anything fancier than a bare bones...       1  negative   \n",
       "83126   i do love these favorite good bibs and have se...       2  negative   \n",
       "121835  this is not what i thought i was getting.  the...       1  negative   \n",
       "130805  had this monitor for almost a year. unplugged ...       1  negative   \n",
       "2169    i bought this at babies r us.  love the bottle...       2  negative   \n",
       "104298  i have not used any other pregnancy body pillo...       4  positive   \n",
       "\n",
       "                                                 review_2  \\\n",
       "145556  got discount open box torn. say miss part miss...   \n",
       "96074   7 year old daughter love pink. design one grow...   \n",
       "156502  doesnt exactli fit valco stroller look purchas...   \n",
       "100169  ive tri multipl carrier son one last one bough...   \n",
       "60213   anyth fancier bare bone crib one convert toddl...   \n",
       "83126   love favorit good bib sever them. howev im dis...   \n",
       "121835  thought getting. led part tini littl light. th...   \n",
       "130805  monitor almost year. unplug base unit accident...   \n",
       "2169    bought babi r us. love bottl leak. need correc...   \n",
       "104298  use pregnanc bodi pillow say one super comfort...   \n",
       "\n",
       "        textblob_Subjectivity  textblob_Polarity textblob_sentiment  \n",
       "145556               0.566667           0.206667           positive  \n",
       "96074                0.587500           0.156250           positive  \n",
       "156502               0.500000           0.450000           positive  \n",
       "100169               0.420833           0.038889           positive  \n",
       "60213                0.511111           0.047222           positive  \n",
       "83126                0.458621           0.096567           positive  \n",
       "121835               0.566667           0.070833           positive  \n",
       "130805               0.393750          -0.212500           negative  \n",
       "2169                 0.632413           0.117641           positive  \n",
       "104298               0.608333           0.021667           positive  "
      ]
     },
     "execution_count": 119,
     "metadata": {},
     "output_type": "execute_result"
    }
   ],
   "source": [
    "## Create a function to get the subjectivity\n",
    "def getSubjectivity(text):\n",
    "    return TextBlob(text).sentiment.subjectivity\n",
    "\n",
    "\n",
    "## Create a function to get the polarity\n",
    "def getPolarity(text):\n",
    "    return TextBlob(text).sentiment.polarity\n",
    "\n",
    "## create a function to convert polarity score into sentiment\n",
    "def getAnalysis(score):\n",
    "    if score < 0:\n",
    "        return 'negative'\n",
    "    elif score == 0:\n",
    "        return 'neutral'\n",
    "    else:\n",
    "        return 'positive'\n",
    "\n",
    "## Create two new columns ‘Subjectivity’ & ‘Polarity’\n",
    "reviews_df['textblob_Subjectivity'] = reviews_df['review'].apply(getSubjectivity)\n",
    "reviews_df['textblob_Polarity']     = reviews_df['review'].apply(getPolarity)\n",
    "\n",
    "## create a new column to store the sentiment, identified using textblob analysis    \n",
    "reviews_df['textblob_sentiment'] = reviews_df['textblob_Polarity'].apply(getAnalysis )\n",
    "\n",
    "reviews_df.sample(10).head(10)"
   ]
  },
  {
   "cell_type": "code",
   "execution_count": 120,
   "id": "dc3a040e",
   "metadata": {},
   "outputs": [
    {
     "name": "stdout",
     "output_type": "stream",
     "text": [
      "              precision    recall  f1-score   support\n",
      "\n",
      "    negative       0.62      0.33      0.43     22522\n",
      "     neutral       0.29      0.02      0.04     22522\n",
      "    positive       0.39      0.93      0.55     22522\n",
      "\n",
      "    accuracy                           0.43     67566\n",
      "   macro avg       0.43      0.43      0.34     67566\n",
      "weighted avg       0.43      0.43      0.34     67566\n",
      "\n"
     ]
    }
   ],
   "source": [
    "print(classification_report(reviews_df.sentiment, reviews_df.textblob_sentiment))"
   ]
  },
  {
   "cell_type": "code",
   "execution_count": 121,
   "id": "320a6f3d",
   "metadata": {},
   "outputs": [],
   "source": [
    "acc = accuracy_score(reviews_df.sentiment, reviews_df.textblob_sentiment)"
   ]
  },
  {
   "cell_type": "code",
   "execution_count": 122,
   "id": "53156670",
   "metadata": {},
   "outputs": [
    {
     "name": "stdout",
     "output_type": "stream",
     "text": [
      "textblob accuracy score is:  42.61 %\n"
     ]
    }
   ],
   "source": [
    "print(\"textblob accuracy score is: \", round(acc*100, 2), '%')"
   ]
  },
  {
   "cell_type": "code",
   "execution_count": null,
   "id": "27117231",
   "metadata": {},
   "outputs": [],
   "source": []
  },
  {
   "cell_type": "markdown",
   "id": "9dc701b7",
   "metadata": {},
   "source": [
    "## Recurrent Neural Network (RNN)\n",
    "\n",
    "### reference: https://analyticsindiamag.com/how-to-implement-lstm-rnn-network-for-sentiment-analysis/"
   ]
  },
  {
   "cell_type": "code",
   "execution_count": 123,
   "id": "f1ecd0d9",
   "metadata": {},
   "outputs": [],
   "source": [
    "## import required libraries\n",
    "from keras.models import Sequential\n",
    "from keras.layers import Dense, Embedding, LSTM, SpatialDropout1D\n",
    "from keras.preprocessing.text import Tokenizer\n",
    "from keras.preprocessing.sequence import pad_sequences\n",
    "from keras.utils.np_utils import to_categorical\n",
    "\n",
    "from sklearn.model_selection import train_test_split\n",
    "from sklearn.feature_extraction.text import CountVectorizer"
   ]
  },
  {
   "cell_type": "code",
   "execution_count": 124,
   "id": "97ca2116",
   "metadata": {},
   "outputs": [
    {
     "data": {
      "text/html": [
       "<div>\n",
       "<style scoped>\n",
       "    .dataframe tbody tr th:only-of-type {\n",
       "        vertical-align: middle;\n",
       "    }\n",
       "\n",
       "    .dataframe tbody tr th {\n",
       "        vertical-align: top;\n",
       "    }\n",
       "\n",
       "    .dataframe thead th {\n",
       "        text-align: right;\n",
       "    }\n",
       "</style>\n",
       "<table border=\"1\" class=\"dataframe\">\n",
       "  <thead>\n",
       "    <tr style=\"text-align: right;\">\n",
       "      <th></th>\n",
       "      <th>review</th>\n",
       "      <th>sentiment</th>\n",
       "    </tr>\n",
       "  </thead>\n",
       "  <tbody>\n",
       "    <tr>\n",
       "      <th>181223</th>\n",
       "      <td>threading was bad it leaks. base is small easi...</td>\n",
       "      <td>negative</td>\n",
       "    </tr>\n",
       "    <tr>\n",
       "      <th>26611</th>\n",
       "      <td>i was looking for a better quality xylophone f...</td>\n",
       "      <td>negative</td>\n",
       "    </tr>\n",
       "    <tr>\n",
       "      <th>24963</th>\n",
       "      <td>i bought one of these for my daughter.  i had ...</td>\n",
       "      <td>negative</td>\n",
       "    </tr>\n",
       "    <tr>\n",
       "      <th>10615</th>\n",
       "      <td>dont be fooled this base will not work with an...</td>\n",
       "      <td>negative</td>\n",
       "    </tr>\n",
       "    <tr>\n",
       "      <th>131963</th>\n",
       "      <td>i ordered this and the item fit the descriptio...</td>\n",
       "      <td>negative</td>\n",
       "    </tr>\n",
       "  </tbody>\n",
       "</table>\n",
       "</div>"
      ],
      "text/plain": [
       "                                                   review sentiment\n",
       "181223  threading was bad it leaks. base is small easi...  negative\n",
       "26611   i was looking for a better quality xylophone f...  negative\n",
       "24963   i bought one of these for my daughter.  i had ...  negative\n",
       "10615   dont be fooled this base will not work with an...  negative\n",
       "131963  i ordered this and the item fit the descriptio...  negative"
      ]
     },
     "execution_count": 124,
     "metadata": {},
     "output_type": "execute_result"
    }
   ],
   "source": [
    "rnn_df = reviews_df[['review', 'sentiment']]\n",
    "rnn_df.head()"
   ]
  },
  {
   "cell_type": "markdown",
   "id": "60db0599",
   "metadata": {},
   "source": [
    "### label encoder for sentiment column values"
   ]
  },
  {
   "cell_type": "code",
   "execution_count": 125,
   "id": "2c80df4b",
   "metadata": {},
   "outputs": [],
   "source": [
    "from sklearn.preprocessing import LabelEncoder\n",
    "\n",
    "Le = LabelEncoder()\n",
    "\n",
    "y = Le.fit_transform(rnn_df['sentiment'])"
   ]
  },
  {
   "cell_type": "code",
   "execution_count": 126,
   "id": "aa77e5eb",
   "metadata": {},
   "outputs": [
    {
     "data": {
      "text/plain": [
       "array([0, 0, 0, 0, 0])"
      ]
     },
     "execution_count": 126,
     "metadata": {},
     "output_type": "execute_result"
    }
   ],
   "source": [
    "## store the sentiments in the labels as a list\n",
    "\n",
    "labels = y\n",
    "labels[:5]"
   ]
  },
  {
   "cell_type": "code",
   "execution_count": 127,
   "id": "e4174b38",
   "metadata": {
    "scrolled": true
   },
   "outputs": [
    {
     "data": {
      "text/plain": [
       "['threading was bad it leaks. base is small easily tips over. basically it is junk. dont bother to buy it.',\n",
       " 'i was looking for a better quality xylophone for my kids who are really into music  and i am not happy with my choice.  i wanted to avoid the tinny sounds of a cheap version but this one doesnt cut the mustard.  2 notes are the same and the tone is poor.  pretty to look at but i wouldnt recommend this for the money.',\n",
       " 'i bought one of these for my daughter.  i had it in the car seat when we left the hospital.  the nurses made me take it out.  they wouldnt let her leave the hospital with it.  they said it wasnt safe to use.  they said the it doesnt allow the seatbelt straps to lay properly over the babys shoulders making it unsafe.  i wish i would have known this before i bought it.',\n",
       " 'dont be fooled this base will not work with any eddie bauer car seat. i have the trailmaker travel system and this base didnt fit the infant car seat.',\n",
       " 'i ordered this and the item fit the description.  however the item had such an horribly toxic smell to it that we dont even want it in our home.']"
      ]
     },
     "execution_count": 127,
     "metadata": {},
     "output_type": "execute_result"
    }
   ],
   "source": [
    "## store the reviews in the texts as a list\n",
    "\n",
    "texts = rnn_df['review'].to_list()\n",
    "texts[:5]"
   ]
  },
  {
   "cell_type": "markdown",
   "id": "b928ecc9",
   "metadata": {},
   "source": [
    "## Check if the words selected can be the most useful / used words and sort based on that. that could help to improve model accuracy"
   ]
  },
  {
   "cell_type": "code",
   "execution_count": 128,
   "id": "36dcd808",
   "metadata": {},
   "outputs": [],
   "source": [
    "maxlen = 400          ## cut the reviews after 400 words\n",
    "max_features = 40000  ## consider the top 40000 words in the dataset\n",
    "embedding_dim = 400   ## dimensional vector for the word index built during tokenization"
   ]
  },
  {
   "cell_type": "code",
   "execution_count": 129,
   "id": "83288227",
   "metadata": {},
   "outputs": [
    {
     "name": "stdout",
     "output_type": "stream",
     "text": [
      "Found 57074 unique tokens.\n",
      "Shape of data tensor: (67566, 400)\n",
      "Shape of label tensor: (67566,)\n"
     ]
    }
   ],
   "source": [
    "## tokenizing the product reviews\n",
    "\n",
    "tokenizer = Tokenizer(num_words=max_features)\n",
    "tokenizer.fit_on_texts(texts)\n",
    "sequences = tokenizer.texts_to_sequences(texts)\n",
    "\n",
    "word_index = tokenizer.word_index\n",
    "print('Found %s unique tokens.' % len(word_index))\n",
    "\n",
    "data = pad_sequences(sequences, maxlen=maxlen)\n",
    "\n",
    "labels = np.asarray(labels)\n",
    "print('Shape of data tensor:', data.shape)\n",
    "print('Shape of label tensor:', labels.shape)"
   ]
  },
  {
   "cell_type": "code",
   "execution_count": 130,
   "id": "ee7adbee",
   "metadata": {},
   "outputs": [
    {
     "name": "stdout",
     "output_type": "stream",
     "text": [
      "total record count:  67566\n",
      "x_train, y_train shape:  (50674, 400) (50674,)\n",
      "x_val, y_val shape:  (16892, 400) (16892,)\n"
     ]
    }
   ],
   "source": [
    "# Split the data into a training set and a validation set\n",
    "# But first, shuffle the data, since we started from data\n",
    "# where sample are ordered (all negative first, then all positive).\n",
    "\n",
    "rec_count = data.shape[0]\n",
    "print(\"total record count: \", rec_count)\n",
    "\n",
    "## random shuffle all the data records prior to train / test split.\n",
    "## this will ensure that we have variety of data in train / test datasets.\n",
    "indices = np.arange(data.shape[0])\n",
    "np.random.shuffle(indices)\n",
    "data = data[indices]\n",
    "labels = labels[indices]\n",
    "\n",
    "## for training will use 70% data and testing will use remainder 30%\n",
    "x_train = data[:int(rec_count*0.75)]\n",
    "y_train = labels[:int(rec_count*0.75)]\n",
    "x_val = data[int(rec_count*0.75): ]\n",
    "y_val = labels[int(rec_count*0.75): ]\n",
    "\n",
    "## display the train and test data sizes\n",
    "print('x_train, y_train shape: ', x_train.shape, y_train.shape)\n",
    "print('x_val, y_val shape: ', x_val.shape, y_val.shape)"
   ]
  },
  {
   "cell_type": "markdown",
   "id": "422a09b6",
   "metadata": {},
   "source": [
    "## LSTM Model "
   ]
  },
  {
   "cell_type": "markdown",
   "id": "52a3f6df",
   "metadata": {},
   "source": [
    "### model definition"
   ]
  },
  {
   "cell_type": "code",
   "execution_count": null,
   "id": "f2acad83",
   "metadata": {},
   "outputs": [],
   "source": []
  },
  {
   "cell_type": "code",
   "execution_count": 131,
   "id": "d4ffedb9",
   "metadata": {
    "scrolled": false
   },
   "outputs": [
    {
     "name": "stdout",
     "output_type": "stream",
     "text": [
      "Model: \"sequential_2\"\n",
      "_________________________________________________________________\n",
      "Layer (type)                 Output Shape              Param #   \n",
      "=================================================================\n",
      "embedding (Embedding)        (None, None, 400)         16000000  \n",
      "_________________________________________________________________\n",
      "lstm (LSTM)                  (None, 400)               1281600   \n",
      "_________________________________________________________________\n",
      "dense_6 (Dense)              (None, 3)                 1203      \n",
      "=================================================================\n",
      "Total params: 17,282,803\n",
      "Trainable params: 17,282,803\n",
      "Non-trainable params: 0\n",
      "_________________________________________________________________\n"
     ]
    }
   ],
   "source": [
    "## LSTM model\n",
    "\n",
    "from keras.layers import LSTM\n",
    "\n",
    "model = Sequential()\n",
    "model.add(Embedding(max_features, 400))\n",
    "model.add(LSTM(400))\n",
    "model.add(Dense(3, activation='softmax'))     ## last layer - 3 - number of classes\n",
    "\n",
    "model.compile(optimizer='rmsprop',\n",
    "              loss='sparse_categorical_crossentropy',  ## loss function for more than 2 output classes\n",
    "              metrics=['acc'])\n",
    "\n",
    "model.summary()"
   ]
  },
  {
   "cell_type": "code",
   "execution_count": 132,
   "id": "7285a5cb",
   "metadata": {
    "scrolled": true
   },
   "outputs": [
    {
     "name": "stdout",
     "output_type": "stream",
     "text": [
      "Epoch 1/10\n",
      "32/32 [==============================] - 380s 12s/step - loss: 1.0385 - acc: 0.4827 - val_loss: 0.9087 - val_acc: 0.5729\n",
      "Epoch 2/10\n",
      "32/32 [==============================] - 365s 11s/step - loss: 0.9069 - acc: 0.5947 - val_loss: 0.8714 - val_acc: 0.5911\n",
      "Epoch 3/10\n",
      "32/32 [==============================] - 363s 11s/step - loss: 0.8087 - acc: 0.6421 - val_loss: 0.8081 - val_acc: 0.6180\n",
      "Epoch 4/10\n",
      "32/32 [==============================] - 361s 11s/step - loss: 0.7560 - acc: 0.6717 - val_loss: 0.8547 - val_acc: 0.6040\n",
      "Epoch 5/10\n",
      "32/32 [==============================] - 360s 11s/step - loss: 0.7114 - acc: 0.6998 - val_loss: 0.8553 - val_acc: 0.6074\n",
      "Epoch 6/10\n",
      "32/32 [==============================] - 361s 11s/step - loss: 0.6586 - acc: 0.7261 - val_loss: 0.7765 - val_acc: 0.6554\n",
      "Epoch 7/10\n",
      "32/32 [==============================] - 359s 11s/step - loss: 0.6494 - acc: 0.7401 - val_loss: 0.7621 - val_acc: 0.6685\n",
      "Epoch 8/10\n",
      "32/32 [==============================] - 359s 11s/step - loss: 0.5505 - acc: 0.7782 - val_loss: 0.8031 - val_acc: 0.6710\n",
      "Epoch 9/10\n",
      "32/32 [==============================] - 359s 11s/step - loss: 0.5306 - acc: 0.7854 - val_loss: 0.7509 - val_acc: 0.6981\n",
      "Epoch 10/10\n",
      "32/32 [==============================] - 361s 11s/step - loss: 0.4717 - acc: 0.8132 - val_loss: 0.7886 - val_acc: 0.6802\n"
     ]
    }
   ],
   "source": [
    "## model fitting\n",
    "\n",
    "history = model.fit(x_train, y_train,\n",
    "                    epochs=10,\n",
    "                    batch_size=1600,\n",
    "                    validation_data=(x_val, y_val))"
   ]
  },
  {
   "cell_type": "code",
   "execution_count": null,
   "id": "c758562a",
   "metadata": {},
   "outputs": [],
   "source": []
  },
  {
   "cell_type": "code",
   "execution_count": 133,
   "id": "385eb73a",
   "metadata": {},
   "outputs": [
    {
     "data": {
      "image/png": "[encoded data removed]",
      "text/plain": [
       "<Figure size 1152x576 with 1 Axes>"
      ]
     },
     "metadata": {
      "needs_background": "light"
     },
     "output_type": "display_data"
    },
    {
     "data": {
      "image/png": "[encoded data removed]",
      "text/plain": [
       "<Figure size 1152x576 with 1 Axes>"
      ]
     },
     "metadata": {
      "needs_background": "light"
     },
     "output_type": "display_data"
    }
   ],
   "source": [
    "## Plotting the results\n",
    "\n",
    "import matplotlib.pyplot as plt\n",
    "\n",
    "acc = history.history['acc']\n",
    "val_acc = history.history['val_acc']\n",
    "loss = history.history['loss']\n",
    "val_loss = history.history['val_loss']\n",
    "\n",
    "epochs = range(1, len(acc) + 1)\n",
    "\n",
    "plt.plot(epochs, acc, 'bo', label='Training acc')\n",
    "plt.plot(epochs, val_acc, 'b', label='Validation acc')\n",
    "plt.title('Training and validation accuracy')\n",
    "plt.legend()\n",
    "\n",
    "plt.figure()\n",
    "\n",
    "plt.plot(epochs, loss, 'bo', label='Training loss')\n",
    "plt.plot(epochs, val_loss, 'b', label='Validation loss')\n",
    "plt.title('Training and validation loss')\n",
    "plt.legend()\n",
    "\n",
    "plt.show()"
   ]
  },
  {
   "cell_type": "code",
   "execution_count": null,
   "id": "d8a36dd7",
   "metadata": {},
   "outputs": [],
   "source": []
  },
  {
   "cell_type": "markdown",
   "id": "c5990b6f",
   "metadata": {},
   "source": [
    "**As it can be observed, LSTM model training accuracy goes up to 81% during 10 epochs. However, validations accuracy hovers around 68% - 69% for the 10 epochs.**"
   ]
  },
  {
   "cell_type": "code",
   "execution_count": null,
   "id": "dc4d691a",
   "metadata": {},
   "outputs": [],
   "source": []
  },
  {
   "cell_type": "markdown",
   "id": "dc38cd72",
   "metadata": {},
   "source": [
    "# ================================================"
   ]
  },
  {
   "cell_type": "code",
   "execution_count": null,
   "id": "948fdfc1",
   "metadata": {},
   "outputs": [],
   "source": []
  },
  {
   "cell_type": "code",
   "execution_count": 134,
   "id": "044b22d0",
   "metadata": {
    "scrolled": true
   },
   "outputs": [],
   "source": [
    "# ## 1D Convnet model - train and evaluate\n",
    "# from keras import layers\n",
    "# from keras.optimizers import RMSprop\n",
    "\n",
    "# model1 = Sequential()\n",
    "# model1.add(layers.Embedding(max_features, 800, input_length=maxlen))\n",
    "# model1.add(layers.Conv1D(32, 7, activation='relu'))\n",
    "# model1.add(layers.MaxPooling1D(5))\n",
    "# model1.add(layers.Conv1D(32, 7, activation='relu'))\n",
    "# model1.add(layers.GlobalMaxPooling1D())\n",
    "# model1.add(layers.Dense(3))                         ## number of output classes\n",
    "\n",
    "# model1.summary()\n",
    "\n",
    "# model1.compile(optimizer=RMSprop(lr=1e-4),\n",
    "#               loss='sparse_categorical_crossentropy',\n",
    "#               metrics=['acc'])\n",
    "\n",
    "# history = model1.fit(x_train, y_train,\n",
    "#                     epochs=5,\n",
    "#                     batch_size=800,\n",
    "#                     validation_split=0.25)"
   ]
  }
 ],
 "metadata": {
  "kernelspec": {
   "display_name": "Python 3",
   "language": "python",
   "name": "python3"
  },
  "language_info": {
   "codemirror_mode": {
    "name": "ipython",
    "version": 3
   },
   "file_extension": ".py",
   "mimetype": "text/x-python",
   "name": "python",
   "nbconvert_exporter": "python",
   "pygments_lexer": "ipython3",
   "version": "3.8.8"
  }
 },
 "nbformat": 4,
 "nbformat_minor": 5
}
